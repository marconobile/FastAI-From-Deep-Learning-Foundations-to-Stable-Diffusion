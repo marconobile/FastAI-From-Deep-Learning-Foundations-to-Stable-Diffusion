{
 "cells": [
  {
   "cell_type": "code",
   "execution_count": 36,
   "id": "ab6cdadf",
   "metadata": {},
   "outputs": [],
   "source": [
    "import torch\n",
    "import numpy as np\n",
    "import random\n",
    "import math\n",
    "from torch import nn,tensor\n",
    "import matplotlib.pyplot as plt\n",
    "from datasets import load_dataset\n",
    "from torchmetrics.classification import MulticlassAccuracy \n",
    "import torchvision.transforms.functional as TF\n",
    "\n",
    "import fastcore.all as fc\n",
    "\n",
    "from lib import *\n",
    "\n",
    "def set_seed(seed):\n",
    "    torch.use_deterministic_algorithms(True)\n",
    "    torch.manual_seed(seed)\n",
    "    random.seed(seed)\n",
    "    np.random.seed(seed)\n",
    "    \n",
    "    \n",
    "@inplace\n",
    "def transformi(b):\n",
    "    b[x] = [TF.to_tensor(o) for o in b[x]]\n",
    "    \n",
    "\n",
    "class SingleBatchCB(Callback):\n",
    "    order = 1\n",
    "    def after_batch(self, learn):\n",
    "        raise CancelFitException\n",
    "        \n",
    "        \n",
    "def print_obj_API(obj):\n",
    "    attributes = [attr for attr in dir(obj) if not attr.startswith('__')]\n",
    "\n",
    "    # Differentiating between methods and attributes\n",
    "    methods = [attr for attr in attributes if callable(getattr(obj, attr)) and not attr.startswith('_')]\n",
    "    attributes = [attr for attr in attributes if not callable(getattr(obj, attr)) and not attr.startswith('_')]\n",
    "    \n",
    "    print(f\"{type(obj).__name__} Attributes:\", attributes)\n",
    "    print(\"\\n\")\n",
    "    print(f\"{type(obj).__name__} Methods:\", methods)\n",
    "\n",
    "def conv(ni, nf, ks=3, stride=2, act=nn.ReLU, norm=None, bias=None):\n",
    "    if bias is None: # add bias if norm is not a BatchNormLayer\n",
    "        bias = not isinstance(norm, (nn.BatchNorm1d, nn.BatchNorm2d, nn.BatchNorm3d))\n",
    "    layers = [nn.Conv2d(ni, nf, stride=stride, kernel_size=ks, padding=ks//2, bias=bias)]\n",
    "    if norm: \n",
    "        layers.append(norm(nf))\n",
    "    if act: \n",
    "        layers.append(act())\n",
    "    return nn.Sequential(*layers)\n",
    "\n",
    "def get_model(act=nn.ReLU, nfs=None, norm=None):\n",
    "    # nfs layer dims chain\n",
    "    if nfs is None:\n",
    "        nfs = [1, 8, 16, 32, 64]\n",
    "    layers = [conv(nfs[i], nfs[i+1], act=act, norm=norm) for i in range(len(nfs)-1)]\n",
    "    return nn.Sequential(*layers, \n",
    "                         conv(nfs[-1], 10, act=None, norm=False, bias = True),\n",
    "                         nn.Flatten()).to(device)             \n",
    "\n",
    "device = \"mps\" if torch.backends.mps.is_available() else 'cuda' if torch.cuda.is_available() else 'cpu'\n",
    "set_seed(42)\n",
    "metrics = MetricCB(MulticlassAccuracy(10))\n",
    "\n",
    "x,y = 'image','label'\n",
    "dsd = load_dataset(\"fashion_mnist\")\n",
    "bs = 1024\n",
    "tds = dsd.with_transform(transformi)\n",
    "dls = DataLoaders.from_datasetDict(tds, bs)\n",
    "dt = dls.train\n",
    "xb,yb = next(iter(dt))\n",
    "xb.shape,yb[:10]\n",
    "\n",
    "xmean, xstd = xb.mean(), xb.std()\n",
    "xmean, xstd # no normally distributed!\n",
    "\n",
    "def normalize(b):\n",
    "    return (b[0]-xmean)/xstd, b[1]\n",
    "\n",
    "norm = BatchTransformCB(normalize) \n",
    "\n",
    "leak = 0.1\n",
    "general_leaky_relu = partial(GeneralRelu, leak=leak, subtract=0.4)\n",
    "astats = ActivationStats(append_stats, fc.risinstance(GeneralRelu)) # get only GeneralRelu # ,\n",
    "cbs = [DeviceCB(), ProgressCB(plot=True), metrics, astats, norm] \n",
    "f_init_weights = partial(init_weights, leaky=leak)"
   ]
  },
  {
   "cell_type": "code",
   "execution_count": 37,
   "id": "4bf8ab5e",
   "metadata": {},
   "outputs": [],
   "source": [
    "# get optimizer by instanciating the learner using pyt.optim.sgd\n",
    "model = get_model(general_leaky_relu, norm=nn.BatchNorm2d).apply(f_init_weights)\n",
    "learn = TrainLearner(model, dls, F.cross_entropy, lr=3e-3, cbs=[SingleBatchCB()])\n",
    "learn.fit(1)"
   ]
  },
  {
   "cell_type": "code",
   "execution_count": 38,
   "id": "5d453000",
   "metadata": {},
   "outputs": [
    {
     "name": "stdout",
     "output_type": "stream",
     "text": [
      "SGD Attributes: ['defaults', 'param_groups', 'state']\n",
      "\n",
      "\n",
      "SGD Methods: ['OptimizerPostHook', 'OptimizerPreHook', 'add_param_group', 'load_state_dict', 'profile_hook_step', 'register_load_state_dict_post_hook', 'register_load_state_dict_pre_hook', 'register_state_dict_post_hook', 'register_state_dict_pre_hook', 'register_step_post_hook', 'register_step_pre_hook', 'state_dict', 'step', 'zero_grad']\n"
     ]
    }
   ],
   "source": [
    "optimizer = learn.opt # fit model for 1 batch s.t. just to get its opt \n",
    "print_obj_API(optimizer)"
   ]
  },
  {
   "cell_type": "code",
   "execution_count": 39,
   "id": "3de03f49",
   "metadata": {},
   "outputs": [],
   "source": [
    "# let's visualize the annealing of the lr\n",
    "def sched_lrs(sched, steps):\n",
    "    lrs = [sched.get_last_lr()]\n",
    "    for i in range(steps):\n",
    "        sched.optimizer.step()\n",
    "        sched.step()\n",
    "        lrs.append(sched.get_last_lr())\n",
    "    print(\"last 5 lrs: \", lrs[-5:])\n",
    "    plt.plot(lrs)\n",
    "    \n",
    "# The call to sched.optimizer.step() is \"required\" because\n",
    "# you should call `optimizer.step()` before `lr_scheduler.step()`.  \n",
    "# Failure to do this will result in PyTorch skipping the first value of the learning rate schedule."
   ]
  },
  {
   "cell_type": "code",
   "execution_count": 40,
   "id": "9acd645e",
   "metadata": {},
   "outputs": [],
   "source": [
    "from torch.optim.lr_scheduler import CosineAnnealingLR\n",
    "sched = CosineAnnealingLR(optimizer, 100)"
   ]
  },
  {
   "cell_type": "code",
   "execution_count": 41,
   "id": "99c66279",
   "metadata": {},
   "outputs": [
    {
     "name": "stdout",
     "output_type": "stream",
     "text": [
      "last 5 lrs:  [[2.6569123906967083e-05], [3.612485709187885e-05], [4.712525830705322e-05], [5.955947148458523e-05], [7.341522555726953e-05]]\n"
     ]
    },
    {
     "data": {
      "image/png": "[encoded data removed]",
      "text/plain": [
       "<Figure size 640x480 with 1 Axes>"
      ]
     },
     "metadata": {},
     "output_type": "display_data"
    }
   ],
   "source": [
    "sched_lrs(sched, 110) # goes up after 100 steps cuz cosine curve"
   ]
  },
  {
   "cell_type": "code",
   "execution_count": 42,
   "id": "d40e9d47",
   "metadata": {},
   "outputs": [
    {
     "name": "stdout",
     "output_type": "stream",
     "text": [
      "CosineAnnealingLR Attributes: ['T_max', 'base_lrs', 'eta_min', 'last_epoch', 'optimizer', 'verbose']\n",
      "\n",
      "\n",
      "CosineAnnealingLR Methods: ['get_last_lr', 'get_lr', 'load_state_dict', 'print_lr', 'state_dict', 'step']\n"
     ]
    }
   ],
   "source": [
    "print_obj_API(sched)"
   ]
  },
  {
   "cell_type": "code",
   "execution_count": 43,
   "id": "2add4acd",
   "metadata": {
    "scrolled": true
   },
   "outputs": [
    {
     "data": {
      "text/plain": [
       "100"
      ]
     },
     "execution_count": 43,
     "metadata": {},
     "output_type": "execute_result"
    }
   ],
   "source": [
    "sched.T_max"
   ]
  },
  {
   "cell_type": "code",
   "execution_count": 44,
   "id": "cdae4f70",
   "metadata": {},
   "outputs": [
    {
     "data": {
      "text/plain": [
       "111"
      ]
     },
     "execution_count": 44,
     "metadata": {},
     "output_type": "execute_result"
    }
   ],
   "source": [
    "sched.state_dict()[\"_step_count\"]"
   ]
  },
  {
   "cell_type": "code",
   "execution_count": 45,
   "id": "6427b776",
   "metadata": {},
   "outputs": [
    {
     "data": {
      "text/plain": [
       "{'T_max': 100,\n",
       " 'eta_min': 0,\n",
       " 'base_lrs': [0.003],\n",
       " 'last_epoch': 110,\n",
       " 'verbose': False,\n",
       " '_step_count': 111,\n",
       " '_get_lr_called_within_step': False,\n",
       " '_last_lr': [7.341522555726953e-05]}"
      ]
     },
     "execution_count": 45,
     "metadata": {},
     "output_type": "execute_result"
    }
   ],
   "source": [
    "sched.state_dict()"
   ]
  },
  {
   "cell_type": "code",
   "execution_count": 50,
   "id": "15dc2ba7",
   "metadata": {},
   "outputs": [],
   "source": [
    "from torch.optim.lr_scheduler import OneCycleLR\n",
    "sched = OneCycleLR(optimizer, max_lr =0.5, total_steps=100)"
   ]
  },
  {
   "cell_type": "code",
   "execution_count": 51,
   "id": "cec92d78",
   "metadata": {},
   "outputs": [
    {
     "name": "stdout",
     "output_type": "stream",
     "text": [
      "OneCycleLR Attributes: ['base_lrs', 'cycle_momentum', 'last_epoch', 'optimizer', 'total_steps', 'use_beta1', 'verbose']\n",
      "\n",
      "\n",
      "OneCycleLR Methods: ['anneal_func', 'get_last_lr', 'get_lr', 'load_state_dict', 'print_lr', 'state_dict', 'step']\n"
     ]
    }
   ],
   "source": [
    "print_obj_API(sched)"
   ]
  },
  {
   "cell_type": "code",
   "execution_count": 52,
   "id": "f481b234",
   "metadata": {},
   "outputs": [
    {
     "data": {
      "text/plain": [
       "{'total_steps': 100,\n",
       " '_schedule_phases': [{'end_step': 29.0,\n",
       "   'start_lr': 'initial_lr',\n",
       "   'end_lr': 'max_lr',\n",
       "   'start_momentum': 'max_momentum',\n",
       "   'end_momentum': 'base_momentum'},\n",
       "  {'end_step': 99,\n",
       "   'start_lr': 'max_lr',\n",
       "   'end_lr': 'min_lr',\n",
       "   'start_momentum': 'base_momentum',\n",
       "   'end_momentum': 'max_momentum'}],\n",
       " 'anneal_func': <function torch.optim.lr_scheduler.OneCycleLR._annealing_cos(start, end, pct)>,\n",
       " 'cycle_momentum': True,\n",
       " 'use_beta1': False,\n",
       " 'base_lrs': [0.02],\n",
       " 'last_epoch': 0,\n",
       " 'verbose': False,\n",
       " '_step_count': 1,\n",
       " '_get_lr_called_within_step': False,\n",
       " '_last_lr': [0.020000000000000018]}"
      ]
     },
     "execution_count": 52,
     "metadata": {},
     "output_type": "execute_result"
    }
   ],
   "source": [
    "sched.state_dict()"
   ]
  },
  {
   "cell_type": "code",
   "execution_count": null,
   "id": "e222e054",
   "metadata": {},
   "outputs": [],
   "source": [
    "class BaseSchedCB(Callback):\n",
    "    '''\n",
    "    scheduler: partial with ctor of the desired scheduler with T_max\n",
    "    \n",
    "    eg: BaseSchedCB(partial(CosineAnnealingLR, T_max=val))\n",
    "    \n",
    "    the scheduler is an handler of the optimizer\n",
    "    the optimizer is agnostic of the scheduler\n",
    "    '''\n",
    "    \n",
    "    def __init__(self, scheduler):\n",
    "        self.scheduler = scheduler\n",
    "        \n",
    "    def before_fit(self, learn):\n",
    "        # before fit sets gets learner optimizers and uses it to call ctor of scheduler\n",
    "        self.scheduler_optimizer = self.scheduler(learn.opt)\n",
    "    \n",
    "    def step(self, learn):\n",
    "        if learn.training and self.scheduler_optimizer.T_max <= self.scheduler_optimizer.state_dict()[\"_step_count\"]: \n",
    "            self.scheduler_optimizer.step()"
   ]
  },
  {
   "cell_type": "code",
   "execution_count": 16,
   "id": "7a1b1224",
   "metadata": {},
   "outputs": [],
   "source": [
    "class BatchSchedCB(BaseSchedCB):\n",
    "    def after_batch(self, learn): self.step(learn)"
   ]
  },
  {
   "cell_type": "code",
   "execution_count": 17,
   "id": "3589c014",
   "metadata": {},
   "outputs": [
    {
     "name": "stdout",
     "output_type": "stream",
     "text": [
      "177\n"
     ]
    }
   ],
   "source": [
    "n_epochs = 3\n",
    "tmax = n_epochs * len(dls.train)\n",
    "print(tmax)\n",
    "scheduler = partial(CosineAnnealingLR, T_max=tmax)"
   ]
  },
  {
   "cell_type": "code",
   "execution_count": 18,
   "id": "85924d28",
   "metadata": {},
   "outputs": [],
   "source": [
    "class RecorderCB(Callback):\n",
    "    '''\n",
    "    it takes as input a  keyworded list of args where each value is a func \n",
    "    that \n",
    "    \n",
    "    keyward = thing that we want to record\n",
    "    func = function to grab the keyward\n",
    "    '''\n",
    "    def __init__(self, **d): # d is a keyworded list of args\n",
    "        self.d = d\n",
    "        \n",
    "    def before_fit(self, learn):\n",
    "        self.recs = {k:[] for k in self.d}\n",
    "        # here we record only stuff related to the first param group\n",
    "        self.param_group = learn.opt.param_groups[0] \n",
    "        \n",
    "    def after_batch(self, learn):\n",
    "        if not learn.training:\n",
    "            return\n",
    "        \n",
    "        for k, v in self.d.items():\n",
    "            self.recs[k].append(v(self))\n",
    "            \n",
    "    def plot(self):\n",
    "        for k, v in self.recs.items():\n",
    "            plt.plot(v, label=k)\n",
    "            plt.legend()\n",
    "            plt.show()\n",
    "        "
   ]
  },
  {
   "cell_type": "code",
   "execution_count": 19,
   "id": "a3949800",
   "metadata": {},
   "outputs": [],
   "source": [
    "def _lr(cb):\n",
    "    return cb.param_group[\"lr\"] # cb is the instance of RecorderCB"
   ]
  },
  {
   "cell_type": "markdown",
   "id": "59ff7653",
   "metadata": {},
   "source": [
    "We need to tell the scheduler the max ammount of opt.step() we are going to perform. So we take n_epochs * number_of_mini_batches_in_train_data."
   ]
  },
  {
   "cell_type": "code",
   "execution_count": 20,
   "id": "12344cee",
   "metadata": {},
   "outputs": [
    {
     "data": {
      "text/html": [
       "\n",
       "<style>\n",
       "    /* Turns off some styling */\n",
       "    progress {\n",
       "        /* gets rid of default border in Firefox and Opera. */\n",
       "        border: none;\n",
       "        /* Needs to be in here for Safari polyfill so background images work as expected. */\n",
       "        background-size: auto;\n",
       "    }\n",
       "    progress:not([value]), progress:not([value])::-webkit-progress-bar {\n",
       "        background: repeating-linear-gradient(45deg, #7e7e7e, #7e7e7e 10px, #5c5c5c 10px, #5c5c5c 20px);\n",
       "    }\n",
       "    .progress-bar-interrupted, .progress-bar-interrupted::-webkit-progress-bar {\n",
       "        background: #F44336;\n",
       "    }\n",
       "</style>\n"
      ],
      "text/plain": [
       "<IPython.core.display.HTML object>"
      ]
     },
     "metadata": {},
     "output_type": "display_data"
    },
    {
     "data": {
      "text/html": [
       "<table border=\"1\" class=\"dataframe\">\n",
       "  <thead>\n",
       "    <tr style=\"text-align: left;\">\n",
       "      <th>MulticlassAccuracy</th>\n",
       "      <th>loss</th>\n",
       "      <th>epoch</th>\n",
       "      <th>train</th>\n",
       "    </tr>\n",
       "  </thead>\n",
       "  <tbody>\n",
       "    <tr>\n",
       "      <td>0.765</td>\n",
       "      <td>0.669</td>\n",
       "      <td>0</td>\n",
       "      <td>train</td>\n",
       "    </tr>\n",
       "    <tr>\n",
       "      <td>0.828</td>\n",
       "      <td>0.460</td>\n",
       "      <td>0</td>\n",
       "      <td>eval</td>\n",
       "    </tr>\n",
       "    <tr>\n",
       "      <td>0.862</td>\n",
       "      <td>0.381</td>\n",
       "      <td>1</td>\n",
       "      <td>train</td>\n",
       "    </tr>\n",
       "    <tr>\n",
       "      <td>0.856</td>\n",
       "      <td>0.393</td>\n",
       "      <td>1</td>\n",
       "      <td>eval</td>\n",
       "    </tr>\n",
       "    <tr>\n",
       "      <td>0.881</td>\n",
       "      <td>0.330</td>\n",
       "      <td>2</td>\n",
       "      <td>train</td>\n",
       "    </tr>\n",
       "    <tr>\n",
       "      <td>0.868</td>\n",
       "      <td>0.362</td>\n",
       "      <td>2</td>\n",
       "      <td>eval</td>\n",
       "    </tr>\n",
       "  </tbody>\n",
       "</table>"
      ],
      "text/plain": [
       "<IPython.core.display.HTML object>"
      ]
     },
     "metadata": {},
     "output_type": "display_data"
    },
    {
     "data": {
      "image/png": "[encoded data removed]",
      "text/plain": [
       "<Figure size 600x400 with 1 Axes>"
      ]
     },
     "metadata": {},
     "output_type": "display_data"
    }
   ],
   "source": [
    "rec = RecorderCB(lr=_lr)\n",
    "batchSched = BatchSchedCB(scheduler)\n",
    "\n",
    "model = get_model(general_leaky_relu, norm=nn.BatchNorm2d).apply(f_init_weights)\n",
    "cbs = [DeviceCB(), metrics, ProgressCB(plot=True), astats, batchSched, rec]\n",
    "learn = TrainLearner(model, dls, F.cross_entropy, lr=3e-3, cbs=cbs, opt_func=optim.Adam)\n",
    "learn.fit(3)"
   ]
  },
  {
   "cell_type": "code",
   "execution_count": 21,
   "id": "d2eaf2e7",
   "metadata": {},
   "outputs": [
    {
     "data": {
      "image/png": "[encoded data removed]",
      "text/plain": [
       "<Figure size 640x480 with 1 Axes>"
      ]
     },
     "metadata": {},
     "output_type": "display_data"
    }
   ],
   "source": [
    "rec.plot()"
   ]
  },
  {
   "cell_type": "markdown",
   "id": "ff96056e",
   "metadata": {},
   "source": [
    "# Build Custom Scheduler"
   ]
  },
  {
   "cell_type": "code",
   "execution_count": 22,
   "id": "5e182adc",
   "metadata": {},
   "outputs": [],
   "source": [
    "def getLr(lr_start, steps, i):\n",
    "    return lr_start/2 * (1 + math.cos(i*math.pi/steps))\n",
    "\n",
    "steps = 100\n",
    "init_lr = 0.2\n",
    "list_lrs = [init_lr]\n",
    "step = partial(getLr, init_lr, steps)\n",
    "\n",
    "for i in range(steps):\n",
    "    list_lrs.append(step(i))    \n",
    "\n",
    "#plt.plot(list_lrs)"
   ]
  },
  {
   "cell_type": "code",
   "execution_count": 29,
   "id": "62f20cae",
   "metadata": {
    "scrolled": true
   },
   "outputs": [],
   "source": [
    "class CosAnnealerScheduler():x\n",
    "    \n",
    "    '''\n",
    "    I should implement sched.state_dict() here\n",
    "    '''\n",
    "    \n",
    "    def __init__(self, optimizer, T_max):\n",
    "        self.optimizer = optimizer\n",
    "        self.T_max = T_max\n",
    "        self.step_couter = 0\n",
    "        self.last_lr = optimizer.param_groups[0]['lr']\n",
    "        self.lr_start = optimizer.param_groups[0]['lr']\n",
    "        \n",
    "    def get_last_lr(self):\n",
    "        return self.optimizer.param_groups[0]['lr']   \n",
    "    \n",
    "    def step(self):\n",
    "        for param_group in self.optimizer.param_groups:\n",
    "            param_group['lr'] = self.lr_start / 2 * (1 + math.cos(self.step_couter * math.pi / self.T_max))\n",
    "        self.step_couter+=1"
   ]
  },
  {
   "cell_type": "code",
   "execution_count": 30,
   "id": "aa6fe0c6",
   "metadata": {},
   "outputs": [
    {
     "data": {
      "text/plain": [
       "0.003"
      ]
     },
     "execution_count": 30,
     "metadata": {},
     "output_type": "execute_result"
    }
   ],
   "source": [
    "# reset optimizer\n",
    "model = get_model(general_leaky_relu, norm=nn.BatchNorm2d).apply(f_init_weights)\n",
    "learn = TrainLearner(model, dls, F.cross_entropy, lr=3e-3, cbs=[SingleBatchCB()])\n",
    "learn.fit(1)\n",
    "optimizer = learn.opt # fit model for 1 batch s.t. just to get its opt\n",
    "\n",
    "test = CosAnnealerScheduler(optimizer, 100)\n",
    "test.get_last_lr()"
   ]
  },
  {
   "cell_type": "code",
   "execution_count": 31,
   "id": "b2824d1a",
   "metadata": {},
   "outputs": [
    {
     "name": "stdout",
     "output_type": "stream",
     "text": [
      "last 5 lrs:  [1.8467489107293344e-05, 2.6569123906967087e-05, 3.612485709187885e-05, 4.712525830705322e-05, 5.955947148458524e-05]\n"
     ]
    },
    {
     "data": {
      "image/png": "[encoded data removed]",
      "text/plain": [
       "<Figure size 640x480 with 1 Axes>"
      ]
     },
     "metadata": {},
     "output_type": "display_data"
    }
   ],
   "source": [
    "sched_lrs(test, 110) # goes up after 100 steps cuz cosine curve"
   ]
  },
  {
   "cell_type": "code",
   "execution_count": 32,
   "id": "4b61fb5c",
   "metadata": {},
   "outputs": [
    {
     "name": "stdout",
     "output_type": "stream",
     "text": [
      "last 5 lrs:  [1.8467489107293344e-05, 1.1827948028283186e-05, 6.657053095380006e-06, 2.9599073575926615e-06, 7.401594514025999e-07]\n"
     ]
    },
    {
     "data": {
      "image/png": "[encoded data removed]",
      "text/plain": [
       "<Figure size 640x480 with 1 Axes>"
      ]
     },
     "metadata": {},
     "output_type": "display_data"
    }
   ],
   "source": [
    "# reset optimizer\n",
    "model = get_model(general_leaky_relu, norm=nn.BatchNorm2d).apply(f_init_weights)\n",
    "learn = TrainLearner(model, dls, F.cross_entropy, lr=3e-3, cbs=[SingleBatchCB()])\n",
    "learn.fit(1)\n",
    "optimizer = learn.opt # fit model for 1 batch s.t. just to get its opt\n",
    "\n",
    "test = CosAnnealerScheduler(optimizer, 100)\n",
    "test.get_last_lr()\n",
    "sched_lrs(test, 300) # goes up after 100 steps cuz cosine curve"
   ]
  },
  {
   "cell_type": "markdown",
   "id": "7aed10f6",
   "metadata": {},
   "source": [
    "# Test custom scheduler"
   ]
  },
  {
   "cell_type": "code",
   "execution_count": 33,
   "id": "9c61840d",
   "metadata": {},
   "outputs": [
    {
     "name": "stdout",
     "output_type": "stream",
     "text": [
      "177\n"
     ]
    }
   ],
   "source": [
    "n_epochs = 3\n",
    "tmax = n_epochs * len(dls.train)\n",
    "print(tmax)\n",
    "scheduler = partial(CosAnnealerScheduler, T_max=tmax)"
   ]
  },
  {
   "cell_type": "code",
   "execution_count": 34,
   "id": "54c38dc0",
   "metadata": {},
   "outputs": [
    {
     "data": {
      "text/html": [
       "\n",
       "<style>\n",
       "    /* Turns off some styling */\n",
       "    progress {\n",
       "        /* gets rid of default border in Firefox and Opera. */\n",
       "        border: none;\n",
       "        /* Needs to be in here for Safari polyfill so background images work as expected. */\n",
       "        background-size: auto;\n",
       "    }\n",
       "    progress:not([value]), progress:not([value])::-webkit-progress-bar {\n",
       "        background: repeating-linear-gradient(45deg, #7e7e7e, #7e7e7e 10px, #5c5c5c 10px, #5c5c5c 20px);\n",
       "    }\n",
       "    .progress-bar-interrupted, .progress-bar-interrupted::-webkit-progress-bar {\n",
       "        background: #F44336;\n",
       "    }\n",
       "</style>\n"
      ],
      "text/plain": [
       "<IPython.core.display.HTML object>"
      ]
     },
     "metadata": {},
     "output_type": "display_data"
    },
    {
     "data": {
      "text/html": [
       "\n",
       "    <div>\n",
       "      <progress value='0' class='' max='3' style='width:300px; height:20px; vertical-align: middle;'></progress>\n",
       "      0.00% [0/3 00:00&lt;?]\n",
       "    </div>\n",
       "    \n",
       "\n",
       "\n",
       "    <div>\n",
       "      <progress value='0' class='' max='59' style='width:300px; height:20px; vertical-align: middle;'></progress>\n",
       "      0.00% [0/59 00:00&lt;?]\n",
       "    </div>\n",
       "    "
      ],
      "text/plain": [
       "<IPython.core.display.HTML object>"
      ]
     },
     "metadata": {},
     "output_type": "display_data"
    },
    {
     "ename": "AttributeError",
     "evalue": "'CosAnnealerScheduler' object has no attribute 'state_dict'",
     "output_type": "error",
     "traceback": [
      "\u001b[1;31m---------------------------------------------------------------------------\u001b[0m",
      "\u001b[1;31mAttributeError\u001b[0m                            Traceback (most recent call last)",
      "Cell \u001b[1;32mIn[34], line 7\u001b[0m\n\u001b[0;32m      5\u001b[0m cbs \u001b[38;5;241m=\u001b[39m [DeviceCB(), metrics, ProgressCB(plot\u001b[38;5;241m=\u001b[39m\u001b[38;5;28;01mTrue\u001b[39;00m), astats, batchSched, rec]\n\u001b[0;32m      6\u001b[0m learn \u001b[38;5;241m=\u001b[39m TrainLearner(model, dls, F\u001b[38;5;241m.\u001b[39mcross_entropy, lr\u001b[38;5;241m=\u001b[39m\u001b[38;5;241m3e-3\u001b[39m, cbs\u001b[38;5;241m=\u001b[39mcbs, opt_func\u001b[38;5;241m=\u001b[39moptim\u001b[38;5;241m.\u001b[39mAdam)\n\u001b[1;32m----> 7\u001b[0m learn\u001b[38;5;241m.\u001b[39mfit(\u001b[38;5;241m3\u001b[39m)\n",
      "File \u001b[1;32m~\\Desktop\\pyt\\lib.py:291\u001b[0m, in \u001b[0;36mLearner.fit\u001b[1;34m(self, n_epochs, train, valid, cbs, lr)\u001b[0m\n\u001b[0;32m    289\u001b[0m     \u001b[38;5;28;01mif\u001b[39;00m \u001b[38;5;28mself\u001b[39m\u001b[38;5;241m.\u001b[39mopt_func:\n\u001b[0;32m    290\u001b[0m         \u001b[38;5;28mself\u001b[39m\u001b[38;5;241m.\u001b[39mopt \u001b[38;5;241m=\u001b[39m \u001b[38;5;28mself\u001b[39m\u001b[38;5;241m.\u001b[39mopt_func(\u001b[38;5;28mself\u001b[39m\u001b[38;5;241m.\u001b[39mmodel\u001b[38;5;241m.\u001b[39mparameters(), lr)\n\u001b[1;32m--> 291\u001b[0m     \u001b[38;5;28mself\u001b[39m\u001b[38;5;241m.\u001b[39m_fit(train, valid) \u001b[38;5;66;03m# -> train, valid -> bools\u001b[39;00m\n\u001b[0;32m    292\u001b[0m \u001b[38;5;28;01mfinally\u001b[39;00m:\n\u001b[0;32m    293\u001b[0m     \u001b[38;5;28;01mfor\u001b[39;00m cb \u001b[38;5;129;01min\u001b[39;00m cbs:\n",
      "File \u001b[1;32m~\\Desktop\\pyt\\lib.py:220\u001b[0m, in \u001b[0;36mwith_cbs.__call__.<locals>._f\u001b[1;34m(learner, *args, **kwargs)\u001b[0m\n\u001b[0;32m    218\u001b[0m \u001b[38;5;28;01mtry\u001b[39;00m:\n\u001b[0;32m    219\u001b[0m     learner\u001b[38;5;241m.\u001b[39mcallback(\u001b[38;5;124mf\u001b[39m\u001b[38;5;124m'\u001b[39m\u001b[38;5;124mbefore_\u001b[39m\u001b[38;5;132;01m{\u001b[39;00m\u001b[38;5;28mself\u001b[39m\u001b[38;5;241m.\u001b[39mmethod_name\u001b[38;5;132;01m}\u001b[39;00m\u001b[38;5;124m'\u001b[39m)\n\u001b[1;32m--> 220\u001b[0m     f(learner, \u001b[38;5;241m*\u001b[39margs, \u001b[38;5;241m*\u001b[39m\u001b[38;5;241m*\u001b[39mkwargs)\n\u001b[0;32m    221\u001b[0m     learner\u001b[38;5;241m.\u001b[39mcallback(\u001b[38;5;124mf\u001b[39m\u001b[38;5;124m'\u001b[39m\u001b[38;5;124mafter_\u001b[39m\u001b[38;5;132;01m{\u001b[39;00m\u001b[38;5;28mself\u001b[39m\u001b[38;5;241m.\u001b[39mmethod_name\u001b[38;5;132;01m}\u001b[39;00m\u001b[38;5;124m'\u001b[39m)\n\u001b[0;32m    222\u001b[0m \u001b[38;5;28;01mexcept\u001b[39;00m \u001b[38;5;28mglobals\u001b[39m()[\u001b[38;5;124mf\u001b[39m\u001b[38;5;124m'\u001b[39m\u001b[38;5;124mCancel\u001b[39m\u001b[38;5;132;01m{\u001b[39;00m\u001b[38;5;28mself\u001b[39m\u001b[38;5;241m.\u001b[39mmethod_name\u001b[38;5;241m.\u001b[39mtitle()\u001b[38;5;132;01m}\u001b[39;00m\u001b[38;5;124mException\u001b[39m\u001b[38;5;124m'\u001b[39m]: \u001b[38;5;66;03m# globals() = dict of global symbols\u001b[39;00m\n",
      "File \u001b[1;32m~\\Desktop\\pyt\\lib.py:305\u001b[0m, in \u001b[0;36mLearner._fit\u001b[1;34m(self, train, valid)\u001b[0m\n\u001b[0;32m    303\u001b[0m \u001b[38;5;28;01mfor\u001b[39;00m \u001b[38;5;28mself\u001b[39m\u001b[38;5;241m.\u001b[39mepoch \u001b[38;5;129;01min\u001b[39;00m \u001b[38;5;28mself\u001b[39m\u001b[38;5;241m.\u001b[39mepochs:\n\u001b[0;32m    304\u001b[0m     \u001b[38;5;28;01mif\u001b[39;00m train:\n\u001b[1;32m--> 305\u001b[0m         \u001b[38;5;28mself\u001b[39m\u001b[38;5;241m.\u001b[39mone_epoch(\u001b[38;5;28;01mTrue\u001b[39;00m)\n\u001b[0;32m    306\u001b[0m     \u001b[38;5;28;01mif\u001b[39;00m valid:\n\u001b[0;32m    307\u001b[0m         torch\u001b[38;5;241m.\u001b[39mno_grad()(\u001b[38;5;28mself\u001b[39m\u001b[38;5;241m.\u001b[39mone_epoch)(\u001b[38;5;28;01mFalse\u001b[39;00m)\n",
      "File \u001b[1;32m~\\Desktop\\pyt\\lib.py:312\u001b[0m, in \u001b[0;36mLearner.one_epoch\u001b[1;34m(self, isTraining)\u001b[0m\n\u001b[0;32m    310\u001b[0m \u001b[38;5;28mself\u001b[39m\u001b[38;5;241m.\u001b[39mmodel\u001b[38;5;241m.\u001b[39mtrain(isTraining)\n\u001b[0;32m    311\u001b[0m \u001b[38;5;28mself\u001b[39m\u001b[38;5;241m.\u001b[39mdl \u001b[38;5;241m=\u001b[39m \u001b[38;5;28mself\u001b[39m\u001b[38;5;241m.\u001b[39mdls\u001b[38;5;241m.\u001b[39mtrain \u001b[38;5;28;01mif\u001b[39;00m isTraining \u001b[38;5;28;01melse\u001b[39;00m \u001b[38;5;28mself\u001b[39m\u001b[38;5;241m.\u001b[39mdls\u001b[38;5;241m.\u001b[39mvalid\n\u001b[1;32m--> 312\u001b[0m \u001b[38;5;28mself\u001b[39m\u001b[38;5;241m.\u001b[39m_one_epoch()\n",
      "File \u001b[1;32m~\\Desktop\\pyt\\lib.py:220\u001b[0m, in \u001b[0;36mwith_cbs.__call__.<locals>._f\u001b[1;34m(learner, *args, **kwargs)\u001b[0m\n\u001b[0;32m    218\u001b[0m \u001b[38;5;28;01mtry\u001b[39;00m:\n\u001b[0;32m    219\u001b[0m     learner\u001b[38;5;241m.\u001b[39mcallback(\u001b[38;5;124mf\u001b[39m\u001b[38;5;124m'\u001b[39m\u001b[38;5;124mbefore_\u001b[39m\u001b[38;5;132;01m{\u001b[39;00m\u001b[38;5;28mself\u001b[39m\u001b[38;5;241m.\u001b[39mmethod_name\u001b[38;5;132;01m}\u001b[39;00m\u001b[38;5;124m'\u001b[39m)\n\u001b[1;32m--> 220\u001b[0m     f(learner, \u001b[38;5;241m*\u001b[39margs, \u001b[38;5;241m*\u001b[39m\u001b[38;5;241m*\u001b[39mkwargs)\n\u001b[0;32m    221\u001b[0m     learner\u001b[38;5;241m.\u001b[39mcallback(\u001b[38;5;124mf\u001b[39m\u001b[38;5;124m'\u001b[39m\u001b[38;5;124mafter_\u001b[39m\u001b[38;5;132;01m{\u001b[39;00m\u001b[38;5;28mself\u001b[39m\u001b[38;5;241m.\u001b[39mmethod_name\u001b[38;5;132;01m}\u001b[39;00m\u001b[38;5;124m'\u001b[39m)\n\u001b[0;32m    222\u001b[0m \u001b[38;5;28;01mexcept\u001b[39;00m \u001b[38;5;28mglobals\u001b[39m()[\u001b[38;5;124mf\u001b[39m\u001b[38;5;124m'\u001b[39m\u001b[38;5;124mCancel\u001b[39m\u001b[38;5;132;01m{\u001b[39;00m\u001b[38;5;28mself\u001b[39m\u001b[38;5;241m.\u001b[39mmethod_name\u001b[38;5;241m.\u001b[39mtitle()\u001b[38;5;132;01m}\u001b[39;00m\u001b[38;5;124mException\u001b[39m\u001b[38;5;124m'\u001b[39m]: \u001b[38;5;66;03m# globals() = dict of global symbols\u001b[39;00m\n",
      "File \u001b[1;32m~\\Desktop\\pyt\\lib.py:317\u001b[0m, in \u001b[0;36mLearner._one_epoch\u001b[1;34m(self)\u001b[0m\n\u001b[0;32m    314\u001b[0m \u001b[38;5;129m@with_cbs\u001b[39m(\u001b[38;5;124m'\u001b[39m\u001b[38;5;124mepoch\u001b[39m\u001b[38;5;124m'\u001b[39m)\n\u001b[0;32m    315\u001b[0m \u001b[38;5;28;01mdef\u001b[39;00m \u001b[38;5;21m_one_epoch\u001b[39m(\u001b[38;5;28mself\u001b[39m):\n\u001b[0;32m    316\u001b[0m     \u001b[38;5;28;01mfor\u001b[39;00m \u001b[38;5;28mself\u001b[39m\u001b[38;5;241m.\u001b[39miter,\u001b[38;5;28mself\u001b[39m\u001b[38;5;241m.\u001b[39mbatch \u001b[38;5;129;01min\u001b[39;00m \u001b[38;5;28menumerate\u001b[39m(\u001b[38;5;28mself\u001b[39m\u001b[38;5;241m.\u001b[39mdl):\n\u001b[1;32m--> 317\u001b[0m         \u001b[38;5;28mself\u001b[39m\u001b[38;5;241m.\u001b[39m_one_batch()\n",
      "File \u001b[1;32m~\\Desktop\\pyt\\lib.py:221\u001b[0m, in \u001b[0;36mwith_cbs.__call__.<locals>._f\u001b[1;34m(learner, *args, **kwargs)\u001b[0m\n\u001b[0;32m    219\u001b[0m     learner\u001b[38;5;241m.\u001b[39mcallback(\u001b[38;5;124mf\u001b[39m\u001b[38;5;124m'\u001b[39m\u001b[38;5;124mbefore_\u001b[39m\u001b[38;5;132;01m{\u001b[39;00m\u001b[38;5;28mself\u001b[39m\u001b[38;5;241m.\u001b[39mmethod_name\u001b[38;5;132;01m}\u001b[39;00m\u001b[38;5;124m'\u001b[39m)\n\u001b[0;32m    220\u001b[0m     f(learner, \u001b[38;5;241m*\u001b[39margs, \u001b[38;5;241m*\u001b[39m\u001b[38;5;241m*\u001b[39mkwargs)\n\u001b[1;32m--> 221\u001b[0m     learner\u001b[38;5;241m.\u001b[39mcallback(\u001b[38;5;124mf\u001b[39m\u001b[38;5;124m'\u001b[39m\u001b[38;5;124mafter_\u001b[39m\u001b[38;5;132;01m{\u001b[39;00m\u001b[38;5;28mself\u001b[39m\u001b[38;5;241m.\u001b[39mmethod_name\u001b[38;5;132;01m}\u001b[39;00m\u001b[38;5;124m'\u001b[39m)\n\u001b[0;32m    222\u001b[0m \u001b[38;5;28;01mexcept\u001b[39;00m \u001b[38;5;28mglobals\u001b[39m()[\u001b[38;5;124mf\u001b[39m\u001b[38;5;124m'\u001b[39m\u001b[38;5;124mCancel\u001b[39m\u001b[38;5;132;01m{\u001b[39;00m\u001b[38;5;28mself\u001b[39m\u001b[38;5;241m.\u001b[39mmethod_name\u001b[38;5;241m.\u001b[39mtitle()\u001b[38;5;132;01m}\u001b[39;00m\u001b[38;5;124mException\u001b[39m\u001b[38;5;124m'\u001b[39m]: \u001b[38;5;66;03m# globals() = dict of global symbols\u001b[39;00m\n\u001b[0;32m    223\u001b[0m     \u001b[38;5;28;01mpass\u001b[39;00m \u001b[38;5;66;03m# idea: if we raise a particular exception we have control of Learner.method_name() execution\u001b[39;00m\n",
      "File \u001b[1;32m~\\Desktop\\pyt\\lib.py:267\u001b[0m, in \u001b[0;36mLearner.callback\u001b[1;34m(self, method_name)\u001b[0m\n\u001b[0;32m    265\u001b[0m method \u001b[38;5;241m=\u001b[39m \u001b[38;5;28mgetattr\u001b[39m(cb, method_name, \u001b[38;5;28;01mNone\u001b[39;00m)\n\u001b[0;32m    266\u001b[0m \u001b[38;5;28;01mif\u001b[39;00m method \u001b[38;5;129;01mis\u001b[39;00m \u001b[38;5;129;01mnot\u001b[39;00m \u001b[38;5;28;01mNone\u001b[39;00m:\n\u001b[1;32m--> 267\u001b[0m     method(\u001b[38;5;28mself\u001b[39m)\n",
      "Cell \u001b[1;32mIn[16], line 2\u001b[0m, in \u001b[0;36mBatchSchedCB.after_batch\u001b[1;34m(self, learn)\u001b[0m\n\u001b[0;32m      1\u001b[0m \u001b[38;5;28;01mclass\u001b[39;00m \u001b[38;5;21;01mBatchSchedCB\u001b[39;00m(BaseSchedCB):\n\u001b[1;32m----> 2\u001b[0m     \u001b[38;5;28;01mdef\u001b[39;00m \u001b[38;5;21mafter_batch\u001b[39m(\u001b[38;5;28mself\u001b[39m, learn): \u001b[38;5;28mself\u001b[39m\u001b[38;5;241m.\u001b[39mstep(learn)\n",
      "Cell \u001b[1;32mIn[10], line 19\u001b[0m, in \u001b[0;36mBaseSchedCB.step\u001b[1;34m(self, learn)\u001b[0m\n\u001b[0;32m     18\u001b[0m \u001b[38;5;28;01mdef\u001b[39;00m \u001b[38;5;21mstep\u001b[39m(\u001b[38;5;28mself\u001b[39m, learn):\n\u001b[1;32m---> 19\u001b[0m     \u001b[38;5;28;01mif\u001b[39;00m learn\u001b[38;5;241m.\u001b[39mtraining \u001b[38;5;129;01mand\u001b[39;00m \u001b[38;5;28mself\u001b[39m\u001b[38;5;241m.\u001b[39mscheduler_optimizer\u001b[38;5;241m.\u001b[39mT_max \u001b[38;5;241m<\u001b[39m \u001b[38;5;28mself\u001b[39m\u001b[38;5;241m.\u001b[39mscheduler_optimizer\u001b[38;5;241m.\u001b[39mstate_dict()[\u001b[38;5;124m\"\u001b[39m\u001b[38;5;124m_step_count\u001b[39m\u001b[38;5;124m\"\u001b[39m]: \n\u001b[0;32m     20\u001b[0m         \u001b[38;5;28mself\u001b[39m\u001b[38;5;241m.\u001b[39mscheduler_optimizer\u001b[38;5;241m.\u001b[39mstep()\n",
      "\u001b[1;31mAttributeError\u001b[0m: 'CosAnnealerScheduler' object has no attribute 'state_dict'"
     ]
    }
   ],
   "source": [
    "rec = RecorderCB(lr=_lr)\n",
    "batchSched = BatchSchedCB(scheduler)\n",
    "\n",
    "model = get_model(general_leaky_relu, norm=nn.BatchNorm2d).apply(f_init_weights)\n",
    "cbs = [DeviceCB(), metrics, ProgressCB(plot=True), astats, batchSched, rec]\n",
    "learn = TrainLearner(model, dls, F.cross_entropy, lr=3e-3, cbs=cbs, opt_func=optim.Adam)\n",
    "learn.fit(3)"
   ]
  },
  {
   "cell_type": "code",
   "execution_count": null,
   "id": "985d4748",
   "metadata": {},
   "outputs": [],
   "source": [
    "rec.plot()"
   ]
  },
  {
   "cell_type": "code",
   "execution_count": null,
   "id": "e48e6985",
   "metadata": {},
   "outputs": [],
   "source": [
    "# reset optimizer\n",
    "model = get_model(general_leaky_relu, norm=nn.BatchNorm2d).apply(f_init_weights)\n",
    "learn = TrainLearner(model, dls, F.cross_entropy, lr=3e-3, cbs=[SingleBatchCB()])\n",
    "learn.fit(1)\n",
    "optimizer = learn.opt # fit model for 1 batch s.t. just to get its opt"
   ]
  },
  {
   "cell_type": "code",
   "execution_count": null,
   "id": "a6e1fc8f",
   "metadata": {},
   "outputs": [],
   "source": [
    "print_obj_API(optimizer)"
   ]
  },
  {
   "cell_type": "code",
   "execution_count": null,
   "id": "b86aae66",
   "metadata": {},
   "outputs": [],
   "source": [
    "for g in optimizer.param_groups:\n",
    "    print(g.keys())"
   ]
  },
  {
   "cell_type": "markdown",
   "id": "775717dd",
   "metadata": {},
   "source": [
    "Small discrepancy but i think ok"
   ]
  },
  {
   "cell_type": "code",
   "execution_count": null,
   "id": "480f6ec8",
   "metadata": {},
   "outputs": [],
   "source": [
    "l2= [[2.6569123906967083e-05], [3.612485709187885e-05], [4.712525830705322e-05], [5.955947148458523e-05], [7.341522555726953e-05]]\n",
    "\n",
    "[round(i[0],4) for i in l2]"
   ]
  },
  {
   "cell_type": "code",
   "execution_count": null,
   "id": "2d0b17f5",
   "metadata": {},
   "outputs": [],
   "source": [
    "l1 = [1.8467489107293344e-05, 2.6569123906967087e-05, 3.612485709187885e-05, 4.712525830705322e-05, 5.955947148458524e-05]\n",
    "[round(i,4) for i in l1]"
   ]
  }
 ],
 "metadata": {
  "kernelspec": {
   "display_name": "Python 3 (ipykernel)",
   "language": "python",
   "name": "python3"
  },
  "language_info": {
   "codemirror_mode": {
    "name": "ipython",
    "version": 3
   },
   "file_extension": ".py",
   "mimetype": "text/x-python",
   "name": "python",
   "nbconvert_exporter": "python",
   "pygments_lexer": "ipython3",
   "version": "3.11.5"
  }
 },
 "nbformat": 4,
 "nbformat_minor": 5
}
