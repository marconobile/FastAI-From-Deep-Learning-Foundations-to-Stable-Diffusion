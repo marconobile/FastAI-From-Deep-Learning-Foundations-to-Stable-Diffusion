{
 "cells": [
  {
   "cell_type": "markdown",
   "id": "74532c71",
   "metadata": {},
   "source": [
    "# This jupyter is self contained"
   ]
  },
  {
   "cell_type": "code",
   "execution_count": 1,
   "id": "5245f83c",
   "metadata": {},
   "outputs": [],
   "source": [
    "#| default_exp learner"
   ]
  },
  {
   "cell_type": "code",
   "execution_count": 2,
   "id": "16853cbc",
   "metadata": {},
   "outputs": [],
   "source": [
    "#|export\n",
    "import math,torch,matplotlib.pyplot as plt\n",
    "import fastcore.all as fc\n",
    "from collections.abc import Mapping\n",
    "from operator import attrgetter\n",
    "from functools import partial\n",
    "from copy import copy\n",
    "from torch import optim\n",
    "import torch.nn.functional as F\n",
    "import matplotlib as mpl\n",
    "import torchvision.transforms.functional as TF\n",
    "from torch import nn, tensor\n",
    "from datasets import load_dataset\n",
    "from torch.utils.data import DataLoader\n",
    "from torchmetrics.classification import MulticlassAccuracy\n",
    "from torchmetrics.aggregation import MeanMetric\n",
    "from operator import itemgetter\n",
    "from torch.utils.data import default_collate\n",
    "from fastprogress import progress_bar,master_bar"
   ]
  },
  {
   "cell_type": "markdown",
   "id": "67548db9",
   "metadata": {},
   "source": [
    "# Lib methods"
   ]
  },
  {
   "cell_type": "code",
   "execution_count": 3,
   "id": "735379d1",
   "metadata": {},
   "outputs": [],
   "source": [
    "#|export\n",
    "def inplace(f):\n",
    "    def _f(b):\n",
    "        f(b)\n",
    "        return b\n",
    "    return _f\n",
    "\n",
    "def collate_dict(ds):\n",
    "    get = itemgetter(*ds.features)\n",
    "    def _f(b):\n",
    "        return get(default_collate(b))\n",
    "    return _f\n",
    "\n",
    "@inplace\n",
    "def transformi(b): \n",
    "    b[x] = [torch.flatten(TF.to_tensor(o)) for o in b[x]]\n",
    "\n",
    "class DataLoaders:\n",
    "    def __init__(self, train_data_loader, valid_data_loader):\n",
    "        self.train = train_data_loader\n",
    "        self.valid = valid_data_loader\n",
    "\n",
    "    @classmethod # static method\n",
    "    def from_datasetDict(cls, datasetDict, batch_size): #, as_tuple=True):\n",
    "        '''        \n",
    "        static method with cls allows the instanciation of the class: calls self.__init__\n",
    "        May use multiple workers\n",
    "        Do not send anything to device here cuz huge overload\n",
    "        '''        \n",
    "        return cls(*[DataLoader(ds, batch_size, collate_fn=collate_dict(ds)) for ds in datasetDict.values()])\n",
    "\n",
    "def get_model(): \n",
    "    m,nh = 28*28,50\n",
    "    return nn.Sequential(nn.Linear(m,nh), nn.ReLU(), nn.Linear(nh,10))    \n",
    "\n",
    "def to_cpu(x): # optional here it was used because torchmetrics was bugged\n",
    "    if isinstance(x, Mapping): \n",
    "        return {k:to_cpu(v) for k,v in x.items()}\n",
    "    if isinstance(x, list): \n",
    "        return [to_cpu(o) for o in x]\n",
    "    if isinstance(x, tuple): \n",
    "        return tuple(to_cpu(list(x)))\n",
    "    res = x.detach().cpu()\n",
    "    return res.float() if res.dtype==torch.float16 else res\n",
    "\n",
    "def to_device(x, device=None): \n",
    "    if device is None:\n",
    "        device = \"mps\" if torch.backends.mps.is_available() else 'cuda' if torch.cuda.is_available() else 'cpu'              \n",
    "    if isinstance(x, Mapping):\n",
    "        return {k:v.to(device) for k,v in x.items()}\n",
    "    return type(x)(o.to(device) for o in x)"
   ]
  },
  {
   "cell_type": "markdown",
   "id": "f03d0482",
   "metadata": {},
   "source": [
    "# Data"
   ]
  },
  {
   "cell_type": "code",
   "execution_count": 4,
   "id": "23297dcd",
   "metadata": {},
   "outputs": [
    {
     "data": {
      "text/plain": [
       "(torch.Size([1024, 784]), tensor([9, 0, 0, 3, 0, 2, 7, 2, 5, 5]))"
      ]
     },
     "execution_count": 4,
     "metadata": {},
     "output_type": "execute_result"
    }
   ],
   "source": [
    "x,y = 'image','label'\n",
    "dsd = load_dataset(\"fashion_mnist\")\n",
    "bs = 1024\n",
    "tds = dsd.with_transform(transformi)\n",
    "dls = DataLoaders.from_datasetDict(tds, bs)\n",
    "dt = dls.train\n",
    "num_classes = ((tensor(dsd['train'][y]).unique()).max()+1).item()\n",
    "xb,yb = next(iter(dt))\n",
    "xb.shape,yb[:10]"
   ]
  },
  {
   "cell_type": "markdown",
   "id": "29c0a6d1",
   "metadata": {},
   "source": [
    "# Updated versions since lesson8\n",
    "After the lesson we noticed that contextlib.context_manager has a surprising \"feature\" which doesn't let us raise an exception before the yield. Therefore we've replaced the context manager with a decorator in this updated version of Learner. We have also added a few more callbacks in one_epoch()."
   ]
  },
  {
   "cell_type": "markdown",
   "id": "06158b41",
   "metadata": {},
   "source": [
    "with_cbs is a decorator. A decorator takes as input a function (the function defd below the decorator) and returns another \n",
    "function. When the defd function is called, the funct returned by the decorator is executed, thus modifying the behavior of the original function."
   ]
  },
  {
   "cell_type": "code",
   "execution_count": 5,
   "id": "dcc0bcf3",
   "metadata": {},
   "outputs": [],
   "source": [
    "#|export\n",
    "class with_cbs:\n",
    "    '''\n",
    "    When the function decorated is called, with_cbs is instaciated\n",
    "    The arg of the decorator in calle is with_cbs ctor arg: \"method_name\"\n",
    "    '''\n",
    "    def __init__(self, method_name): \n",
    "        self.method_name = method_name\n",
    "        \n",
    "    def __call__(self, f):        \n",
    "        '''\n",
    "        When the function decorated is called, and the __init__ call is completed, the __call__ method is executed.\n",
    "        It returns another function that is executed in place of the original funct. \n",
    "        It modifies the behavior of the original funct as:\n",
    "        1) calls learner.callback(when_to_execute_cb_wrt_{method_name})\n",
    "            which loops over all callbacks registered in the learner and \n",
    "                calls all \"when_to_execute_cb_wrt_{method_name}\" methods\n",
    "            e.g., \"before_fit\", \"before_epoch\", \"before_batch\" etc methods.\n",
    "        2) calls original function\n",
    "        3) executes all callbacks registered in the learner that have to be executed \".after_{method_name}\"\n",
    "            eg \"after_fit\", \"after_epoch\", \"after_batch\" etc methods.        \n",
    "        '''        \n",
    "        def _f(learner, *args, **kwargs): # Learner object ref + generic signature to forward all args/kwargs of original f\n",
    "            '''\n",
    "            A generic original function of the Learner class has the following signature:\n",
    "                def func_name(self, *args, **kwargs)\n",
    "                e.g.,: def _fit(self, train, valid)\n",
    "            That's why learner in the signature of this function is the reference to the calling Learner obj\n",
    "            '''            \n",
    "            try:\n",
    "                learner.callback(f'before_{self.method_name}')  \n",
    "                f(learner, *args, **kwargs)\n",
    "                learner.callback(f'after_{self.method_name}')\n",
    "            except globals()[f'Cancel{self.method_name.title()}Exception']: # globals() = dict of global symbols\n",
    "                pass # idea: if we raise a particular exception we have control of Learner.method_name() execution\n",
    "            finally: \n",
    "                learner.callback(f'cleanup_{self.method_name}')\n",
    "        return _f"
   ]
  },
  {
   "cell_type": "markdown",
   "id": "5ccdf112",
   "metadata": {},
   "source": [
    "Everything is always set as self.foo such to make everything modifiable via callbacks, since callbacks have a reference to this learner.\n",
    "\n",
    "Learner obj and Callbacks obj are very coupled but high performance cuz of direct access across each other.\n",
    "\n",
    "Code design: exceptions as control flow"
   ]
  },
  {
   "cell_type": "code",
   "execution_count": 6,
   "id": "632d23e1",
   "metadata": {},
   "outputs": [],
   "source": [
    "#|export\n",
    "class Learner():\n",
    "    '''\n",
    "    An object that contains and executes all the possible operations related to a pytorch model\n",
    "    It requires the implementation of a TrainCB callback object.    \n",
    "    '''\n",
    "    def __init__(self, model, dls=(0,), loss_func=F.mse_loss, lr=0.1, cbs=None, opt_func=optim.SGD):\n",
    "        fc.store_attr()\n",
    "        cbs = fc.L(cbs) # creates a list that can be indexed with list of idxs (as masking)\n",
    "    \n",
    "    def __getattr__(self, name):\n",
    "        '''\n",
    "        __getattr__ is called iif the name is not registered in the class.\n",
    "        \n",
    "        Called when one of: ['predict', 'get_loss', 'backward', 'step', 'zero_grad'] is accessed via self \n",
    "        and is not defined as class method. \n",
    "        It calls: e.g., self.predict or self.get_loss\n",
    "        returns the function: self.callback executed with \"name\" as firt input arg:\n",
    "            self.callback(name)\n",
    "        first it is resolved the access to data-member (self.predict or self.get_loss) \n",
    "        then the return of __getattr__(name) (i.e., self.callback(name)) is called via ():\n",
    "        1) self.predict -> returns f=self.callback('predict')\n",
    "        2) f() = partial(self.callback, name)()\n",
    "        \n",
    "        ['predict', 'get_loss', 'backward', 'step', 'zero_grad'] are extracted to make learner very flexible        \n",
    "        '''\n",
    "        if name in ('predict', 'get_loss', 'backward', 'step', 'zero_grad'): \n",
    "            return partial(self.callback, name)\n",
    "        raise AttributeError(name)\n",
    "\n",
    "    def callback(self, method_name):\n",
    "        '''\n",
    "        Loops trhu all callbacks registered for this learner\n",
    "        Checks if the cb has a method/attr\n",
    "        if yes -> calls that cb.method_name(self), passing to it a reference to caller learner\n",
    "        '''\n",
    "        for cb in sorted(self.cbs, key=attrgetter('order')): # k = cb.order            \n",
    "            method = getattr(cb, method_name, None) \n",
    "            if method is not None: \n",
    "                method(self)        \n",
    "    \n",
    "    @property\n",
    "    def training(self): \n",
    "        '''\n",
    "        Returns whether the learner.model is in training mode\n",
    "        '''        \n",
    "        return self.model.training\n",
    "        \n",
    "    def fit(self, n_epochs=1, train=True, valid=True, cbs=None, lr=None):\n",
    "        '''\n",
    "        Fits learner model for a desired number of epochs.\n",
    "        Supports addition of extra callbacks.\n",
    "        Calls decorated self._fit()\n",
    "        lr overridable for 1 fit\n",
    "        '''\n",
    "        cbs = fc.L(cbs) # creates a list that can be indexed with list of idxs\n",
    "        for cb in cbs: # supports addition of extra callbacks \n",
    "            self.cbs.append(cb)        \n",
    "        try:\n",
    "            self.n_epochs = n_epochs\n",
    "            self.epochs = range(n_epochs)\n",
    "            if lr is None: lr = self.lr\n",
    "            if self.opt_func: self.opt = self.opt_func(self.model.parameters(), lr)\n",
    "            self._fit(train, valid) # -> train, valid -> bools\n",
    "        finally:\n",
    "            # here are remove only cbs passesd to fit (as temp cbs, not class fixed)\n",
    "            for cb in cbs: \n",
    "                self.cbs.remove(cb)\n",
    "                \n",
    "    @with_cbs('fit')\n",
    "    def _fit(self, train, valid):\n",
    "        '''\n",
    "        The with_cbs ctor is called with method_name=\"fit\"\n",
    "        GoTo with_cbs\n",
    "        -> for each cb obj it calls their .before_fit() if present\n",
    "        '''\n",
    "        for self.epoch in self.epochs:\n",
    "            if train: \n",
    "                self.one_epoch(True)\n",
    "            if valid: \n",
    "                # torch.no_grad() acts as decorator \n",
    "                torch.no_grad()(self.one_epoch)(False)    \n",
    "    \n",
    "    def one_epoch(self, isTraining):\n",
    "        self.model.train(isTraining)\n",
    "        self.dl = self.dls.train if isTraining else self.dls.valid\n",
    "        self._one_epoch()\n",
    "        \n",
    "    @with_cbs('epoch')\n",
    "    def _one_epoch(self):\n",
    "        for self.iter,self.batch in enumerate(self.dl): \n",
    "            self._one_batch()\n",
    "            \n",
    "    @with_cbs('batch')\n",
    "    def _one_batch(self):        \n",
    "        # training details taken from TrainCB                 \n",
    "        self.predict() # looks for the cb.predict() method across all callbacks, must be implemented!\n",
    "        self.callback('after_predict')\n",
    "        self.get_loss() \n",
    "        self.callback('after_loss')\n",
    "        if self.training:\n",
    "            self.backward()\n",
    "            self.callback('after_backward')\n",
    "            self.step()\n",
    "            self.callback('after_step')\n",
    "            self.zero_grad()"
   ]
  },
  {
   "cell_type": "markdown",
   "id": "15ca70cb",
   "metadata": {},
   "source": [
    "# Callbacks"
   ]
  },
  {
   "cell_type": "code",
   "execution_count": 7,
   "id": "eada4523",
   "metadata": {},
   "outputs": [],
   "source": [
    "#|export\n",
    "class Callback(): order = 0 # order of execution"
   ]
  },
  {
   "cell_type": "code",
   "execution_count": 8,
   "id": "868838b3",
   "metadata": {},
   "outputs": [],
   "source": [
    "#|export\n",
    "# definition of custom execeptions\n",
    "class CancelFitException(Exception): pass\n",
    "class CancelBatchException(Exception): pass\n",
    "class CancelEpochException(Exception): pass"
   ]
  },
  {
   "cell_type": "code",
   "execution_count": 9,
   "id": "951fdf6d",
   "metadata": {},
   "outputs": [],
   "source": [
    "#|export\n",
    "class DeviceCB(Callback):\n",
    "    def __init__(self, device=None): \n",
    "        if device is None:\n",
    "            device = \"mps\" if torch.backends.mps.is_available() else 'cuda' if torch.cuda.is_available() else 'cpu'\n",
    "        self.device=device\n",
    "        \n",
    "    def before_fit(self, learn):\n",
    "        if hasattr(learn.model, 'to'): \n",
    "            learn.model.to(self.device)\n",
    "            \n",
    "    def before_batch(self, learn): \n",
    "        learn.batch = to_device(learn.batch, device=self.device)"
   ]
  },
  {
   "cell_type": "markdown",
   "id": "f12935c5",
   "metadata": {},
   "source": [
    "A first small example of usage of CBs with Learner"
   ]
  },
  {
   "cell_type": "code",
   "execution_count": 10,
   "id": "1cb70644",
   "metadata": {},
   "outputs": [],
   "source": [
    "cbs = [DeviceCB()]\n",
    "learn = Learner(get_model(), dls, F.cross_entropy, lr=0.2, cbs=cbs)\n",
    "learn.fit(1)"
   ]
  },
  {
   "cell_type": "markdown",
   "id": "1ce02a3c",
   "metadata": {},
   "source": [
    "Other fundamental callbacks:"
   ]
  },
  {
   "cell_type": "code",
   "execution_count": 11,
   "id": "0fc94486",
   "metadata": {},
   "outputs": [],
   "source": [
    "#|export\n",
    "class MetricsCB(Callback):    \n",
    "    '''\n",
    "    Stores all metrics to be used/computed by model. \n",
    "    Unique access point/handler to compute all metrics requested.    \n",
    "    '''    \n",
    "    def __init__(self, *ms, **metrics):\n",
    "        '''\n",
    "        *ms = list of positional non-keyworded inputs\n",
    "        **metrics = dict of keyworded inputs\n",
    "        \n",
    "        You can construct as:\n",
    "            metric = MetricCB(MulticlassAccuracy(n_classes))\n",
    "        or:\n",
    "            metric = MetricCB(accuracy=MulticlassAccuracy(n_classes))\n",
    "\n",
    "        in the first case *ms will contain: MulticlassAccuracy and by taking its name stores it in metrics dict\n",
    "        in the second case **metrics dict will contain {'accuracy'= MulticlassAccuracy()}\n",
    "        '''\n",
    "        for o in ms: \n",
    "            metrics[type(o).__name__] = o  # adds non-keyworded inputs to **metrics       \n",
    "        self.metrics = metrics # store **metrics dict\n",
    "        self.all_metrics = copy(metrics)\n",
    "        self.all_metrics['loss'] = self.loss = MeanMetric() # MeanMetric() added by default\n",
    "\n",
    "    def _log(self, d):\n",
    "        # override for more complex formatting\n",
    "        print(d)\n",
    "        \n",
    "    def before_fit(self, learn): \n",
    "        '''\n",
    "        !Important: this method sets this MetricCB obj in calling learner\n",
    "        '''\n",
    "        learn.metrics = self\n",
    "        \n",
    "    def before_epoch(self, learn): \n",
    "        [o.reset() for o in self.all_metrics.values()]\n",
    "\n",
    "    def after_epoch(self, learn):\n",
    "        log = {k: f'{v.compute():.3f}' for k,v in self.all_metrics.items()} # compute all metrics \n",
    "        log['epoch'] = learn.epoch\n",
    "        log['train'] = 'train' if learn.model.training else 'eval'\n",
    "        self._log(log)\n",
    "\n",
    "    def after_batch(self, learn): # creates dict for printing/logging\n",
    "        x,y,*_ = to_cpu(learn.batch)\n",
    "        for m in self.metrics.values(): \n",
    "            m.update(to_cpu(learn.preds), y)\n",
    "        self.loss.update(to_cpu(learn.loss), weight=len(x))"
   ]
  },
  {
   "cell_type": "code",
   "execution_count": 12,
   "id": "f400e1c5",
   "metadata": {},
   "outputs": [],
   "source": [
    "#|export\n",
    "class TrainCB(Callback):\n",
    "    '''\n",
    "    Implements training details for a Multiclass Classification model\n",
    "    Could implement training details for other tasks    \n",
    "    '''\n",
    "    def __init__(self, n_inp=1): \n",
    "        self.n_inp = n_inp\n",
    "        \n",
    "    def predict(self, learn): \n",
    "        learn.preds = learn.model(*learn.batch[:self.n_inp])\n",
    "        \n",
    "    def get_loss(self, learn): \n",
    "        learn.loss = learn.loss_func(learn.preds, *learn.batch[self.n_inp:])\n",
    "        \n",
    "    def backward(self, learn): \n",
    "        learn.loss.backward()\n",
    "        \n",
    "    def step(self, learn): \n",
    "        learn.opt.step()\n",
    "        \n",
    "    def zero_grad(self, learn): \n",
    "        learn.opt.zero_grad()        "
   ]
  },
  {
   "cell_type": "code",
   "execution_count": 13,
   "id": "d97af62c",
   "metadata": {},
   "outputs": [],
   "source": [
    "#|export\n",
    "class ProgressCB(Callback):\n",
    "    order = MetricCB.order+1\n",
    "    \n",
    "    def __init__(self, plot=False): \n",
    "        self.plot = plot\n",
    "        \n",
    "    def before_fit(self, learn):\n",
    "        learn.epochs = self.mbar = master_bar(learn.epochs)\n",
    "        self.first = True\n",
    "        if hasattr(learn, 'metrics'): \n",
    "            learn.metrics._log = self._log\n",
    "        self.losses = []\n",
    "        self.val_losses = []\n",
    "\n",
    "    def _log(self, d):\n",
    "        if self.first:\n",
    "            self.mbar.write(list(d), table=True)\n",
    "            self.first = False\n",
    "        self.mbar.write(list(d.values()), table=True)\n",
    "\n",
    "    def before_epoch(self, learn): \n",
    "        learn.dl = progress_bar(learn.dl, leave=False, parent=self.mbar)\n",
    "        \n",
    "    def after_batch(self, learn):\n",
    "        learn.dl.comment = f'{learn.loss:.3f}'\n",
    "        if self.plot and hasattr(learn, 'metrics') and learn.training:\n",
    "            self.losses.append(learn.loss.item())\n",
    "            if self.val_losses: self.mbar.update_graph([[fc.L.range(self.losses), self.losses],[fc.L.range(learn.epoch).map(lambda x: (x+1)*len(learn.dls.train)), self.val_losses]])\n",
    "    \n",
    "    def after_epoch(self, learn): \n",
    "        if not learn.training:\n",
    "            if self.plot and hasattr(learn, 'metrics'): \n",
    "                self.val_losses.append(learn.metrics.all_metrics['loss'].compute())\n",
    "                self.mbar.update_graph([[fc.L.range(self.losses), self.losses],[fc.L.range(learn.epoch+1).map(lambda x: (x+1)*len(learn.dls.train)), self.val_losses]])"
   ]
  },
  {
   "cell_type": "code",
   "execution_count": 14,
   "id": "33f0a45f",
   "metadata": {
    "scrolled": false
   },
   "outputs": [
    {
     "data": {
      "text/html": [
       "\n",
       "<style>\n",
       "    /* Turns off some styling */\n",
       "    progress {\n",
       "        /* gets rid of default border in Firefox and Opera. */\n",
       "        border: none;\n",
       "        /* Needs to be in here for Safari polyfill so background images work as expected. */\n",
       "        background-size: auto;\n",
       "    }\n",
       "    progress:not([value]), progress:not([value])::-webkit-progress-bar {\n",
       "        background: repeating-linear-gradient(45deg, #7e7e7e, #7e7e7e 10px, #5c5c5c 10px, #5c5c5c 20px);\n",
       "    }\n",
       "    .progress-bar-interrupted, .progress-bar-interrupted::-webkit-progress-bar {\n",
       "        background: #F44336;\n",
       "    }\n",
       "</style>\n"
      ],
      "text/plain": [
       "<IPython.core.display.HTML object>"
      ]
     },
     "metadata": {},
     "output_type": "display_data"
    },
    {
     "data": {
      "text/html": [
       "<table border=\"1\" class=\"dataframe\">\n",
       "  <thead>\n",
       "    <tr style=\"text-align: left;\">\n",
       "      <th>accuracy</th>\n",
       "      <th>loss</th>\n",
       "      <th>epoch</th>\n",
       "      <th>train</th>\n",
       "    </tr>\n",
       "  </thead>\n",
       "  <tbody>\n",
       "    <tr>\n",
       "      <td>0.604</td>\n",
       "      <td>1.161</td>\n",
       "      <td>0</td>\n",
       "      <td>train</td>\n",
       "    </tr>\n",
       "    <tr>\n",
       "      <td>0.680</td>\n",
       "      <td>0.881</td>\n",
       "      <td>0</td>\n",
       "      <td>eval</td>\n",
       "    </tr>\n",
       "    <tr>\n",
       "      <td>0.739</td>\n",
       "      <td>0.721</td>\n",
       "      <td>1</td>\n",
       "      <td>train</td>\n",
       "    </tr>\n",
       "    <tr>\n",
       "      <td>0.751</td>\n",
       "      <td>0.665</td>\n",
       "      <td>1</td>\n",
       "      <td>eval</td>\n",
       "    </tr>\n",
       "  </tbody>\n",
       "</table>"
      ],
      "text/plain": [
       "<IPython.core.display.HTML object>"
      ]
     },
     "metadata": {},
     "output_type": "display_data"
    },
    {
     "data": {
      "image/png": "[encoded data removed]",
      "text/plain": [
       "<Figure size 600x400 with 1 Axes>"
      ]
     },
     "metadata": {},
     "output_type": "display_data"
    }
   ],
   "source": [
    "cbs = [TrainCB(), DeviceCB(), MetricsCB(accuracy=MulticlassAccuracy(num_classes)), ProgressCB(plot=True)]\n",
    "learn = Learner(get_model(), dls, F.cross_entropy, lr=0.2, cbs=cbs)\n",
    "learn.fit(2)"
   ]
  },
  {
   "cell_type": "markdown",
   "id": "86a9f55a",
   "metadata": {},
   "source": [
    "Given that TrainCB was almost useless cuz you want it almost every time you can subclass the Learner and instead of\n",
    "getting predict(), get_loss() etc from cbs you just directly implement them as class method subclassing the learner directly instead of every time registering the TrainCB"
   ]
  },
  {
   "cell_type": "code",
   "execution_count": 15,
   "id": "a1a73888",
   "metadata": {},
   "outputs": [],
   "source": [
    "#|export\n",
    "class TrainLearner(Learner):\n",
    "    \n",
    "    # since these methods are here defined Learner.__getattr__(self, name) is not called    \n",
    "    \n",
    "    def predict(self): \n",
    "        self.preds = self.model(self.batch[0])\n",
    "        \n",
    "    def get_loss(self): \n",
    "        self.loss = self.loss_func(self.preds, self.batch[1])\n",
    "        \n",
    "    def backward(self): \n",
    "        self.loss.backward()\n",
    "        \n",
    "    def step(self): \n",
    "        self.opt.step()\n",
    "        \n",
    "    def zero_grad(self): \n",
    "        self.opt.zero_grad()        "
   ]
  },
  {
   "cell_type": "code",
   "execution_count": 16,
   "id": "51b09142",
   "metadata": {},
   "outputs": [],
   "source": [
    "#|export\n",
    "class MomentumLearner(TrainLearner):\n",
    "    \n",
    "    '''    \n",
    "    IDEA: instead of zeroing gradients we keep them \"alive\" but we shrink them by a factor \"momentum\" < 1\n",
    "    NB: PyTorch autograd ONLY ADDS to gradients\n",
    "    '''\n",
    "    \n",
    "    def __init__(self, model, dls, loss_func, lr=None, cbs=None, opt_func=optim.SGD, mom=0.85):\n",
    "        self.mom = mom\n",
    "        super().__init__(model, dls, loss_func, lr, cbs, opt_func)\n",
    "\n",
    "    def zero_grad(self):\n",
    "        with torch.no_grad():\n",
    "            for p in self.model.parameters(): \n",
    "                p.grad *= self.mom"
   ]
  },
  {
   "cell_type": "code",
   "execution_count": 17,
   "id": "c40ae60f",
   "metadata": {},
   "outputs": [
    {
     "data": {
      "text/html": [
       "\n",
       "<style>\n",
       "    /* Turns off some styling */\n",
       "    progress {\n",
       "        /* gets rid of default border in Firefox and Opera. */\n",
       "        border: none;\n",
       "        /* Needs to be in here for Safari polyfill so background images work as expected. */\n",
       "        background-size: auto;\n",
       "    }\n",
       "    progress:not([value]), progress:not([value])::-webkit-progress-bar {\n",
       "        background: repeating-linear-gradient(45deg, #7e7e7e, #7e7e7e 10px, #5c5c5c 10px, #5c5c5c 20px);\n",
       "    }\n",
       "    .progress-bar-interrupted, .progress-bar-interrupted::-webkit-progress-bar {\n",
       "        background: #F44336;\n",
       "    }\n",
       "</style>\n"
      ],
      "text/plain": [
       "<IPython.core.display.HTML object>"
      ]
     },
     "metadata": {},
     "output_type": "display_data"
    },
    {
     "data": {
      "text/html": [
       "<table border=\"1\" class=\"dataframe\">\n",
       "  <thead>\n",
       "    <tr style=\"text-align: left;\">\n",
       "      <th>accuracy</th>\n",
       "      <th>loss</th>\n",
       "      <th>epoch</th>\n",
       "      <th>train</th>\n",
       "    </tr>\n",
       "  </thead>\n",
       "  <tbody>\n",
       "    <tr>\n",
       "      <td>0.678</td>\n",
       "      <td>0.939</td>\n",
       "      <td>0</td>\n",
       "      <td>train</td>\n",
       "    </tr>\n",
       "    <tr>\n",
       "      <td>0.782</td>\n",
       "      <td>0.620</td>\n",
       "      <td>0</td>\n",
       "      <td>eval</td>\n",
       "    </tr>\n",
       "    <tr>\n",
       "      <td>0.818</td>\n",
       "      <td>0.521</td>\n",
       "      <td>1</td>\n",
       "      <td>train</td>\n",
       "    </tr>\n",
       "    <tr>\n",
       "      <td>0.812</td>\n",
       "      <td>0.536</td>\n",
       "      <td>1</td>\n",
       "      <td>eval</td>\n",
       "    </tr>\n",
       "  </tbody>\n",
       "</table>"
      ],
      "text/plain": [
       "<IPython.core.display.HTML object>"
      ]
     },
     "metadata": {},
     "output_type": "display_data"
    },
    {
     "data": {
      "image/png": "[encoded data removed]",
      "text/plain": [
       "<Figure size 600x400 with 1 Axes>"
      ]
     },
     "metadata": {},
     "output_type": "display_data"
    }
   ],
   "source": [
    "# NB: No TrainCB\n",
    "metrics = MetricsCB(accuracy=MulticlassAccuracy(num_classes))\n",
    "cbs = [DeviceCB(), metrics, ProgressCB(plot=True)]\n",
    "learn = MomentumLearner(get_model(), dls, F.cross_entropy, lr=0.1, cbs=cbs)\n",
    "learn.fit(2)"
   ]
  },
  {
   "cell_type": "code",
   "execution_count": 18,
   "id": "a395be8d",
   "metadata": {},
   "outputs": [],
   "source": [
    "#|export\n",
    "from torch.optim.lr_scheduler import ExponentialLR\n",
    "\n",
    "class LRFinderCB(Callback):\n",
    "    \n",
    "    '''\n",
    "    Increase lr over time and plot it against the loss and then we find how high we can bring the lr b4 loss gets to inf    \n",
    "    lr desired = value on x-axis where slope is the steepest before loss explodes\n",
    "    \n",
    "    The scheduler multipliers the lr of all params in model by a factor gamma taken as input by the scheduler. \n",
    "    The multiplication occurs only when scheduler.step() is called.\n",
    "    \n",
    "    LR finder is only a rough guide in any situation - generally you’ll want to try around 4x lower and 4x higher LRs too.\n",
    "    '''\n",
    "    \n",
    "    def __init__(self, gamma=1.3, max_mult=3): \n",
    "        fc.store_attr()\n",
    "    \n",
    "    def before_fit(self, learn):\n",
    "        self.sched = ExponentialLR(learn.opt, self.gamma)\n",
    "        self.lrs,self.losses = [],[]\n",
    "        self.min = math.inf\n",
    "\n",
    "    def after_batch(self, learn):\n",
    "        if not learn.training: \n",
    "            raise CancelEpochException()\n",
    "        self.lrs.append(learn.opt.param_groups[0]['lr'])\n",
    "        loss = to_cpu(learn.loss)\n",
    "        self.losses.append(loss)\n",
    "        if loss < self.min: \n",
    "            self.min = loss\n",
    "        if math.isnan(loss) or (loss > self.min*self.max_mult): # stopping criteria\n",
    "            raise CancelFitException()\n",
    "        self.sched.step()\n",
    "        # last line equivalent of:\n",
    "        # for g in self.learner.opt.param_groups:\n",
    "        #     g['lr'] *= self.lr_multiplier\n",
    "\n",
    "    def cleanup_fit(self, learn):\n",
    "        plt.plot(self.lrs, self.losses)\n",
    "        plt.xscale('log')"
   ]
  },
  {
   "cell_type": "code",
   "execution_count": 19,
   "id": "7d45612a",
   "metadata": {},
   "outputs": [
    {
     "data": {
      "image/png": "[encoded data removed]",
      "text/plain": [
       "<Figure size 640x480 with 1 Axes>"
      ]
     },
     "metadata": {},
     "output_type": "display_data"
    }
   ],
   "source": [
    "cbs = [DeviceCB()]\n",
    "learn = MomentumLearner(get_model(), dls, F.cross_entropy, lr=1e-5, cbs=cbs)\n",
    "learn.fit(3, cbs=LRFinderCB())"
   ]
  },
  {
   "cell_type": "code",
   "execution_count": 1,
   "id": "35a37e08",
   "metadata": {},
   "outputs": [
    {
     "ename": "NameError",
     "evalue": "name 'fc' is not defined",
     "output_type": "error",
     "traceback": [
      "\u001b[1;31m---------------------------------------------------------------------------\u001b[0m",
      "\u001b[1;31mNameError\u001b[0m                                 Traceback (most recent call last)",
      "Cell \u001b[1;32mIn[1], line 7\u001b[0m\n\u001b[0;32m      1\u001b[0m \u001b[38;5;66;03m# @fc.patch allows you to define a func (lr_find() here below) and transform it\u001b[39;00m\n\u001b[0;32m      2\u001b[0m \u001b[38;5;66;03m# to be a method of the class passed as input (self:Learner; or better of \u001b[39;00m\n\u001b[0;32m      3\u001b[0m \u001b[38;5;66;03m# whatever class comes after the :) -> so it can call fit with a particular \u001b[39;00m\n\u001b[0;32m      4\u001b[0m \u001b[38;5;66;03m# set of params.\u001b[39;00m\n\u001b[0;32m      5\u001b[0m \u001b[38;5;66;03m# Nice cuz creates a callable temp version for fit to find lr \u001b[39;00m\n\u001b[1;32m----> 7\u001b[0m \u001b[38;5;129m@fc\u001b[39m\u001b[38;5;241m.\u001b[39mpatch\n\u001b[0;32m      8\u001b[0m \u001b[38;5;28;01mdef\u001b[39;00m \u001b[38;5;21mlr_find\u001b[39m(\u001b[38;5;28mself\u001b[39m:Learner, gamma\u001b[38;5;241m=\u001b[39m\u001b[38;5;241m1.3\u001b[39m, max_mult\u001b[38;5;241m=\u001b[39m\u001b[38;5;241m3\u001b[39m, start_lr\u001b[38;5;241m=\u001b[39m\u001b[38;5;241m1e-5\u001b[39m, max_epochs\u001b[38;5;241m=\u001b[39m\u001b[38;5;241m10\u001b[39m):\n\u001b[0;32m      9\u001b[0m     \u001b[38;5;28mself\u001b[39m\u001b[38;5;241m.\u001b[39mfit(max_epochs, lr\u001b[38;5;241m=\u001b[39mstart_lr, cbs\u001b[38;5;241m=\u001b[39mLRFinderCB(gamma\u001b[38;5;241m=\u001b[39mgamma, max_mult\u001b[38;5;241m=\u001b[39mmax_mult))\n\u001b[0;32m     11\u001b[0m MomentumLearner(get_model(), dls, F\u001b[38;5;241m.\u001b[39mcross_entropy, cbs\u001b[38;5;241m=\u001b[39mcbs)\u001b[38;5;241m.\u001b[39mlr_find()\n",
      "\u001b[1;31mNameError\u001b[0m: name 'fc' is not defined"
     ]
    }
   ],
   "source": [
    "# @fc.patch allows you to define a func (lr_find() here below) and transform it\n",
    "# to be a method of the class passed as input (self:Learner; or better of \n",
    "# whatever class comes after the :) -> so it can call fit with a particular \n",
    "# set of params.\n",
    "# Nice cuz creates a callable temp version for fit to find lr \n",
    "\n",
    "@fc.patch\n",
    "def lr_find(self:Learner, gamma=1.3, max_mult=3, start_lr=1e-5, max_epochs=10):\n",
    "    self.fit(max_epochs, lr=start_lr, cbs=LRFinderCB(gamma=gamma, max_mult=max_mult))\n",
    "\n",
    "MomentumLearner(get_model(), dls, F.cross_entropy, cbs=cbs).lr_find()"
   ]
  },
  {
   "cell_type": "code",
   "execution_count": 1,
   "id": "d13fca8e",
   "metadata": {},
   "outputs": [],
   "source": [
    "#import nbdev; nbdev.nbdev_export()"
   ]
  },
  {
   "cell_type": "code",
   "execution_count": null,
   "id": "380fd266",
   "metadata": {},
   "outputs": [],
   "source": []
  }
 ],
 "metadata": {
  "kernelspec": {
   "display_name": "Python 3 (ipykernel)",
   "language": "python",
   "name": "python3"
  },
  "language_info": {
   "codemirror_mode": {
    "name": "ipython",
    "version": 3
   },
   "file_extension": ".py",
   "mimetype": "text/x-python",
   "name": "python",
   "nbconvert_exporter": "python",
   "pygments_lexer": "ipython3",
   "version": "3.11.5"
  }
 },
 "nbformat": 4,
 "nbformat_minor": 5
}
