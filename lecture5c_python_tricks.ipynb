{
 "cells": [
  {
   "cell_type": "code",
   "execution_count": 1,
   "id": "c767563d",
   "metadata": {},
   "outputs": [],
   "source": [
    "import torch\n",
    "import matplotlib.pyplot as plt\n",
    "import random"
   ]
  },
  {
   "cell_type": "markdown",
   "id": "5bf93153",
   "metadata": {},
   "source": [
    "# Callbacks\n",
    "Our goal is to build a learner, a general purpose traing loop flexible,\n",
    "it is going to use callbacks\n",
    "\n",
    "## Callbacks as GUI events\n",
    "Let's see how callbacks are created for gui events"
   ]
  },
  {
   "cell_type": "code",
   "execution_count": 2,
   "id": "4a3d3a92",
   "metadata": {},
   "outputs": [],
   "source": [
    "# !pip install ipywidgets\n",
    "import ipywidgets as widgets\n",
    "\n",
    "from IPython.display import display\n",
    "output = widgets.Output()"
   ]
  },
  {
   "cell_type": "code",
   "execution_count": 3,
   "id": "9dc56880",
   "metadata": {},
   "outputs": [
    {
     "data": {
      "application/vnd.jupyter.widget-view+json": {
       "model_id": "012cdb971176407982300010a9d166e4",
       "version_major": 2,
       "version_minor": 0
      },
      "text/plain": [
       "Button(description='click me', style=ButtonStyle())"
      ]
     },
     "execution_count": 3,
     "metadata": {},
     "output_type": "execute_result"
    }
   ],
   "source": [
    "w = widgets.Button(description=\"click me\"); w"
   ]
  },
  {
   "cell_type": "code",
   "execution_count": 5,
   "id": "c7fc6374",
   "metadata": {},
   "outputs": [],
   "source": [
    "def f(o): # a callable that will calld back to when smthing happens \n",
    "    print(\"hi\")\n",
    "w.on_click(f) # <- add a callback to be executed when button is clicked"
   ]
  },
  {
   "cell_type": "markdown",
   "id": "a012ed02-7163-4987-b257-ffe14bebfe76",
   "metadata": {},
   "source": [
    "## Let's create our own callback"
   ]
  },
  {
   "cell_type": "code",
   "execution_count": 6,
   "id": "d6d329e7-77a9-4753-8fe7-faf2181b594f",
   "metadata": {},
   "outputs": [],
   "source": [
    "from time import sleep\n",
    "def slow_calculation():\n",
    "    res = 0 \n",
    "    for i in range(5):\n",
    "        res += i*i\n",
    "        sleep(1)\n",
    "    return res"
   ]
  },
  {
   "cell_type": "code",
   "execution_count": 7,
   "id": "588f2a9d-78eb-4755-8c76-8e737e9bf4a9",
   "metadata": {},
   "outputs": [
    {
     "data": {
      "text/plain": [
       "30"
      ]
     },
     "execution_count": 7,
     "metadata": {},
     "output_type": "execute_result"
    }
   ],
   "source": [
    "slow_calculation()"
   ]
  },
  {
   "cell_type": "code",
   "execution_count": 10,
   "id": "a8e2e48d-9a11-4a6e-b379-848b208f88c2",
   "metadata": {},
   "outputs": [],
   "source": [
    "def slow_calculation(cb=None): # cb can be whatever can be called\n",
    "    res = 0 \n",
    "    for i in range(5):\n",
    "        res += i*i\n",
    "        sleep(1)\n",
    "        if (cb): # cb to be executed at end of each train loop\n",
    "            cb(i)\n",
    "    return res"
   ]
  },
  {
   "cell_type": "code",
   "execution_count": 11,
   "id": "56ad4c31-1193-40e5-98bd-f20fa624e692",
   "metadata": {},
   "outputs": [],
   "source": [
    "def show_progres(epoch):\n",
    "    print(f'Hi {epoch}')"
   ]
  },
  {
   "cell_type": "code",
   "execution_count": 12,
   "id": "ce56beeb-0d86-4ab0-bbd4-251a6a6e3d09",
   "metadata": {},
   "outputs": [
    {
     "name": "stdout",
     "output_type": "stream",
     "text": [
      "Hi 0\n",
      "Hi 1\n",
      "Hi 2\n",
      "Hi 3\n",
      "Hi 4\n"
     ]
    },
    {
     "data": {
      "text/plain": [
       "30"
      ]
     },
     "execution_count": 12,
     "metadata": {},
     "output_type": "execute_result"
    }
   ],
   "source": [
    "slow_calculation(cb=show_progres)"
   ]
  },
  {
   "cell_type": "code",
   "execution_count": 13,
   "id": "3191c712-c131-425b-9e28-010137f70cf5",
   "metadata": {},
   "outputs": [
    {
     "name": "stdout",
     "output_type": "stream",
     "text": [
      "hi 0\n",
      "hi 1\n",
      "hi 2\n",
      "hi 3\n",
      "hi 4\n"
     ]
    },
    {
     "data": {
      "text/plain": [
       "30"
      ]
     },
     "execution_count": 13,
     "metadata": {},
     "output_type": "execute_result"
    }
   ],
   "source": [
    "slow_calculation(lambda i : print(f\"hi {i}\"))"
   ]
  },
  {
   "cell_type": "code",
   "execution_count": 16,
   "id": "63dc7ba2-8b18-4cf0-81fb-ba05c3abb5db",
   "metadata": {},
   "outputs": [
    {
     "name": "stdout",
     "output_type": "stream",
     "text": [
      "hi firstInp, 0\n",
      "hi firstInp, 1\n",
      "hi firstInp, 2\n",
      "hi firstInp, 3\n",
      "hi firstInp, 4\n"
     ]
    },
    {
     "data": {
      "text/plain": [
       "30"
      ]
     },
     "execution_count": 16,
     "metadata": {},
     "output_type": "execute_result"
    }
   ],
   "source": [
    "def show_progress(inp1, inp2):\n",
    "    print(f\"hi {inp1}, {inp2}\")\n",
    "\n",
    "slow_calculation(lambda o: show_progress(\"firstInp\", o))"
   ]
  },
  {
   "cell_type": "code",
   "execution_count": 17,
   "id": "b6691012-3652-470c-9cfa-83a1a3fa916e",
   "metadata": {},
   "outputs": [
    {
     "name": "stdout",
     "output_type": "stream",
     "text": [
      "hi nice!, 0\n",
      "hi nice!, 1\n",
      "hi nice!, 2\n",
      "hi nice!, 3\n",
      "hi nice!, 4\n"
     ]
    },
    {
     "data": {
      "text/plain": [
       "30"
      ]
     },
     "execution_count": 17,
     "metadata": {},
     "output_type": "execute_result"
    }
   ],
   "source": [
    "def make_show_progress(inp1):\n",
    "    return lambda inp2: print(f\"hi {inp1}, {inp2}\")\n",
    "\n",
    "slow_calculation(make_show_progress(\"nice!\"))"
   ]
  },
  {
   "cell_type": "markdown",
   "id": "7f985e8b-e889-4c09-b282-b27e49e61675",
   "metadata": {},
   "source": [
    "## We can do the same using partials"
   ]
  },
  {
   "cell_type": "code",
   "execution_count": 18,
   "id": "0dfa1ea0-d9da-4397-a457-2ade8d12ae32",
   "metadata": {},
   "outputs": [
    {
     "name": "stdout",
     "output_type": "stream",
     "text": [
      "hi OK I guess, 0\n",
      "hi OK I guess, 1\n",
      "hi OK I guess, 2\n",
      "hi OK I guess, 3\n",
      "hi OK I guess, 4\n"
     ]
    },
    {
     "data": {
      "text/plain": [
       "30"
      ]
     },
     "execution_count": 18,
     "metadata": {},
     "output_type": "execute_result"
    }
   ],
   "source": [
    "from functools import partial\n",
    "\n",
    "slow_calculation(partial(show_progress, \"OK I guess\")) #\"OK I guess\" will be the first input\n",
    "# this will call the function show progres with partial input "
   ]
  },
  {
   "cell_type": "code",
   "execution_count": 19,
   "id": "fe7d1c28-4581-48d0-8878-d5a30396d5f3",
   "metadata": {},
   "outputs": [
    {
     "name": "stdout",
     "output_type": "stream",
     "text": [
      "hi OK I guess, 0\n",
      "hi OK I guess, 1\n",
      "hi OK I guess, 2\n",
      "hi OK I guess, 3\n",
      "hi OK I guess, 4\n"
     ]
    },
    {
     "data": {
      "text/plain": [
       "30"
      ]
     },
     "execution_count": 19,
     "metadata": {},
     "output_type": "execute_result"
    }
   ],
   "source": [
    "f2 = partial(show_progress, \"OK I guess\")\n",
    "slow_calculation(f2)"
   ]
  },
  {
   "cell_type": "markdown",
   "id": "2aae50f4-bc2c-43d4-a29d-88f3c6478dde",
   "metadata": {},
   "source": [
    "### A callback must be a callable, we have callable classes so now we see \n",
    "# Callbacks as Callable Classes"
   ]
  },
  {
   "cell_type": "code",
   "execution_count": 21,
   "id": "529d319b-b0f9-4c4b-9e04-2d3a7b1b5d25",
   "metadata": {},
   "outputs": [],
   "source": [
    "class ProgressShowingCallback():\n",
    "    def __init__(self, exlamation=\"Hi\"):\n",
    "        self.exlamation = exlamation\n",
    "    def __call__(self, epoch):\n",
    "        print(f\"{self.exlamation}, {epoch} is over!\")"
   ]
  },
  {
   "cell_type": "code",
   "execution_count": 22,
   "id": "18781650-4647-4306-a514-e0c27ea1ef2d",
   "metadata": {},
   "outputs": [
    {
     "name": "stdout",
     "output_type": "stream",
     "text": [
      "Hi, 0 is over!\n",
      "Hi, 1 is over!\n",
      "Hi, 2 is over!\n",
      "Hi, 3 is over!\n",
      "Hi, 4 is over!\n"
     ]
    },
    {
     "data": {
      "text/plain": [
       "30"
      ]
     },
     "execution_count": 22,
     "metadata": {},
     "output_type": "execute_result"
    }
   ],
   "source": [
    "cb = ProgressShowingCallback()\n",
    "slow_calculation(cb)"
   ]
  },
  {
   "cell_type": "markdown",
   "id": "615da403-f445-48ca-b818-6106c9161209",
   "metadata": {},
   "source": [
    "## *args and **kwargs"
   ]
  },
  {
   "cell_type": "code",
   "execution_count": 25,
   "id": "824380b6-bf32-4364-bbef-7627777eac9f",
   "metadata": {},
   "outputs": [],
   "source": [
    "def f(*args, **kwargs):\n",
    "    print(f\"args: {args}, kwargs: {kwargs}\")\n",
    "\n",
    "def f1(*a, **b):\n",
    "    print(f\"args: {a}, kwargs: {b}\")\n",
    "    "
   ]
  },
  {
   "cell_type": "code",
   "execution_count": 24,
   "id": "9a2b4625-8202-4809-866e-aaf48228af01",
   "metadata": {},
   "outputs": [
    {
     "name": "stdout",
     "output_type": "stream",
     "text": [
      "args: (3, 'a'), kwargs: {'thing1': 'hello'}\n"
     ]
    }
   ],
   "source": [
    "f(3, \"a\", thing1=\"hello\")\n",
    "# position based output"
   ]
  },
  {
   "cell_type": "code",
   "execution_count": 26,
   "id": "b2c4b8d9-8179-4090-82b3-b36f749648a3",
   "metadata": {},
   "outputs": [
    {
     "name": "stdout",
     "output_type": "stream",
     "text": [
      "args: (3, 'a'), kwargs: {'thing1': 'hello'}\n"
     ]
    }
   ],
   "source": [
    "f1(3, \"a\", thing1=\"hello\")"
   ]
  },
  {
   "cell_type": "code",
   "execution_count": 28,
   "id": "07fc6029-ac75-46b0-828b-0681b7c85e72",
   "metadata": {},
   "outputs": [
    {
     "name": "stdout",
     "output_type": "stream",
     "text": [
      "args: (1, 2), kwargs: {'name': 'marco', 'cognome': 'nobile'}\n"
     ]
    }
   ],
   "source": [
    "c = [1,2]\n",
    "d = {\"name\": \"marco\" , \"cognome\": \"nobile\"}\n",
    "f(*c, **d)"
   ]
  },
  {
   "cell_type": "markdown",
   "id": "ddd76d38-2070-4676-baed-78508d0e5a40",
   "metadata": {},
   "source": [
    "## Multiple callbacks\n",
    "Now instead of passing a callable let's pass an obj that implements 2 methods:  \n",
    "- pre_calc()\n",
    "- post_calc()\n"
   ]
  },
  {
   "cell_type": "code",
   "execution_count": 40,
   "id": "cf0706c8-57dd-43ea-bc2d-2b89f81c12cc",
   "metadata": {},
   "outputs": [],
   "source": [
    "def slow_calculation(cb=None): # cb can be whatever can be called\n",
    "    res = 0 \n",
    "    for i in range(5):\n",
    "        if (cb): cb.pre_calc(i)\n",
    "        res += i*i\n",
    "        sleep(1)\n",
    "        if (cb): cb.post_calc(i, val=res)\n",
    "    return res"
   ]
  },
  {
   "cell_type": "code",
   "execution_count": 41,
   "id": "60f64cc7-e250-4664-9b9d-023574c64277",
   "metadata": {},
   "outputs": [],
   "source": [
    "class PrintStepCallback(): \n",
    "    # this should implement an interface, look class Module() in lecture4\n",
    "     \n",
    "    # with this signature even if vals/kwargs are passed they are ignored\n",
    "    # eats undesired args\n",
    "    def pre_calc(self, *args, **kwargs):\n",
    "        print(\"about to start\")\n",
    "        \n",
    "    def post_calc(self, *args, **kwargs):\n",
    "        print(\"about to end\")\n",
    "    "
   ]
  },
  {
   "cell_type": "code",
   "execution_count": 42,
   "id": "46249fb4-5fcf-4f1e-bc55-79ef66934bdb",
   "metadata": {},
   "outputs": [
    {
     "name": "stdout",
     "output_type": "stream",
     "text": [
      "about to start\n",
      "about to end\n",
      "about to start\n",
      "about to end\n",
      "about to start\n",
      "about to end\n",
      "about to start\n",
      "about to end\n",
      "about to start\n",
      "about to end\n"
     ]
    },
    {
     "data": {
      "text/plain": [
       "30"
      ]
     },
     "execution_count": 42,
     "metadata": {},
     "output_type": "execute_result"
    }
   ],
   "source": [
    "slow_calculation(cb= PrintStepCallback())"
   ]
  },
  {
   "cell_type": "code",
   "execution_count": 43,
   "id": "3273cca7-dd5b-41a9-a45b-7b7fabfdb690",
   "metadata": {},
   "outputs": [],
   "source": [
    "class PrintStepCallback(): \n",
    "    # this should implement an interface, look class Module() in lecture4\n",
    "    \n",
    "    def pre_calc(self, epoch, **kwargs):\n",
    "        print(f\"about to start epoch {epoch}\")\n",
    "        \n",
    "    def post_calc(self, epoch, val, **kwargs):\n",
    "        print(f\"epoch {epoch} about to end with val: {val}\")\n"
   ]
  },
  {
   "cell_type": "code",
   "execution_count": 44,
   "id": "c438596d-ce73-40d9-a2a5-85d1fbe33354",
   "metadata": {},
   "outputs": [
    {
     "name": "stdout",
     "output_type": "stream",
     "text": [
      "about to start epoch 0\n",
      "epoch 0 about to end with val: 0\n",
      "about to start epoch 1\n",
      "epoch 1 about to end with val: 1\n",
      "about to start epoch 2\n",
      "epoch 2 about to end with val: 5\n",
      "about to start epoch 3\n",
      "epoch 3 about to end with val: 14\n",
      "about to start epoch 4\n",
      "epoch 4 about to end with val: 30\n"
     ]
    },
    {
     "data": {
      "text/plain": [
       "30"
      ]
     },
     "execution_count": 44,
     "metadata": {},
     "output_type": "execute_result"
    }
   ],
   "source": [
    "slow_calculation(cb= PrintStepCallback())"
   ]
  },
  {
   "cell_type": "markdown",
   "id": "3c5cd49f-b008-4bc6-938b-b4cbb973f6ba",
   "metadata": {},
   "source": [
    "## Modifying behavior"
   ]
  },
  {
   "cell_type": "code",
   "execution_count": 72,
   "id": "353f230e-f4dd-45d3-8ac5-84aa3558ce6d",
   "metadata": {},
   "outputs": [],
   "source": [
    "def slow_calculation(cb=None):\n",
    "    res = 0\n",
    "    for i in range(5):\n",
    "        if cb and hasattr(cb,'pre_calc'): # conditionally executes cb iif the cb obj has a .pre_calc() method\n",
    "            cb.pre_calc(i)\n",
    "        res += i*i\n",
    "        sleep(1)\n",
    "        if cb and hasattr(cb,'after_calc'):\n",
    "            if cb.after_calc(i, res): # acts on return of cb\n",
    "                print(\"stopping early\")\n",
    "                break\n",
    "    return res"
   ]
  },
  {
   "cell_type": "code",
   "execution_count": 73,
   "id": "ba313ec8-7bb3-47c9-b555-61cfaeee48d8",
   "metadata": {},
   "outputs": [],
   "source": [
    "class PrintAfterCallback():\n",
    "    def after_calc(self, epoch, val):\n",
    "        print(f\"After {epoch}: {val}\")\n",
    "        if val>10: return True"
   ]
  },
  {
   "cell_type": "code",
   "execution_count": 74,
   "id": "0ab22ba3-2e84-44cc-8242-405c490ab327",
   "metadata": {},
   "outputs": [
    {
     "name": "stdout",
     "output_type": "stream",
     "text": [
      "After 0: 0\n",
      "After 1: 1\n",
      "After 2: 5\n",
      "After 3: 14\n",
      "stopping early\n"
     ]
    },
    {
     "data": {
      "text/plain": [
       "14"
      ]
     },
     "execution_count": 74,
     "metadata": {},
     "output_type": "execute_result"
    }
   ],
   "source": [
    "slow_calculation(PrintAfterCallback())\n"
   ]
  },
  {
   "cell_type": "code",
   "execution_count": 75,
   "id": "9d8346b9-454c-4b08-9784-5a2e3be12036",
   "metadata": {},
   "outputs": [],
   "source": [
    "class SlowCalculator():\n",
    "    def __init__(self, cb=None): self.cb,self.res = cb,0\n",
    "    \n",
    "    def callback(self, cb_name, *args):\n",
    "        if not self.cb: \n",
    "            return\n",
    "        cb = getattr(self.cb,cb_name, None) # from callback obj select method\n",
    "        if cb: \n",
    "            return cb(self, *args)\n",
    "\n",
    "    def calc(self):\n",
    "        for i in range(5):\n",
    "            self.callback('before_calc', i)\n",
    "            self.res += i*i\n",
    "            sleep(1)\n",
    "            if self.callback('after_calc', i):\n",
    "                print(\"stopping early\")\n",
    "                break"
   ]
  },
  {
   "cell_type": "code",
   "execution_count": 76,
   "id": "2d64f4d4-c309-4034-95af-44a3eccad341",
   "metadata": {},
   "outputs": [],
   "source": [
    "class ModifyingCallback():\n",
    "    def after_calc (self, calc, epoch):\n",
    "        print(f\"After {epoch}: {calc.res}\")\n",
    "        if calc.res>10: return True\n",
    "        if calc.res<3: calc.res = calc.res*2"
   ]
  },
  {
   "cell_type": "code",
   "execution_count": 77,
   "id": "6b9383ed-af1d-40c5-9700-669986437293",
   "metadata": {},
   "outputs": [
    {
     "name": "stdout",
     "output_type": "stream",
     "text": [
      "After 0: 0\n",
      "After 1: 1\n",
      "After 2: 6\n",
      "After 3: 15\n",
      "stopping early\n"
     ]
    },
    {
     "data": {
      "text/plain": [
       "15"
      ]
     },
     "execution_count": 77,
     "metadata": {},
     "output_type": "execute_result"
    }
   ],
   "source": [
    "calculator = SlowCalculator(ModifyingCallback())\n",
    "calculator.calc()\n",
    "calculator.res"
   ]
  },
  {
   "cell_type": "markdown",
   "id": "6c405e61-ed0b-421d-9d24-3c25de9f74ef",
   "metadata": {},
   "source": [
    "# \\_\\_dunder\\_\\_ methods\n",
    "All the dunder methods of the base object class can be found at: https://docs.python.org/3/reference/datamodel.html\n",
    "For example python when calls + it actually calls \\_\\_add\\_\\_"
   ]
  },
  {
   "cell_type": "code",
   "execution_count": 50,
   "id": "38d354dc-1673-4ce2-a647-a60921d0e981",
   "metadata": {},
   "outputs": [],
   "source": [
    "class ExampleAdder():\n",
    "    def __init__(self, a):\n",
    "        self.a=a\n",
    "    def __add__(self, b): # b must be another ExampleAdder\n",
    "        return ExampleAdder(self.a + b.a)\n",
    "    def __repr__(self):\n",
    "        return str(self.a)"
   ]
  },
  {
   "cell_type": "code",
   "execution_count": 51,
   "id": "1c58f12f-aa9a-4998-92b7-8ca47914bd4a",
   "metadata": {},
   "outputs": [
    {
     "data": {
      "text/plain": [
       "3"
      ]
     },
     "execution_count": 51,
     "metadata": {},
     "output_type": "execute_result"
    }
   ],
   "source": [
    "a = ExampleAdder(1)\n",
    "b = ExampleAdder(2)\n",
    "a+b"
   ]
  },
  {
   "cell_type": "markdown",
   "id": "59f25b3e-3464-4084-9d3d-2e7bb11f359a",
   "metadata": {},
   "source": [
    "Important dunder methods:\n",
    "\n",
    "- \\_\\_getitem\\_\\_\n",
    "- \\_\\_getattr\\_\\_\n",
    "- \\_\\_setattr\\_\\_\n",
    "- \\_\\_del\\_\\_\n",
    "- \\_\\_init\\_\\_\n",
    "- \\_\\_new\\_\\_\n",
    "- \\_\\_enter\\_\\_\n",
    "- \\_\\_exit\\_\\_\n",
    "- \\_\\_len\\_\\_\n",
    "- \\_\\_dunder_\\_\\_dunder\n",
    "\n",
    "Let's see more in focus \\_\\_getattr\\_\\_ and \\_\\_setattr\\_\\_ "
   ]
  },
  {
   "cell_type": "code",
   "execution_count": 52,
   "id": "fc8dbfe6-eb0f-4a1a-92c6-acf340fea6bc",
   "metadata": {},
   "outputs": [],
   "source": [
    "class A:\n",
    "    a = 1\n",
    "    b = 2"
   ]
  },
  {
   "cell_type": "code",
   "execution_count": 55,
   "id": "4d10d120-0773-4c9a-b43e-a2eedc43c6f9",
   "metadata": {},
   "outputs": [
    {
     "data": {
      "text/plain": [
       "(1, 2)"
      ]
     },
     "execution_count": 55,
     "metadata": {},
     "output_type": "execute_result"
    }
   ],
   "source": [
    "a = A()\n",
    "a.a, a.b # # this is calling getattr"
   ]
  },
  {
   "cell_type": "code",
   "execution_count": 56,
   "id": "794e1b54-9211-4ed4-a423-519dfa282bd4",
   "metadata": {},
   "outputs": [
    {
     "data": {
      "text/plain": [
       "(1, 2)"
      ]
     },
     "execution_count": 56,
     "metadata": {},
     "output_type": "execute_result"
    }
   ],
   "source": [
    "getattr(a, 'a'), getattr(a, 'b') "
   ]
  },
  {
   "cell_type": "code",
   "execution_count": 60,
   "id": "18876b14-65ba-4c11-b700-34871c1ffcd1",
   "metadata": {},
   "outputs": [],
   "source": [
    "class B:\n",
    "    a = 1\n",
    "    b = 2\n",
    "    \n",
    "    def __getattr__(self, k):\n",
    "        # __getattr__ is called only for things that are not defined\n",
    "        if k[0]=='_': raise AttributeError(k)\n",
    "        return f'Hello from {k}' # so in this case we are \"prohibiting\" definition of dmember"
   ]
  },
  {
   "cell_type": "code",
   "execution_count": 61,
   "id": "451237b9-99e8-4933-897c-38bdbd4b9755",
   "metadata": {},
   "outputs": [],
   "source": [
    "b = B()"
   ]
  },
  {
   "cell_type": "code",
   "execution_count": 62,
   "id": "30bfd118-af35-49bf-8879-abba997736b3",
   "metadata": {},
   "outputs": [
    {
     "data": {
      "text/plain": [
       "1"
      ]
     },
     "execution_count": 62,
     "metadata": {},
     "output_type": "execute_result"
    }
   ],
   "source": [
    "b.a"
   ]
  },
  {
   "cell_type": "code",
   "execution_count": 63,
   "id": "39cc35f4-ff41-4478-a344-5d9dfdd7731f",
   "metadata": {},
   "outputs": [
    {
     "data": {
      "text/plain": [
       "'Hello from foo'"
      ]
     },
     "execution_count": 63,
     "metadata": {},
     "output_type": "execute_result"
    }
   ],
   "source": [
    "b.foo"
   ]
  },
  {
   "cell_type": "code",
   "execution_count": 65,
   "id": "53a043e2-da30-47de-94ad-39238dba85c8",
   "metadata": {},
   "outputs": [
    {
     "data": {
      "text/plain": [
       "10"
      ]
     },
     "execution_count": 65,
     "metadata": {},
     "output_type": "execute_result"
    }
   ],
   "source": [
    "a.foo = 10\n",
    "getattr(a, 'foo') # python object has __getattr__ method to get dmembers at runtime but it does not create em"
   ]
  },
  {
   "cell_type": "code",
   "execution_count": 7,
   "id": "7ba162d3",
   "metadata": {},
   "outputs": [],
   "source": [
    "class B:\n",
    "    a = 1\n",
    "    b = 2\n",
    "    \n",
    "    def __setattr__(self, k, v):\n",
    "        if not k.startswith(\"_\"): # if the datamember is not private\n",
    "            print(f\"setting attr {k}, with value {v}\")\n",
    "            super().__setattr__(k,v) \n",
    "    \n",
    "    def __getattr__(self, k):\n",
    "        if k[0]=='_': raise AttributeError(k)"
   ]
  },
  {
   "cell_type": "code",
   "execution_count": 8,
   "id": "bd43ba2e",
   "metadata": {},
   "outputs": [],
   "source": [
    "b = B()"
   ]
  },
  {
   "cell_type": "code",
   "execution_count": 9,
   "id": "9e0c4a84",
   "metadata": {},
   "outputs": [
    {
     "name": "stdout",
     "output_type": "stream",
     "text": [
      "setting attr hello, with value world\n"
     ]
    }
   ],
   "source": [
    "b.hello = \"world\""
   ]
  },
  {
   "cell_type": "code",
   "execution_count": 10,
   "id": "ffd2c586",
   "metadata": {},
   "outputs": [],
   "source": [
    "getattr(b, 'ggoo') # "
   ]
  },
  {
   "cell_type": "code",
   "execution_count": 12,
   "id": "0fbbf166",
   "metadata": {},
   "outputs": [
    {
     "name": "stdout",
     "output_type": "stream",
     "text": [
      "None\n"
     ]
    }
   ],
   "source": [
    "print(b.ggoo)"
   ]
  },
  {
   "cell_type": "code",
   "execution_count": null,
   "id": "c39a395a",
   "metadata": {},
   "outputs": [],
   "source": []
  }
 ],
 "metadata": {
  "kernelspec": {
   "display_name": "Python 3 (ipykernel)",
   "language": "python",
   "name": "python3"
  },
  "language_info": {
   "codemirror_mode": {
    "name": "ipython",
    "version": 3
   },
   "file_extension": ".py",
   "mimetype": "text/x-python",
   "name": "python",
   "nbconvert_exporter": "python",
   "pygments_lexer": "ipython3",
   "version": "3.11.5"
  }
 },
 "nbformat": 4,
 "nbformat_minor": 5
}
