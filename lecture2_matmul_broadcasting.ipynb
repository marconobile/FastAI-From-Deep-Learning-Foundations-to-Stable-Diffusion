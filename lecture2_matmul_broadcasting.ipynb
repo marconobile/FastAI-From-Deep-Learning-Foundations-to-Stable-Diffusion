{
 "cells": [
  {
   "cell_type": "markdown",
   "id": "93a5126e",
   "metadata": {},
   "source": [
    "# From Deep Learning Foundations to Stable Diffusion\n",
    "## Lecture 2"
   ]
  },
  {
   "cell_type": "markdown",
   "id": "d93a22e3",
   "metadata": {},
   "source": [
    "## Jupyter Notebook shortcuts\n",
    "\n",
    "- Shift + Tab opens quick doc for method (do it twice to open at bottom)\n",
    "- tab inside method after comma shows named args\n",
    "- ctr+shift+ - splits cell in 2\n",
    "- shift+M to merge cells\n",
    "- ctrl+c /ctrl+v works for cells\n",
    "- alt+ enter creates new cell below\n",
    "- symbol? opens docs, symbol?? opens docs+sourcecode\n",
    "- H/h to open keyboard shortcuts, or add em such as to run all above/below"
   ]
  },
  {
   "cell_type": "markdown",
   "id": "4766f199",
   "metadata": {},
   "source": [
    "GOAL: build PyTorch and part of FastAI using only \n",
    "- python and its std lib\n",
    "- matplotlib"
   ]
  },
  {
   "cell_type": "code",
   "execution_count": 10,
   "id": "e3b51c29",
   "metadata": {},
   "outputs": [],
   "source": [
    "from pathlib import Path\n",
    "import pickle, gzip, math, os, time, shutil, matplotlib as mpl, matplotlib.pyplot as plt"
   ]
  },
  {
   "cell_type": "markdown",
   "id": "1ed35361",
   "metadata": {},
   "source": [
    "Get Data:"
   ]
  },
  {
   "cell_type": "code",
   "execution_count": 11,
   "id": "d1043402",
   "metadata": {},
   "outputs": [],
   "source": [
    "mnistUrl = \"https://github.com/mnielsen/neural-networks-and-deep-learning/blob/master/data/mnist.pkl.gz?raw=true\"\n",
    "pathData = Path('data') # creates a path obj \n",
    "pathData.mkdir(exist_ok=True) # create folder named 'data' in cwd\n",
    "pathGz = pathData/'mnist.pkl.gz' # create filename as pwd/data/mnist.pkl.gz"
   ]
  },
  {
   "cell_type": "code",
   "execution_count": 12,
   "id": "92ac0775",
   "metadata": {},
   "outputs": [],
   "source": [
    "from urllib.request import urlretrieve\n",
    "\n",
    "if not pathGz.exists(): # if the data file does not exists \n",
    "    urlretrieve(mnistUrl, pathGz) # grab it from url using urlretrieve with (url, path/to/fielname)"
   ]
  },
  {
   "cell_type": "code",
   "execution_count": 13,
   "id": "bf78627d",
   "metadata": {},
   "outputs": [],
   "source": [
    "# opens file saved as pathGz in read mode, and extracts data from it\n",
    "# pickle objs py-objs saved to disk\n",
    "with gzip.open(pathGz, 'rb') as f: # read as binary: 'rb'\n",
    "    ((x_train, y_train), (x_valid, y_valid), _) = pickle.load(f, encoding='latin-1')"
   ]
  },
  {
   "cell_type": "code",
   "execution_count": 14,
   "id": "956b01dd",
   "metadata": {},
   "outputs": [
    {
     "data": {
      "text/plain": [
       "784"
      ]
     },
     "execution_count": 14,
     "metadata": {},
     "output_type": "execute_result"
    }
   ],
   "source": [
    "# minst contains 60k images 28x28; they come as 1 rank tensor/arrays\n",
    "type(x_train[0])\n",
    "# given that we cannot use numpy/pytorch yet let's cast it to list\n",
    "lst1 = list(x_train[0])\n",
    "len(lst1) # <- list of 784 els (=28*28 imgs pixels)"
   ]
  },
  {
   "cell_type": "code",
   "execution_count": 15,
   "id": "83781f99",
   "metadata": {},
   "outputs": [],
   "source": [
    "# let's split an obs as 28 lists of 28 elements using iterators\n",
    "def chunks(x, sz):\n",
    "    for i in range(0, len(x), sz): # 0 required!\n",
    "        yield x[i:i+sz]"
   ]
  },
  {
   "cell_type": "code",
   "execution_count": 16,
   "id": "ec75ecbe",
   "metadata": {},
   "outputs": [
    {
     "data": {
      "text/plain": [
       "<generator object chunks at 0x000001C9087DB3D0>"
      ]
     },
     "execution_count": 16,
     "metadata": {},
     "output_type": "execute_result"
    }
   ],
   "source": [
    "chunks(lst1, 28) # creates an iterator/iterable\n",
    "# this is a generator obj; it is better than most of the other iterables cuz \n",
    "# generators don't store all the values in memory at once, useful when working with large data sets or infinite sequence"
   ]
  },
  {
   "cell_type": "code",
   "execution_count": 7,
   "id": "bdcbeedc",
   "metadata": {},
   "outputs": [
    {
     "name": "stdout",
     "output_type": "stream",
     "text": [
      "28 True\n"
     ]
    }
   ],
   "source": [
    "tmpImg = list(chunks(lst1, 28))\n",
    "print(len(tmpImg), all([len(i)==28 for i in tmpImg]))\n",
    "\n",
    "# se we have encoded an image as a single list of 28 lists of 28 elements"
   ]
  },
  {
   "cell_type": "code",
   "execution_count": 8,
   "id": "3cbd9862",
   "metadata": {},
   "outputs": [],
   "source": [
    "# you can call an iterator via iter func\n",
    "val_iter = chunks(lst1, 28)"
   ]
  },
  {
   "cell_type": "code",
   "execution_count": 9,
   "id": "85eff69c",
   "metadata": {},
   "outputs": [
    {
     "data": {
      "text/plain": [
       "[0.0,\n",
       " 0.0,\n",
       " 0.0,\n",
       " 0.0,\n",
       " 0.0,\n",
       " 0.0,\n",
       " 0.0,\n",
       " 0.0,\n",
       " 0.0,\n",
       " 0.0,\n",
       " 0.0,\n",
       " 0.0,\n",
       " 0.0,\n",
       " 0.0,\n",
       " 0.0,\n",
       " 0.0,\n",
       " 0.0,\n",
       " 0.0,\n",
       " 0.0,\n",
       " 0.0,\n",
       " 0.0,\n",
       " 0.0,\n",
       " 0.0,\n",
       " 0.0,\n",
       " 0.0,\n",
       " 0.0,\n",
       " 0.0,\n",
       " 0.0]"
      ]
     },
     "execution_count": 9,
     "metadata": {},
     "output_type": "execute_result"
    }
   ],
   "source": [
    "next(val_iter) \n",
    "# to yield all the contnent in the iterator, when over it raises a StopIteration exception"
   ]
  },
  {
   "cell_type": "code",
   "execution_count": 10,
   "id": "50f7bd99",
   "metadata": {},
   "outputs": [
    {
     "data": {
      "text/plain": [
       "<matplotlib.image.AxesImage at 0x1fed0f6d550>"
      ]
     },
     "execution_count": 10,
     "metadata": {},
     "output_type": "execute_result"
    },
    {
     "data": {
      "image/png": "[encoded data removed]",
      "text/plain": [
       "<Figure size 640x480 with 1 Axes>"
      ]
     },
     "metadata": {},
     "output_type": "display_data"
    }
   ],
   "source": [
    "mpl.rcParams['image.cmap'] = 'gray'\n",
    "plt.imshow(list(chunks(lst1, 28)))"
   ]
  },
  {
   "cell_type": "code",
   "execution_count": 11,
   "id": "0784c3ba",
   "metadata": {},
   "outputs": [],
   "source": [
    "from itertools import islice\n",
    "# let's see another way to do this \n",
    "# stream things, one at the time, not storing all in mem\n",
    "\n",
    "# you can cast a list to an iterator:\n",
    "it = iter(lst1)"
   ]
  },
  {
   "cell_type": "code",
   "execution_count": 12,
   "id": "65a15f57",
   "metadata": {},
   "outputs": [
    {
     "data": {
      "text/plain": [
       "<itertools.islice at 0x1fed0f9f2e0>"
      ]
     },
     "execution_count": 12,
     "metadata": {},
     "output_type": "execute_result"
    }
   ],
   "source": [
    "# now we can call next on it one at the time\n",
    "islice(it, 5) # islice makes generator return only at most the 5 Ns els \n",
    "# in this case, while the generator actually consumes its data!"
   ]
  },
  {
   "cell_type": "code",
   "execution_count": 13,
   "id": "1c0e370b",
   "metadata": {},
   "outputs": [],
   "source": [
    "# thus calling islice(it, 5) multiple times will return the first 5 els in the iterator\n",
    "# untill the iterator is consumed"
   ]
  },
  {
   "cell_type": "code",
   "execution_count": 14,
   "id": "0fdb0b6b",
   "metadata": {},
   "outputs": [],
   "source": [
    "# so we can redefine chunks as following:\n",
    "def chunks_(x, sz):\n",
    "    it = iter(x)\n",
    "    f = lambda sz: list(islice(it, sz))\n",
    "    return list(iter(lambda: f(sz), [])) # method to call lambda with 2 args\n",
    "# calls list(islice(it, sz)); with particular size untill []\n",
    "\n",
    "# iter will call the lambda untill it gets a [] as return "
   ]
  },
  {
   "cell_type": "code",
   "execution_count": 15,
   "id": "c7442d86",
   "metadata": {},
   "outputs": [
    {
     "name": "stdout",
     "output_type": "stream",
     "text": [
      "28 True\n"
     ]
    }
   ],
   "source": [
    "tmpImg2 = chunks_(lst1, 28)\n",
    "print(len(tmpImg2), all([len(i)==28 for i in tmpImg2]))"
   ]
  },
  {
   "cell_type": "markdown",
   "id": "e2537c2d",
   "metadata": {},
   "source": [
    "# Matrix definition "
   ]
  },
  {
   "cell_type": "code",
   "execution_count": 16,
   "id": "88885968",
   "metadata": {},
   "outputs": [
    {
     "data": {
      "text/plain": [
       "0.98828125"
      ]
     },
     "execution_count": 16,
     "metadata": {},
     "output_type": "execute_result"
    }
   ],
   "source": [
    "# We can index into list of lists as following:\n",
    "tmpImg[20][15] # to get a single value -> we have defined a matrix!"
   ]
  },
  {
   "cell_type": "code",
   "execution_count": 17,
   "id": "2d840f59",
   "metadata": {},
   "outputs": [],
   "source": [
    "class Matrix():\n",
    "    def __init__(self, x): \n",
    "        self.x = x\n",
    "    def __getitem__(self, idxs): # this defines the behavior of []\n",
    "        print(idxs[0], idxs[1])\n",
    "        return self.x[idxs[0]][idxs[1]]"
   ]
  },
  {
   "cell_type": "code",
   "execution_count": 18,
   "id": "82b5feb8",
   "metadata": {},
   "outputs": [],
   "source": [
    "img = Matrix(tmpImg2)"
   ]
  },
  {
   "cell_type": "code",
   "execution_count": 19,
   "id": "b8217b06",
   "metadata": {},
   "outputs": [
    {
     "name": "stdout",
     "output_type": "stream",
     "text": [
      "20 15\n"
     ]
    },
    {
     "data": {
      "text/plain": [
       "0.98828125"
      ]
     },
     "execution_count": 19,
     "metadata": {},
     "output_type": "execute_result"
    }
   ],
   "source": [
    "img[20, 15]"
   ]
  },
  {
   "cell_type": "code",
   "execution_count": 20,
   "id": "7109a195",
   "metadata": {},
   "outputs": [],
   "source": [
    "# so we can now use the pytorch tensor class (cuz it actually is a matrix)\n",
    "import torch\n",
    "from torch import tensor"
   ]
  },
  {
   "cell_type": "code",
   "execution_count": 21,
   "id": "cd0141ee",
   "metadata": {},
   "outputs": [
    {
     "data": {
      "text/plain": [
       "tensor([[1, 2, 3],\n",
       "        [4, 5, 6]])"
      ]
     },
     "execution_count": 21,
     "metadata": {},
     "output_type": "execute_result"
    }
   ],
   "source": [
    "# and we can now pass to tensor a list of lists to create a matrix, eg:\n",
    "tensor([[1,2,3], [4,5,6]])"
   ]
  },
  {
   "cell_type": "code",
   "execution_count": 22,
   "id": "439ecb3a",
   "metadata": {},
   "outputs": [
    {
     "name": "stdout",
     "output_type": "stream",
     "text": [
      "torch.Size([28, 28])\n"
     ]
    },
    {
     "data": {
      "text/plain": [
       "tensor(0.9883)"
      ]
     },
     "execution_count": 22,
     "metadata": {},
     "output_type": "execute_result"
    }
   ],
   "source": [
    "imgT = tensor(tmpImg2)\n",
    "print(imgT.shape)\n",
    "imgT[20, 15]"
   ]
  },
  {
   "cell_type": "code",
   "execution_count": 23,
   "id": "843415aa",
   "metadata": {},
   "outputs": [],
   "source": [
    "# now we can convert all x_train to tensor\n",
    "# with map you apply an f to an iterable(s)\n",
    "x_train, y_train, x_valid, y_valid = map(tensor, (x_train, y_train, x_valid, y_valid))"
   ]
  },
  {
   "cell_type": "code",
   "execution_count": 24,
   "id": "ef06def1",
   "metadata": {},
   "outputs": [
    {
     "data": {
      "text/plain": [
       "torch.Size([50000, 784])"
      ]
     },
     "execution_count": 24,
     "metadata": {},
     "output_type": "execute_result"
    }
   ],
   "source": [
    "# so we can now explore x_train dataset:\n",
    "x_train.shape\n",
    "# so it contain 50000 imgs row structured"
   ]
  },
  {
   "cell_type": "code",
   "execution_count": 25,
   "id": "f691a0eb",
   "metadata": {},
   "outputs": [],
   "source": [
    "# we can thus reshape them to make them 28*28 using auto definition of dimensions:\n",
    "imgs = x_train.reshape([-1, 28, 28])"
   ]
  },
  {
   "cell_type": "code",
   "execution_count": 26,
   "id": "091a039a",
   "metadata": {},
   "outputs": [
    {
     "data": {
      "text/plain": [
       "<matplotlib.image.AxesImage at 0x1fede008f90>"
      ]
     },
     "execution_count": 26,
     "metadata": {},
     "output_type": "execute_result"
    },
    {
     "data": {
      "image/png": "[encoded data removed]",
      "text/plain": [
       "<Figure size 640x480 with 1 Axes>"
      ]
     },
     "metadata": {},
     "output_type": "display_data"
    }
   ],
   "source": [
    "plt.imshow(imgs[0])"
   ]
  },
  {
   "cell_type": "markdown",
   "id": "03cca826",
   "metadata": {},
   "source": [
    "# Random Numbers"
   ]
  },
  {
   "cell_type": "code",
   "execution_count": 27,
   "id": "f21f135c",
   "metadata": {},
   "outputs": [],
   "source": [
    "# wichmann hill algo\n",
    "rnd_state = None\n",
    "def seed(a):\n",
    "    global rnd_state\n",
    "    a, x = divmod(a, 30268)\n",
    "    a, y = divmod(a, 30306)\n",
    "    a, z = divmod(a, 30322)\n",
    "    rnd_state = int(x)+1, int(y)+1, int(z)+1"
   ]
  },
  {
   "cell_type": "code",
   "execution_count": 28,
   "id": "86e4c47b",
   "metadata": {},
   "outputs": [
    {
     "data": {
      "text/plain": [
       "(13318, 412, 1)"
      ]
     },
     "execution_count": 28,
     "metadata": {},
     "output_type": "execute_result"
    }
   ],
   "source": [
    "seed(12453465)\n",
    "rnd_state"
   ]
  },
  {
   "cell_type": "code",
   "execution_count": 29,
   "id": "fdc6dac8",
   "metadata": {},
   "outputs": [],
   "source": [
    "def rand():\n",
    "    global rnd_state # pull\n",
    "    x, y, z = rnd_state\n",
    "    x = (171 * x) % 30268\n",
    "    y = (171 * y) % 30306\n",
    "    z = (171 * z) % 30322\n",
    "    rnd_state = x, y, z # reset\n",
    "    return (x/30268 + y/30306 + z/30322) % 1.0\n",
    "\n",
    "# random number generators depend on rnd_state, which is a global var!"
   ]
  },
  {
   "cell_type": "code",
   "execution_count": 30,
   "id": "44c48c33",
   "metadata": {},
   "outputs": [
    {
     "data": {
      "text/plain": [
       "[<matplotlib.lines.Line2D at 0x1fec5cf23d0>]"
      ]
     },
     "execution_count": 30,
     "metadata": {},
     "output_type": "execute_result"
    },
    {
     "data": {
      "image/png": "[encoded data removed]",
      "text/plain": [
       "<Figure size 640x480 with 1 Axes>"
      ]
     },
     "metadata": {},
     "output_type": "display_data"
    }
   ],
   "source": [
    "# no explicit relationship between values\n",
    "plt.plot([rand() for _ in range(50)])"
   ]
  },
  {
   "cell_type": "code",
   "execution_count": 31,
   "id": "0268ac50",
   "metadata": {},
   "outputs": [
    {
     "data": {
      "text/plain": [
       "(array([4918., 4984., 5043., 4984., 5032., 4975., 4953., 5006., 5018.,\n",
       "        5087.]),\n",
       " array([1.19355755e-05, 1.00008702e-01, 2.00005468e-01, 3.00002235e-01,\n",
       "        3.99999001e-01, 4.99995768e-01, 5.99992534e-01, 6.99989300e-01,\n",
       "        7.99986067e-01, 8.99982833e-01, 9.99979600e-01]),\n",
       " <BarContainer object of 10 artists>)"
      ]
     },
     "execution_count": 31,
     "metadata": {},
     "output_type": "execute_result"
    },
    {
     "data": {
      "image/png": "[encoded data removed]",
      "text/plain": [
       "<Figure size 640x480 with 1 Axes>"
      ]
     },
     "metadata": {},
     "output_type": "display_data"
    }
   ],
   "source": [
    "# uniformed dist numbers -> evenly spread values in the range \n",
    "plt.hist([rand() for _ in range(50000)])"
   ]
  },
  {
   "cell_type": "code",
   "execution_count": 33,
   "id": "b868865a",
   "metadata": {},
   "outputs": [
    {
     "data": {
      "text/plain": [
       "\"if os.fork():\\n    print(f'In parent process: {rand()}')\\nelse:\\n    print(f'In child process: {rand()}')\\n    os._exit(os.EX_OK)\\n\""
      ]
     },
     "execution_count": 33,
     "metadata": {},
     "output_type": "execute_result"
    }
   ],
   "source": [
    "# remembering that random number generators depend on rnd_state, which is a global var!\n",
    "# let us create a copy of this python process via os.fork\n",
    "\n",
    "# this will run only on linux\n",
    "\n",
    "'''if os.fork():\n",
    "    print(f'In parent process: {rand()}')\n",
    "else:\n",
    "    print(f'In child process: {rand()}')\n",
    "    os._exit(os.EX_OK)\n",
    "'''\n",
    "\n",
    "# the two processes are copies of each other, \n",
    "# so they produce the same random number\n",
    "# since it is based on the rnd_state\n",
    "# thus u have to be careful when parallelizing stuff cuz of this\n",
    "# torch and numpy have it wrong!\n",
    "# rnd_state must be reinitialized in each fork"
   ]
  },
  {
   "cell_type": "code",
   "execution_count": 34,
   "id": "343743fe",
   "metadata": {},
   "outputs": [
    {
     "name": "stdout",
     "output_type": "stream",
     "text": [
      "24.6 ms ± 1.08 ms per loop (mean ± std. dev. of 7 runs, 10 loops each)\n"
     ]
    }
   ],
   "source": [
    "%timeit -n 10 list(chunks([rand() for _ in range(70840)], 10))"
   ]
  },
  {
   "cell_type": "code",
   "execution_count": 35,
   "id": "26fb72d2",
   "metadata": {},
   "outputs": [
    {
     "name": "stdout",
     "output_type": "stream",
     "text": [
      "3.8 ms ± 356 µs per loop (mean ± std. dev. of 7 runs, 10 loops each)\n"
     ]
    }
   ],
   "source": [
    "%timeit -n 10 torch.randn(70840, 10)\n",
    "# torch is much faster then our code so we are going to use it"
   ]
  },
  {
   "cell_type": "markdown",
   "id": "5fd89b82",
   "metadata": {},
   "source": [
    "# Forward pass of a MultiLayerPerceptron for MNIST"
   ]
  },
  {
   "cell_type": "code",
   "execution_count": 36,
   "id": "2be32fed",
   "metadata": {},
   "outputs": [
    {
     "data": {
      "text/plain": [
       "torch.Size([5, 784])"
      ]
     },
     "execution_count": 36,
     "metadata": {},
     "output_type": "execute_result"
    }
   ],
   "source": [
    "# we have data, random weights -> now we need matrix multiplication \n",
    "# let's consider a batch of size 5 -> 5 images\n",
    "# their shape is:\n",
    "x_train[:5].shape"
   ]
  },
  {
   "cell_type": "code",
   "execution_count": 37,
   "id": "01b4113c",
   "metadata": {},
   "outputs": [
    {
     "data": {
      "text/plain": [
       "tensor([0, 1, 2, 3, 4, 5, 6, 7, 8, 9])"
      ]
     },
     "execution_count": 37,
     "metadata": {},
     "output_type": "execute_result"
    }
   ],
   "source": [
    "# given that we have 10 labels for output\n",
    "y_train.unique(return_counts=False) # unique values in y_train"
   ]
  },
  {
   "cell_type": "code",
   "execution_count": 38,
   "id": "503b65ee",
   "metadata": {},
   "outputs": [
    {
     "name": "stdout",
     "output_type": "stream",
     "text": [
      "tensor([4932, 5678, 4968, 5101, 4859, 4506, 4951, 5175, 4842, 4988])\n"
     ]
    },
    {
     "data": {
      "text/plain": [
       "tensor(50000)"
      ]
     },
     "execution_count": 38,
     "metadata": {},
     "output_type": "execute_result"
    }
   ],
   "source": [
    "print(torch.bincount(y_train)) # occurrences for each label in y_train\n",
    "sum(torch.bincount(y_train))"
   ]
  },
  {
   "cell_type": "code",
   "execution_count": 39,
   "id": "eea9f7a9",
   "metadata": {},
   "outputs": [],
   "source": [
    "# for our single layer mlp input shape: 5x784 \n",
    "# thus we need thus a weight matrix of shape 784x10 \n",
    "# to map from data space to out space\n",
    "# result shape 5x10"
   ]
  },
  {
   "cell_type": "code",
   "execution_count": 40,
   "id": "f3028787",
   "metadata": {},
   "outputs": [],
   "source": [
    "torch.manual_seed(1)\n",
    "# define random weights \n",
    "weights = torch.randn(784, 10)\n",
    "bias = torch.zeros(10)"
   ]
  },
  {
   "cell_type": "code",
   "execution_count": 41,
   "id": "daabcd0c",
   "metadata": {},
   "outputs": [],
   "source": [
    "batch1 = x_train[:5]"
   ]
  },
  {
   "cell_type": "code",
   "execution_count": 42,
   "id": "876546fc",
   "metadata": {},
   "outputs": [
    {
     "data": {
      "text/plain": [
       "(torch.Size([5, 784]), torch.Size([784, 10]))"
      ]
     },
     "execution_count": 42,
     "metadata": {},
     "output_type": "execute_result"
    }
   ],
   "source": [
    "batch1.shape, weights.shape"
   ]
  },
  {
   "cell_type": "code",
   "execution_count": 43,
   "id": "77d5259b",
   "metadata": {},
   "outputs": [
    {
     "data": {
      "text/plain": [
       "((5, 784), (784, 10))"
      ]
     },
     "execution_count": 43,
     "metadata": {},
     "output_type": "execute_result"
    }
   ],
   "source": [
    "batchRows, featureDims = batch1.shape\n",
    "weightsRows, weightsCols = weights.shape\n",
    "\n",
    "(batchRows, featureDims), (weightsRows, weightsCols)"
   ]
  },
  {
   "cell_type": "code",
   "execution_count": 44,
   "id": "ea25a730",
   "metadata": {},
   "outputs": [
    {
     "data": {
      "text/plain": [
       "torch.Size([5, 10])"
      ]
     },
     "execution_count": 44,
     "metadata": {},
     "output_type": "execute_result"
    }
   ],
   "source": [
    "# create container for result\n",
    "res = torch.zeros([5, 10])\n",
    "res.shape"
   ]
  },
  {
   "cell_type": "code",
   "execution_count": 45,
   "id": "18812165",
   "metadata": {},
   "outputs": [],
   "source": [
    "for idxRow in range(batchRows): # select row \n",
    "    for idxCol in range(weightsCols): # select col \n",
    "        for i in range(featureDims): # selected row/col have same dims \n",
    "            res[idxRow, idxCol] += batch1[idxRow, i] * weights[i, idxCol]"
   ]
  },
  {
   "cell_type": "code",
   "execution_count": 46,
   "id": "9a3e41fd",
   "metadata": {},
   "outputs": [
    {
     "data": {
      "text/plain": [
       "tensor([[  0.9577,  -2.9557,  -2.1148,   0.2679,   1.2794,  -5.2002, -10.3146,\n",
       "         -15.0880, -17.6923,   0.6007],\n",
       "        [  6.8906,  -0.3425,   0.7923, -14.7387,   6.9035,  -3.0802, -15.0396,\n",
       "         -17.1321, -25.3572,  16.2312],\n",
       "        [-10.1834,   7.3808,   4.1311,   3.2661,  13.8806,  -5.1509,  -7.1424,\n",
       "          -6.7345,  -6.7882,  -1.5788],\n",
       "        [  0.9694,   2.3867, -15.2159,   7.7303,  -8.1857, -12.3311,  -5.9767,\n",
       "          -1.1720,   7.0489,  -1.4185],\n",
       "        [  6.8513,  14.0698, -11.9205,   2.3367,   4.6249,  -3.3725,  -5.4689,\n",
       "          -0.6507, -30.5564,   7.8773]])"
      ]
     },
     "execution_count": 46,
     "metadata": {},
     "output_type": "execute_result"
    }
   ],
   "source": [
    "res"
   ]
  },
  {
   "cell_type": "code",
   "execution_count": 47,
   "id": "bf22b628",
   "metadata": {},
   "outputs": [],
   "source": [
    "torch.set_printoptions(precision=2, linewidth=160, sci_mode=False)\n",
    "import numpy as np\n",
    "np.set_printoptions(precision=2, linewidth = 140)"
   ]
  },
  {
   "cell_type": "code",
   "execution_count": 48,
   "id": "a9893db3",
   "metadata": {},
   "outputs": [
    {
     "data": {
      "text/plain": [
       "tensor([[  0.96,  -2.96,  -2.11,   0.27,   1.28,  -5.20, -10.31, -15.09, -17.69,   0.60],\n",
       "        [  6.89,  -0.34,   0.79, -14.74,   6.90,  -3.08, -15.04, -17.13, -25.36,  16.23],\n",
       "        [-10.18,   7.38,   4.13,   3.27,  13.88,  -5.15,  -7.14,  -6.73,  -6.79,  -1.58],\n",
       "        [  0.97,   2.39, -15.22,   7.73,  -8.19, -12.33,  -5.98,  -1.17,   7.05,  -1.42],\n",
       "        [  6.85,  14.07, -11.92,   2.34,   4.62,  -3.37,  -5.47,  -0.65, -30.56,   7.88]])"
      ]
     },
     "execution_count": 48,
     "metadata": {},
     "output_type": "execute_result"
    }
   ],
   "source": [
    "res"
   ]
  },
  {
   "cell_type": "code",
   "execution_count": 49,
   "id": "35a995fe",
   "metadata": {},
   "outputs": [],
   "source": [
    "def matMul(a, b):\n",
    "    ar, ac = a.shape\n",
    "    _, bc = b.shape\n",
    "\n",
    "    res = torch.zeros([ar, bc])\n",
    "    for idxRow in range(ar): # select row \n",
    "        for idxCol in range(bc): # select col \n",
    "            for i in range(ac): # selected row/col have same dims, does dot prod\n",
    "                res[idxRow, idxCol] += a[idxRow, i] * b[i, idxCol]\n",
    "    return res"
   ]
  },
  {
   "cell_type": "code",
   "execution_count": 50,
   "id": "75d85b15",
   "metadata": {},
   "outputs": [
    {
     "data": {
      "text/plain": [
       "tensor([[  0.96,  -2.96,  -2.11,   0.27,   1.28,  -5.20, -10.31, -15.09, -17.69,   0.60],\n",
       "        [  6.89,  -0.34,   0.79, -14.74,   6.90,  -3.08, -15.04, -17.13, -25.36,  16.23],\n",
       "        [-10.18,   7.38,   4.13,   3.27,  13.88,  -5.15,  -7.14,  -6.73,  -6.79,  -1.58],\n",
       "        [  0.97,   2.39, -15.22,   7.73,  -8.19, -12.33,  -5.98,  -1.17,   7.05,  -1.42],\n",
       "        [  6.85,  14.07, -11.92,   2.34,   4.62,  -3.37,  -5.47,  -0.65, -30.56,   7.88]])"
      ]
     },
     "execution_count": 50,
     "metadata": {},
     "output_type": "execute_result"
    }
   ],
   "source": [
    "matMul(batch1, weights)"
   ]
  },
  {
   "cell_type": "code",
   "execution_count": 51,
   "id": "800d0a57",
   "metadata": {},
   "outputs": [
    {
     "name": "stdout",
     "output_type": "stream",
     "text": [
      "802 ms ± 33.9 ms per loop (mean ± std. dev. of 7 runs, 1 loop each)\n"
     ]
    }
   ],
   "source": [
    "%timeit matMul(batch1, weights) # 0.76 secs crazy slow"
   ]
  },
  {
   "cell_type": "markdown",
   "id": "01eaf939",
   "metadata": {},
   "source": [
    "# Numba"
   ]
  },
  {
   "cell_type": "code",
   "execution_count": 52,
   "id": "a1bc5f2c",
   "metadata": {},
   "outputs": [],
   "source": [
    "# so we have to use something to speed up matrix mul, such as numba which takes \n",
    "# py code and turns it into machine code\n",
    "\n",
    "#! pip install numba\n",
    "from numba import njit\n",
    "\n",
    "# first time sees dot() compiles it into machine code and uses it\n",
    "@njit\n",
    "def dotProd(a,b):\n",
    "    # dot prod of two vectors\n",
    "    res = 0\n",
    "    for i in range(len(a)):\n",
    "        res += a[i]*b[i]\n",
    "    return res\n",
    "    \n",
    "    "
   ]
  },
  {
   "cell_type": "code",
   "execution_count": 53,
   "id": "84c77dc9",
   "metadata": {},
   "outputs": [
    {
     "data": {
      "text/plain": [
       "-2.1147920218500076"
      ]
     },
     "execution_count": 53,
     "metadata": {},
     "output_type": "execute_result"
    }
   ],
   "source": [
    "dotProd(batch1[0].numpy(), weights[:,2].numpy())"
   ]
  },
  {
   "cell_type": "code",
   "execution_count": 54,
   "id": "ad516e64",
   "metadata": {},
   "outputs": [],
   "source": [
    "# numba does not work with pytorch so we have to use numpy\n",
    "from numpy import array"
   ]
  },
  {
   "cell_type": "code",
   "execution_count": 55,
   "id": "484e9e7c",
   "metadata": {},
   "outputs": [
    {
     "name": "stdout",
     "output_type": "stream",
     "text": [
      "CPU times: total: 0 ns\n",
      "Wall time: 72.8 ms\n"
     ]
    },
    {
     "data": {
      "text/plain": [
       "14.0"
      ]
     },
     "execution_count": 55,
     "metadata": {},
     "output_type": "execute_result"
    }
   ],
   "source": [
    "%time dotProd(array([1.,2.,3.]), array([1.,2.,3.]))"
   ]
  },
  {
   "cell_type": "code",
   "execution_count": 56,
   "id": "2adf0db2",
   "metadata": {},
   "outputs": [
    {
     "name": "stdout",
     "output_type": "stream",
     "text": [
      "CPU times: total: 0 ns\n",
      "Wall time: 0 ns\n"
     ]
    },
    {
     "data": {
      "text/plain": [
       "14.0"
      ]
     },
     "execution_count": 56,
     "metadata": {},
     "output_type": "execute_result"
    }
   ],
   "source": [
    "# since it was the first time it executed dotProd, it had to compile it,\n",
    "# now that it is compiled it is much faster\n",
    "%time dotProd(array([1.,2.,3.]), array([1.,2.,3.]))"
   ]
  },
  {
   "cell_type": "code",
   "execution_count": 57,
   "id": "80319c8e",
   "metadata": {},
   "outputs": [],
   "source": [
    "# so we can now rewrite matMul using dotProd\n",
    "def matMul(a, b):\n",
    "    ar, ac = a.shape\n",
    "    _, bc = b.shape\n",
    "\n",
    "    res = torch.zeros(ar, bc)\n",
    "    for idxRow in range(ar): # select row \n",
    "        for idxCol in range(bc): # select col \n",
    "            res[idxRow, idxCol] = dotProd(a[idxRow], b[:, idxCol])\n",
    "    return res\n"
   ]
  },
  {
   "cell_type": "code",
   "execution_count": 58,
   "id": "fbead2ef",
   "metadata": {},
   "outputs": [],
   "source": [
    "# so now we test\n",
    "# 1) correctness\n",
    "# 2) speed\n",
    "\n",
    "# 1) correctness\n",
    "# !pip install fastai\n",
    "from fastcore.test import *\n",
    "test_close(res, matMul(batch1.numpy(), weights.numpy())) # if this does not raise then ok"
   ]
  },
  {
   "cell_type": "code",
   "execution_count": 59,
   "id": "a4eebadf",
   "metadata": {},
   "outputs": [
    {
     "name": "stdout",
     "output_type": "stream",
     "text": [
      "400 µs ± 35.7 µs per loop (mean ± std. dev. of 7 runs, 50 loops each)\n"
     ]
    }
   ],
   "source": [
    "%timeit -n 50 matMul(batch1.numpy(), weights.numpy())"
   ]
  },
  {
   "cell_type": "code",
   "execution_count": 60,
   "id": "84e2c704",
   "metadata": {},
   "outputs": [
    {
     "data": {
      "text/plain": [
       "tensor([[  0.96,  -2.96,  -2.11,   0.27,   1.28,  -5.20, -10.31, -15.09, -17.69,   0.60],\n",
       "        [  6.89,  -0.34,   0.79, -14.74,   6.90,  -3.08, -15.04, -17.13, -25.36,  16.23],\n",
       "        [-10.18,   7.38,   4.13,   3.27,  13.88,  -5.15,  -7.14,  -6.73,  -6.79,  -1.58],\n",
       "        [  0.97,   2.39, -15.22,   7.73,  -8.19, -12.33,  -5.98,  -1.17,   7.05,  -1.42],\n",
       "        [  6.85,  14.07, -11.92,   2.34,   4.62,  -3.37,  -5.47,  -0.65, -30.56,   7.88]])"
      ]
     },
     "execution_count": 60,
     "metadata": {},
     "output_type": "execute_result"
    }
   ],
   "source": [
    "res"
   ]
  },
  {
   "cell_type": "code",
   "execution_count": 61,
   "id": "b4bfa959",
   "metadata": {},
   "outputs": [
    {
     "data": {
      "text/plain": [
       "tensor([[  0.96,  -2.96,  -2.11,   0.27,   1.28,  -5.20, -10.31, -15.09, -17.69,   0.60],\n",
       "        [  6.89,  -0.34,   0.79, -14.74,   6.90,  -3.08, -15.04, -17.13, -25.36,  16.23],\n",
       "        [-10.18,   7.38,   4.13,   3.27,  13.88,  -5.15,  -7.14,  -6.73,  -6.79,  -1.58],\n",
       "        [  0.97,   2.39, -15.22,   7.73,  -8.19, -12.33,  -5.98,  -1.17,   7.05,  -1.42],\n",
       "        [  6.85,  14.07, -11.92,   2.34,   4.62,  -3.37,  -5.47,  -0.65, -30.56,   7.88]])"
      ]
     },
     "execution_count": 61,
     "metadata": {},
     "output_type": "execute_result"
    }
   ],
   "source": [
    "matMul(batch1.numpy(), weights.numpy())"
   ]
  },
  {
   "cell_type": "markdown",
   "id": "c7ea015d",
   "metadata": {},
   "source": [
    "# Element wise operations:\n",
    "- eg sum, masking "
   ]
  },
  {
   "cell_type": "code",
   "execution_count": 62,
   "id": "b77da7f4",
   "metadata": {},
   "outputs": [
    {
     "data": {
      "text/plain": [
       "tensor([[1., 2., 3.],\n",
       "        [4., 5., 6.],\n",
       "        [7., 8., 9.]])"
      ]
     },
     "execution_count": 62,
     "metadata": {},
     "output_type": "execute_result"
    }
   ],
   "source": [
    "m = tensor([[1.,2.,3],\n",
    "            [4.,5.,6],\n",
    "            [7.,8.,9]\n",
    "           ]); m"
   ]
  },
  {
   "cell_type": "markdown",
   "id": "d89c99f8",
   "metadata": {},
   "source": [
    "## Frobenious norm:\n",
    "$$\\|A\\|_\\text{F} = \\sqrt{\\sum_{j,i=1}^n |a_{ij}|^2}$$\n",
    "\n"
   ]
  },
  {
   "cell_type": "code",
   "execution_count": 63,
   "id": "3e01873c",
   "metadata": {},
   "outputs": [
    {
     "data": {
      "text/plain": [
       "tensor(16.88)"
      ]
     },
     "execution_count": 63,
     "metadata": {},
     "output_type": "execute_result"
    }
   ],
   "source": [
    "fn = ((m*m).sum()).sqrt();fn"
   ]
  },
  {
   "cell_type": "code",
   "execution_count": 64,
   "id": "30c25cb6",
   "metadata": {},
   "outputs": [
    {
     "data": {
      "text/plain": [
       "tensor([2, 4, 6])"
      ]
     },
     "execution_count": 64,
     "metadata": {},
     "output_type": "execute_result"
    }
   ],
   "source": [
    "a = tensor([1,2,3])\n",
    "b = tensor([2,2,2])\n",
    "a*b\n",
    "\n",
    "# * is an element wise operation we can replace the dotProd above with this!"
   ]
  },
  {
   "cell_type": "code",
   "execution_count": 65,
   "id": "501d63e2",
   "metadata": {},
   "outputs": [],
   "source": [
    "def matMul(a, b):\n",
    "    ar, ac = a.shape\n",
    "    _, bc = b.shape\n",
    "\n",
    "    res = torch.zeros(ar, bc)\n",
    "    for idxRow in range(ar): # select row \n",
    "        for idxCol in range(bc): # select col \n",
    "            #res[idxRow, idxCol] = (a[idxRow]* b[:, idxCol]).sum()\n",
    "            res[idxRow, idxCol] = torch.dot(a[idxRow], b[:, idxCol])\n",
    "    return res"
   ]
  },
  {
   "cell_type": "code",
   "execution_count": 66,
   "id": "51885205",
   "metadata": {},
   "outputs": [],
   "source": [
    "# since we are not using numba anymore we can omit np\n",
    "test_close(res, matMul(batch1, weights))"
   ]
  },
  {
   "cell_type": "code",
   "execution_count": 67,
   "id": "45943914",
   "metadata": {},
   "outputs": [
    {
     "name": "stdout",
     "output_type": "stream",
     "text": [
      "773 µs ± 39.9 µs per loop (mean ± std. dev. of 7 runs, 50 loops each)\n"
     ]
    }
   ],
   "source": [
    "%timeit -n 50 matMul(batch1, weights)"
   ]
  },
  {
   "cell_type": "markdown",
   "id": "dfe6df29",
   "metadata": {},
   "source": [
    "# Broadcasting\n",
    "What happens multiply add etc if we have array with different shapes\n"
   ]
  },
  {
   "cell_type": "code",
   "execution_count": 68,
   "id": "49cbf250",
   "metadata": {},
   "outputs": [
    {
     "data": {
      "text/plain": [
       "(tensor([True, True, True]), torch.Size([3]))"
      ]
     },
     "execution_count": 68,
     "metadata": {},
     "output_type": "execute_result"
    }
   ],
   "source": [
    "# eg\n",
    "t = tensor([1,2,4])\n",
    "t>0, t.shape # it's just as t > tensor([0,0,0,0])"
   ]
  },
  {
   "cell_type": "code",
   "execution_count": 69,
   "id": "6c052c4c",
   "metadata": {},
   "outputs": [
    {
     "data": {
      "text/plain": [
       "tensor([2, 3, 5])"
      ]
     },
     "execution_count": 69,
     "metadata": {},
     "output_type": "execute_result"
    }
   ],
   "source": [
    "t+1  # same idea: 1 is broadcasted to have the dims of t"
   ]
  },
  {
   "cell_type": "markdown",
   "id": "e67671c3",
   "metadata": {},
   "source": [
    "With scalars its easy, let's now see broadcasting a vector to a matrix"
   ]
  },
  {
   "cell_type": "code",
   "execution_count": 70,
   "id": "59cfb4aa",
   "metadata": {},
   "outputs": [
    {
     "data": {
      "text/plain": [
       "tensor([10., 20., 30.])"
      ]
     },
     "execution_count": 70,
     "metadata": {},
     "output_type": "execute_result"
    }
   ],
   "source": [
    "c = tensor([10, 20, 30.]); c"
   ]
  },
  {
   "cell_type": "code",
   "execution_count": 71,
   "id": "e371a88a",
   "metadata": {},
   "outputs": [
    {
     "data": {
      "text/plain": [
       "tensor([[1., 2., 3.],\n",
       "        [4., 5., 6.],\n",
       "        [7., 8., 9.]])"
      ]
     },
     "execution_count": 71,
     "metadata": {},
     "output_type": "execute_result"
    }
   ],
   "source": [
    "m # let's consider c and m"
   ]
  },
  {
   "cell_type": "code",
   "execution_count": 72,
   "id": "3439b511",
   "metadata": {},
   "outputs": [
    {
     "data": {
      "text/plain": [
       "tensor([[11., 22., 33.],\n",
       "        [14., 25., 36.],\n",
       "        [17., 28., 39.]])"
      ]
     },
     "execution_count": 72,
     "metadata": {},
     "output_type": "execute_result"
    }
   ],
   "source": [
    "m + c # c has been broadcasted over each row. How this happens?"
   ]
  },
  {
   "cell_type": "markdown",
   "id": "69cc1313",
   "metadata": {},
   "source": [
    "## expand_as Very important! "
   ]
  },
  {
   "cell_type": "code",
   "execution_count": 73,
   "id": "d385dc96",
   "metadata": {},
   "outputs": [
    {
     "data": {
      "text/plain": [
       "tensor([[10., 20., 30.],\n",
       "        [10., 20., 30.],\n",
       "        [10., 20., 30.]])"
      ]
     },
     "execution_count": 73,
     "metadata": {},
     "output_type": "execute_result"
    }
   ],
   "source": [
    "c1 = c.expand_as(m); c1 # so c1 is what is actually summed\n",
    "# s.t. have matching shape"
   ]
  },
  {
   "cell_type": "code",
   "execution_count": 74,
   "id": "77c29af5",
   "metadata": {},
   "outputs": [
    {
     "name": "stderr",
     "output_type": "stream",
     "text": [
      "C:\\Users\\MarcoNobile\\AppData\\Local\\Temp\\ipykernel_31352\\210543576.py:2: UserWarning: TypedStorage is deprecated. It will be removed in the future and UntypedStorage will be the only storage class. This should only matter to you if you are using storages directly.  To access UntypedStorage directly, use tensor.untyped_storage() instead of tensor.storage()\n",
      "  c1.storage()\n"
     ]
    },
    {
     "data": {
      "text/plain": [
       " 10.0\n",
       " 20.0\n",
       " 30.0\n",
       "[torch.storage.TypedStorage(dtype=torch.float32, device=cpu) of size 3]"
      ]
     },
     "execution_count": 74,
     "metadata": {},
     "output_type": "execute_result"
    }
   ],
   "source": [
    "# but c1 does not copy c in mem! How?\n",
    "c1.storage()"
   ]
  },
  {
   "cell_type": "code",
   "execution_count": 75,
   "id": "4d204141",
   "metadata": {},
   "outputs": [
    {
     "data": {
      "text/plain": [
       "((0, 1), torch.Size([3, 3]))"
      ]
     },
     "execution_count": 75,
     "metadata": {},
     "output_type": "execute_result"
    }
   ],
   "source": [
    "c1.stride(), c1.shape # before expand c had shape torch.Size([3])\n",
    "# it has a stride of 0 across the rows -> does not get copied, it stays there:\n",
    "# Stride is the jump necessary to go from one element to the next one in \n",
    "# the specified dimension input dim. default dim = 0 -> rowwise"
   ]
  },
  {
   "cell_type": "code",
   "execution_count": 76,
   "id": "1b6b0976",
   "metadata": {},
   "outputs": [
    {
     "data": {
      "text/plain": [
       "(torch.Size([3]), torch.Size([1, 3]))"
      ]
     },
     "execution_count": 76,
     "metadata": {},
     "output_type": "execute_result"
    }
   ],
   "source": [
    "# let's consider c\n",
    "c2 = c.unsqueeze(0); # c[None,: ] or c[None] is the same\n",
    "c.shape, c2.shape\n",
    "# unsqueeze(0) adds a unit axis ie a dimension over the first ax"
   ]
  },
  {
   "cell_type": "code",
   "execution_count": 77,
   "id": "69dcf2a8",
   "metadata": {},
   "outputs": [
    {
     "data": {
      "text/plain": [
       "(tensor([[10., 20., 30.]]), torch.Size([1, 3]))"
      ]
     },
     "execution_count": 77,
     "metadata": {},
     "output_type": "execute_result"
    }
   ],
   "source": [
    "c2, c2.shape # a matrix with 1 row and 3 cols"
   ]
  },
  {
   "cell_type": "code",
   "execution_count": 78,
   "id": "82a5788a",
   "metadata": {},
   "outputs": [
    {
     "data": {
      "text/plain": [
       "(torch.Size([3]), torch.Size([3, 1]))"
      ]
     },
     "execution_count": 78,
     "metadata": {},
     "output_type": "execute_result"
    }
   ],
   "source": [
    "c3 = c.unsqueeze(1); \n",
    "c.shape, c3.shape\n",
    "# c[None,: ] or c[..., None] is the same; ... all previous dims"
   ]
  },
  {
   "cell_type": "code",
   "execution_count": 79,
   "id": "5c563927",
   "metadata": {},
   "outputs": [
    {
     "data": {
      "text/plain": [
       "(tensor([[10.],\n",
       "         [20.],\n",
       "         [30.]]),\n",
       " torch.Size([3, 1]))"
      ]
     },
     "execution_count": 79,
     "metadata": {},
     "output_type": "execute_result"
    }
   ],
   "source": [
    "c3, c3.shape # a matrix with 3 rows and 1 col"
   ]
  },
  {
   "cell_type": "code",
   "execution_count": 80,
   "id": "96fc47d1",
   "metadata": {},
   "outputs": [
    {
     "data": {
      "text/plain": [
       "(torch.Size([3, 1]), torch.Size([3, 3]))"
      ]
     },
     "execution_count": 80,
     "metadata": {},
     "output_type": "execute_result"
    }
   ],
   "source": [
    "# we can now broadcast instead of over rows but over cols with the (3,1) matrix\n",
    "c4 = c3.expand_as(m)\n",
    "c3.shape, c4.shape"
   ]
  },
  {
   "cell_type": "code",
   "execution_count": 81,
   "id": "d268b28d",
   "metadata": {},
   "outputs": [
    {
     "data": {
      "text/plain": [
       "tensor([[10., 10., 10.],\n",
       "        [20., 20., 20.],\n",
       "        [30., 30., 30.]])"
      ]
     },
     "execution_count": 81,
     "metadata": {},
     "output_type": "execute_result"
    }
   ],
   "source": [
    "c4"
   ]
  },
  {
   "cell_type": "code",
   "execution_count": 82,
   "id": "6d80359b",
   "metadata": {},
   "outputs": [
    {
     "data": {
      "text/plain": [
       "tensor([[11., 12., 13.],\n",
       "        [24., 25., 26.],\n",
       "        [37., 38., 39.]])"
      ]
     },
     "execution_count": 82,
     "metadata": {},
     "output_type": "execute_result"
    }
   ],
   "source": [
    "m + c4"
   ]
  },
  {
   "cell_type": "code",
   "execution_count": 83,
   "id": "1021122b",
   "metadata": {},
   "outputs": [
    {
     "data": {
      "text/plain": [
       "tensor([[10.],\n",
       "        [20.],\n",
       "        [30.]])"
      ]
     },
     "execution_count": 83,
     "metadata": {},
     "output_type": "execute_result"
    }
   ],
   "source": [
    "# but I can do the same thing in an easier way by:\n",
    "c3"
   ]
  },
  {
   "cell_type": "code",
   "execution_count": 84,
   "id": "59a0b9f0",
   "metadata": {},
   "outputs": [
    {
     "data": {
      "text/plain": [
       "tensor([[11., 12., 13.],\n",
       "        [24., 25., 26.],\n",
       "        [37., 38., 39.]])"
      ]
     },
     "execution_count": 84,
     "metadata": {},
     "output_type": "execute_result"
    }
   ],
   "source": [
    "m + c3\n",
    "# it broadcasts the col vect over the cols of the matrix"
   ]
  },
  {
   "cell_type": "markdown",
   "id": "0162fc5b",
   "metadata": {},
   "source": [
    "# Outerproduct"
   ]
  },
  {
   "cell_type": "code",
   "execution_count": 85,
   "id": "51087538",
   "metadata": {},
   "outputs": [
    {
     "data": {
      "text/plain": [
       "(torch.Size([1, 3]), torch.Size([3, 1]))"
      ]
     },
     "execution_count": 85,
     "metadata": {},
     "output_type": "execute_result"
    }
   ],
   "source": [
    "# by mutipling a (1, 3) * (3, 1) with broadcasting then we get a (3, 3) \n",
    "# that is the outerproduct\n",
    "c2.shape, c3.shape"
   ]
  },
  {
   "cell_type": "code",
   "execution_count": 86,
   "id": "1639a499",
   "metadata": {},
   "outputs": [
    {
     "data": {
      "text/plain": [
       "tensor([[100., 200., 300.],\n",
       "        [200., 400., 600.],\n",
       "        [300., 600., 900.]])"
      ]
     },
     "execution_count": 86,
     "metadata": {},
     "output_type": "execute_result"
    }
   ],
   "source": [
    "c2*c3"
   ]
  },
  {
   "cell_type": "markdown",
   "id": "12dafa19",
   "metadata": {},
   "source": [
    "When opearating on 2 arrays/tensors np/pyt compares their shapes.\n",
    "Starting from the last dim, it compares if the 2 dims are compatible, where \n",
    "2 dims are compatible if:\n",
    "- they are equal\n",
    "- one of them is 1 (or missing); the dim==1 (or missing) is broadcasted to match the other\n",
    "\n",
    "Broadcasting works for whatever can be used between two ints eg >;<; ==; !=\n",
    "\n",
    "An example is to normalize an image ie divide each pixel in each channel by a value, suppose we have a pic:\n",
    "- [256 x 256 x 3]\n",
    "- [            3]\n",
    "\n",
    "then the second vector is broadcasted as: [256 x 256 x 3]\n",
    "\n"
   ]
  },
  {
   "cell_type": "markdown",
   "id": "a42e2e01",
   "metadata": {},
   "source": [
    "# Rebuild matMul using broadcasting:\n",
    "factors: batch1, weights"
   ]
  },
  {
   "cell_type": "code",
   "execution_count": 87,
   "id": "fde2d7a0",
   "metadata": {},
   "outputs": [
    {
     "data": {
      "text/plain": [
       "torch.Size([784])"
      ]
     },
     "execution_count": 87,
     "metadata": {},
     "output_type": "execute_result"
    }
   ],
   "source": [
    "m1 = batch1[0]\n",
    "m1.shape"
   ]
  },
  {
   "cell_type": "code",
   "execution_count": 88,
   "id": "37e32dd0",
   "metadata": {},
   "outputs": [
    {
     "data": {
      "text/plain": [
       "torch.Size([784, 10])"
      ]
     },
     "execution_count": 88,
     "metadata": {},
     "output_type": "execute_result"
    }
   ],
   "source": [
    "weights.shape"
   ]
  },
  {
   "cell_type": "code",
   "execution_count": 90,
   "id": "3a5847f5",
   "metadata": {},
   "outputs": [],
   "source": [
    "# m1* weights # without correct dims it does not work!"
   ]
  },
  {
   "cell_type": "code",
   "execution_count": 91,
   "id": "36cafd1f",
   "metadata": {},
   "outputs": [
    {
     "data": {
      "text/plain": [
       "torch.Size([784, 1])"
      ]
     },
     "execution_count": 91,
     "metadata": {},
     "output_type": "execute_result"
    }
   ],
   "source": [
    "m1[:, None].shape # cast row feature vector to col vect"
   ]
  },
  {
   "cell_type": "code",
   "execution_count": 92,
   "id": "9cd73a05",
   "metadata": {},
   "outputs": [
    {
     "data": {
      "text/plain": [
       "torch.Size([784, 10])"
      ]
     },
     "execution_count": 92,
     "metadata": {},
     "output_type": "execute_result"
    }
   ],
   "source": [
    "m1[:, None].expand_as(weights).shape\n",
    "# this creates 10 col vectors containing our feature vector\n",
    "# this is what actually happens when broadcasting\n",
    "# we have 10 linear projections we are doing for our linear model\n",
    "\n",
    "# each col of the weight matrix defines a linear combination \n",
    "# of the (replicated) input feature vector "
   ]
  },
  {
   "cell_type": "code",
   "execution_count": 93,
   "id": "ef6a6d89",
   "metadata": {},
   "outputs": [
    {
     "data": {
      "text/plain": [
       "tensor([[-0., -0., -0.,  ..., -0., -0., 0.],\n",
       "        [-0., -0., -0.,  ..., -0., 0., 0.],\n",
       "        [0., 0., -0.,  ..., -0., 0., -0.],\n",
       "        ...,\n",
       "        [0., 0., -0.,  ..., 0., 0., -0.],\n",
       "        [0., 0., 0.,  ..., -0., 0., -0.],\n",
       "        [-0., 0., -0.,  ..., -0., -0., 0.]])"
      ]
     },
     "execution_count": 93,
     "metadata": {},
     "output_type": "execute_result"
    }
   ],
   "source": [
    "m1[:, None] * weights\n",
    "# since we can use broadcast we can just multiply the feature vector \n",
    "# with the weights "
   ]
  },
  {
   "cell_type": "code",
   "execution_count": 94,
   "id": "b7d9aeb4",
   "metadata": {},
   "outputs": [
    {
     "data": {
      "text/plain": [
       "torch.Size([784, 10])"
      ]
     },
     "execution_count": 94,
     "metadata": {},
     "output_type": "execute_result"
    }
   ],
   "source": [
    "(m1[:, None] * weights).shape"
   ]
  },
  {
   "cell_type": "code",
   "execution_count": 95,
   "id": "ce81f357",
   "metadata": {},
   "outputs": [],
   "source": [
    "# thus we can write matMul as following using broadcasting\n",
    "def matMul(a,b):\n",
    "    ar, ac = a.shape\n",
    "    br, bc = b.shape\n",
    "    res = torch.zeros(ar, bc)\n",
    "    \n",
    "    for rowIdx in (range(ar)):\n",
    "        # a[rowIdx, :, None] instead of unsqueeze\n",
    "        res[rowIdx] = (a[rowIdx].unsqueeze(dim=1) * b).sum(dim=0)\n",
    "        # in .sum -> dim (int or tuple of ints, optional) \n",
    "        # is the dimension or dimensions to reduce. \n",
    "        # If None, all dimensions are reduced.\n",
    "    return res"
   ]
  },
  {
   "cell_type": "code",
   "execution_count": 96,
   "id": "ef293fa1",
   "metadata": {},
   "outputs": [
    {
     "data": {
      "text/plain": [
       "tensor([[  0.96,  -2.96,  -2.11,   0.27,   1.28,  -5.20, -10.31, -15.09, -17.69,   0.60],\n",
       "        [  6.89,  -0.34,   0.79, -14.74,   6.90,  -3.08, -15.04, -17.13, -25.36,  16.23],\n",
       "        [-10.18,   7.38,   4.13,   3.27,  13.88,  -5.15,  -7.14,  -6.73,  -6.79,  -1.58],\n",
       "        [  0.97,   2.39, -15.22,   7.73,  -8.19, -12.33,  -5.98,  -1.17,   7.05,  -1.42],\n",
       "        [  6.85,  14.07, -11.92,   2.34,   4.62,  -3.37,  -5.47,  -0.65, -30.56,   7.88]])"
      ]
     },
     "execution_count": 96,
     "metadata": {},
     "output_type": "execute_result"
    }
   ],
   "source": [
    "matMul(batch1, weights)"
   ]
  },
  {
   "cell_type": "code",
   "execution_count": 97,
   "id": "41146ed2",
   "metadata": {
    "scrolled": true
   },
   "outputs": [],
   "source": [
    "test_close(res, matMul(batch1, weights))"
   ]
  },
  {
   "cell_type": "code",
   "execution_count": 98,
   "id": "a72967d4",
   "metadata": {},
   "outputs": [
    {
     "name": "stdout",
     "output_type": "stream",
     "text": [
      "176 µs ± 19.3 µs per loop (mean ± std. dev. of 7 runs, 50 loops each)\n"
     ]
    }
   ],
   "source": [
    "%timeit -n 50 matMul(batch1, weights)"
   ]
  },
  {
   "cell_type": "code",
   "execution_count": 99,
   "id": "e55cd665",
   "metadata": {},
   "outputs": [
    {
     "data": {
      "text/plain": [
       "'\\nbatch1[0] select row vect\\nthe row vect has only cols\\nso we want to select all the cols and then add a dimension to it\\ngiven the the first'"
      ]
     },
     "execution_count": 99,
     "metadata": {},
     "output_type": "execute_result"
    }
   ],
   "source": [
    "# why? \n",
    "# a[idx, :, None]\n",
    "batch1[0,:,None].shape\n",
    "\n",
    "'''\n",
    "batch1[0] select row vect\n",
    "the row vect has only cols\n",
    "so we want to select all the cols and then add a dimension to it\n",
    "given the the first'''"
   ]
  },
  {
   "cell_type": "code",
   "execution_count": 100,
   "id": "8cf4b1f1",
   "metadata": {},
   "outputs": [],
   "source": [
    "# so fast we can now do it with all the dataset\n",
    "tr = matMul(x_train, weights)"
   ]
  },
  {
   "cell_type": "code",
   "execution_count": 101,
   "id": "eaa21430",
   "metadata": {},
   "outputs": [
    {
     "name": "stdout",
     "output_type": "stream",
     "text": [
      "CPU times: total: 2.09 s\n",
      "Wall time: 1.69 s\n"
     ]
    },
    {
     "data": {
      "text/plain": [
       "tensor([[  0.96,  -2.96,  -2.11,  ..., -15.09, -17.69,   0.60],\n",
       "        [  6.89,  -0.34,   0.79,  ..., -17.13, -25.36,  16.23],\n",
       "        [-10.18,   7.38,   4.13,  ...,  -6.73,  -6.79,  -1.58],\n",
       "        ...,\n",
       "        [  7.40,   7.64,  -3.50,  ...,  -1.02, -16.22,   2.07],\n",
       "        [  3.25,   9.52,  -9.37,  ...,   2.98, -19.58,  -1.96],\n",
       "        [ 15.70,   4.12,  -5.62,  ...,   8.08, -12.21,   0.42]])"
      ]
     },
     "execution_count": 101,
     "metadata": {},
     "output_type": "execute_result"
    }
   ],
   "source": [
    "%time matMul(x_train, weights)"
   ]
  },
  {
   "cell_type": "code",
   "execution_count": 102,
   "id": "4f4240bc",
   "metadata": {},
   "outputs": [
    {
     "data": {
      "text/plain": [
       "torch.Size([50000, 10])"
      ]
     },
     "execution_count": 102,
     "metadata": {},
     "output_type": "execute_result"
    }
   ],
   "source": [
    "tr.shape"
   ]
  },
  {
   "cell_type": "markdown",
   "id": "0888aaac",
   "metadata": {},
   "source": [
    "# Einstein Summation\n",
    "Compact representation for combining products and sums in a general way.\n",
    "Rules:\n",
    "- Repeating letter between input arrays means that vaules along those axes will be multiplied together\n",
    "- Omitting a letter form the output means that values along that axis will be summed"
   ]
  },
  {
   "cell_type": "markdown",
   "id": "5ce84b0f",
   "metadata": {},
   "source": [
    "Example of string representing an einstein summation:\n",
    "> ik,kj->ikj\n",
    "\n",
    "left side: input -> right side: output\n",
    "- 2 inputs divided by the , \n",
    "- first input: i rows, k cols\n",
    "- second input: k cols and j rows\n",
    "- output: a rank 2 tensor with i \"faces\", k rows, j cols\n",
    "\n",
    "In the inputs for each letter that is repeated then the rows/cols of pointed by that char are multiplied together:\n",
    "- all the k elements that represent a row of the first matrix are going to be multiplied element-wise with all the elements that represent a col of second input "
   ]
  },
  {
   "cell_type": "code",
   "execution_count": 103,
   "id": "ab9ebfe6",
   "metadata": {},
   "outputs": [
    {
     "data": {
      "text/plain": [
       "(torch.Size([5, 784]), torch.Size([784, 10]))"
      ]
     },
     "execution_count": 103,
     "metadata": {},
     "output_type": "execute_result"
    }
   ],
   "source": [
    "batch1.shape, weights.shape"
   ]
  },
  {
   "cell_type": "code",
   "execution_count": 104,
   "id": "3f2db05d",
   "metadata": {},
   "outputs": [
    {
     "data": {
      "text/plain": [
       "torch.Size([5, 784, 10])"
      ]
     },
     "execution_count": 104,
     "metadata": {},
     "output_type": "execute_result"
    }
   ],
   "source": [
    "mr = torch.einsum('ik,kj->ikj', batch1, weights) # core idea: remove idxs\n",
    "mr.shape"
   ]
  },
  {
   "cell_type": "code",
   "execution_count": 105,
   "id": "289a660c",
   "metadata": {},
   "outputs": [
    {
     "data": {
      "text/plain": [
       "tensor([[  0.96,  -2.96,  -2.11,   0.27,   1.28,  -5.20, -10.31, -15.09, -17.69,   0.60],\n",
       "        [  6.89,  -0.34,   0.79, -14.74,   6.90,  -3.08, -15.04, -17.13, -25.36,  16.23],\n",
       "        [-10.18,   7.38,   4.13,   3.27,  13.88,  -5.15,  -7.14,  -6.73,  -6.79,  -1.58],\n",
       "        [  0.97,   2.39, -15.22,   7.73,  -8.19, -12.33,  -5.98,  -1.17,   7.05,  -1.42],\n",
       "        [  6.85,  14.07, -11.92,   2.34,   4.62,  -3.37,  -5.47,  -0.65, -30.56,   7.88]])"
      ]
     },
     "execution_count": 105,
     "metadata": {},
     "output_type": "execute_result"
    }
   ],
   "source": [
    "mr.sum(1)"
   ]
  },
  {
   "cell_type": "code",
   "execution_count": 106,
   "id": "569e2736",
   "metadata": {},
   "outputs": [],
   "source": [
    "test_close(res, mr.sum(1))"
   ]
  },
  {
   "cell_type": "markdown",
   "id": "1760745d",
   "metadata": {},
   "source": [
    "It takes each feature vector from X, transposes it to broadcast it to make it match the sizes of the weight matrix. For each feature vector (i) thus it is created a k,j matrix that has to reduced over the dim = 1"
   ]
  },
  {
   "cell_type": "code",
   "execution_count": 107,
   "id": "9bce03b7",
   "metadata": {},
   "outputs": [],
   "source": [
    "def matMul(a,b):\n",
    "    return torch.einsum('ik,kj->ij', a, b)"
   ]
  },
  {
   "cell_type": "code",
   "execution_count": 114,
   "id": "8fe0a683",
   "metadata": {},
   "outputs": [],
   "source": [
    "test_close(res, matMul(batch1, weights), eps=1e-3)"
   ]
  },
  {
   "cell_type": "code",
   "execution_count": 119,
   "id": "6ca7c6e0",
   "metadata": {},
   "outputs": [
    {
     "name": "stdout",
     "output_type": "stream",
     "text": [
      "CPU times: total: 0 ns\n",
      "Wall time: 11 ms\n"
     ]
    },
    {
     "data": {
      "text/plain": [
       "tensor([[  0.96,  -2.96,  -2.11,  ..., -15.09, -17.69,   0.60],\n",
       "        [  6.89,  -0.34,   0.79,  ..., -17.13, -25.36,  16.23],\n",
       "        [-10.18,   7.38,   4.13,  ...,  -6.73,  -6.79,  -1.58],\n",
       "        ...,\n",
       "        [  7.40,   7.64,  -3.50,  ...,  -1.02, -16.22,   2.07],\n",
       "        [  3.25,   9.52,  -9.37,  ...,   2.98, -19.58,  -1.96],\n",
       "        [ 15.70,   4.12,  -5.62,  ...,   8.08, -12.21,   0.42]])"
      ]
     },
     "execution_count": 119,
     "metadata": {},
     "output_type": "execute_result"
    }
   ],
   "source": [
    "%time matMul(x_train, weights)"
   ]
  },
  {
   "cell_type": "code",
   "execution_count": 120,
   "id": "445dc148",
   "metadata": {},
   "outputs": [
    {
     "data": {
      "text/plain": [
       "torch.Size([50000, 10])"
      ]
     },
     "execution_count": 120,
     "metadata": {},
     "output_type": "execute_result"
    }
   ],
   "source": [
    "tr = matMul(x_train, weights)\n",
    "tr.shape"
   ]
  },
  {
   "cell_type": "markdown",
   "id": "8a993534",
   "metadata": {},
   "source": [
    "# Pytorch op"
   ]
  },
  {
   "cell_type": "code",
   "execution_count": 121,
   "id": "178e1498",
   "metadata": {},
   "outputs": [
    {
     "name": "stdout",
     "output_type": "stream",
     "text": [
      "CPU times: total: 31.2 ms\n",
      "Wall time: 9.76 ms\n"
     ]
    },
    {
     "data": {
      "text/plain": [
       "tensor([[  0.96,  -2.96,  -2.11,  ..., -15.09, -17.69,   0.60],\n",
       "        [  6.89,  -0.34,   0.79,  ..., -17.13, -25.36,  16.23],\n",
       "        [-10.18,   7.38,   4.13,  ...,  -6.73,  -6.79,  -1.58],\n",
       "        ...,\n",
       "        [  7.40,   7.64,  -3.50,  ...,  -1.02, -16.22,   2.07],\n",
       "        [  3.25,   9.52,  -9.37,  ...,   2.98, -19.58,  -1.96],\n",
       "        [ 15.70,   4.12,  -5.62,  ...,   8.08, -12.21,   0.42]])"
      ]
     },
     "execution_count": 121,
     "metadata": {},
     "output_type": "execute_result"
    }
   ],
   "source": [
    "atOp = x_train@weights\n",
    "%time x_train@weights"
   ]
  },
  {
   "cell_type": "code",
   "execution_count": 122,
   "id": "e6a2aa6c",
   "metadata": {},
   "outputs": [
    {
     "name": "stdout",
     "output_type": "stream",
     "text": [
      "CPU times: total: 62.5 ms\n",
      "Wall time: 9.78 ms\n"
     ]
    },
    {
     "data": {
      "text/plain": [
       "tensor([[  0.96,  -2.96,  -2.11,  ..., -15.09, -17.69,   0.60],\n",
       "        [  6.89,  -0.34,   0.79,  ..., -17.13, -25.36,  16.23],\n",
       "        [-10.18,   7.38,   4.13,  ...,  -6.73,  -6.79,  -1.58],\n",
       "        ...,\n",
       "        [  7.40,   7.64,  -3.50,  ...,  -1.02, -16.22,   2.07],\n",
       "        [  3.25,   9.52,  -9.37,  ...,   2.98, -19.58,  -1.96],\n",
       "        [ 15.70,   4.12,  -5.62,  ...,   8.08, -12.21,   0.42]])"
      ]
     },
     "execution_count": 122,
     "metadata": {},
     "output_type": "execute_result"
    }
   ],
   "source": [
    "opMatMul = torch.matmul(x_train, weights)\n",
    "%time x_train@weights"
   ]
  },
  {
   "cell_type": "markdown",
   "id": "b5e57b6c",
   "metadata": {},
   "source": [
    "# Cuda"
   ]
  },
  {
   "cell_type": "markdown",
   "id": "f94cd2d4",
   "metadata": {},
   "source": [
    "Let's try to recreate gpu parallelization in pure python. Or actually let's try to write a program that acts like gpu parallel execution"
   ]
  },
  {
   "cell_type": "code",
   "execution_count": 150,
   "id": "a7036838",
   "metadata": {},
   "outputs": [
    {
     "data": {
      "text/plain": [
       "torch.Size([5, 10])"
      ]
     },
     "execution_count": 150,
     "metadata": {},
     "output_type": "execute_result"
    }
   ],
   "source": [
    "# let's see how can we compute mat mul in the most parallelizable way:\n",
    "# compute each entry of the result in parallel!\n",
    "res = torch.zeros(batch1.shape[0], weights.shape[1])\n",
    "res.shape"
   ]
  },
  {
   "cell_type": "code",
   "execution_count": 151,
   "id": "06a5f684",
   "metadata": {},
   "outputs": [
    {
     "data": {
      "text/plain": [
       "(torch.Size([5, 784]), torch.Size([784, 10]))"
      ]
     },
     "execution_count": 151,
     "metadata": {},
     "output_type": "execute_result"
    }
   ],
   "source": [
    "batch1.shape, weights.shape"
   ]
  },
  {
   "cell_type": "code",
   "execution_count": 152,
   "id": "916e987d",
   "metadata": {},
   "outputs": [],
   "source": [
    "grid = [0,0]\n",
    "ac = batch1.shape[1]\n",
    "for i in range(ac):\n",
    "    res[grid[0], grid[1]] += batch1[grid[0], i] * weights[i, grid[1]]"
   ]
  },
  {
   "cell_type": "code",
   "execution_count": 153,
   "id": "1d96ab99",
   "metadata": {},
   "outputs": [
    {
     "data": {
      "text/plain": [
       "tensor([[0.96, 0.00, 0.00, 0.00, 0.00, 0.00, 0.00, 0.00, 0.00, 0.00],\n",
       "        [0.00, 0.00, 0.00, 0.00, 0.00, 0.00, 0.00, 0.00, 0.00, 0.00],\n",
       "        [0.00, 0.00, 0.00, 0.00, 0.00, 0.00, 0.00, 0.00, 0.00, 0.00],\n",
       "        [0.00, 0.00, 0.00, 0.00, 0.00, 0.00, 0.00, 0.00, 0.00, 0.00],\n",
       "        [0.00, 0.00, 0.00, 0.00, 0.00, 0.00, 0.00, 0.00, 0.00, 0.00]])"
      ]
     },
     "execution_count": 153,
     "metadata": {},
     "output_type": "execute_result"
    }
   ],
   "source": [
    "res"
   ]
  },
  {
   "cell_type": "code",
   "execution_count": 154,
   "id": "de6d5706",
   "metadata": {},
   "outputs": [],
   "source": [
    "res = torch.zeros(batch1.shape[0], weights.shape[1])\n",
    "\n",
    "def matMul(grid, a, b, res):\n",
    "    r, c = grid\n",
    "    ar, ac = a.shape\n",
    "    # add preco on grid wrt sizes\n",
    "    for i in range(ac):\n",
    "        res[r, c] += batch1[r, i] * weights[i, c]"
   ]
  },
  {
   "cell_type": "code",
   "execution_count": 155,
   "id": "a681b4e6",
   "metadata": {},
   "outputs": [],
   "source": [
    "matMul([0,0], batch1, weights, res)"
   ]
  },
  {
   "cell_type": "code",
   "execution_count": 156,
   "id": "94c5cbe1",
   "metadata": {},
   "outputs": [
    {
     "data": {
      "text/plain": [
       "tensor([[0.96, 0.00, 0.00, 0.00, 0.00, 0.00, 0.00, 0.00, 0.00, 0.00],\n",
       "        [0.00, 0.00, 0.00, 0.00, 0.00, 0.00, 0.00, 0.00, 0.00, 0.00],\n",
       "        [0.00, 0.00, 0.00, 0.00, 0.00, 0.00, 0.00, 0.00, 0.00, 0.00],\n",
       "        [0.00, 0.00, 0.00, 0.00, 0.00, 0.00, 0.00, 0.00, 0.00, 0.00],\n",
       "        [0.00, 0.00, 0.00, 0.00, 0.00, 0.00, 0.00, 0.00, 0.00, 0.00]])"
      ]
     },
     "execution_count": 156,
     "metadata": {},
     "output_type": "execute_result"
    }
   ],
   "source": [
    "res"
   ]
  },
  {
   "cell_type": "code",
   "execution_count": null,
   "id": "a3216da6",
   "metadata": {},
   "outputs": [],
   "source": [
    "# each piece of code that can compute output on a gpu is called a kernel \n",
    "# so we can launch a kernel"
   ]
  },
  {
   "cell_type": "code",
   "execution_count": 157,
   "id": "c052d2b9",
   "metadata": {},
   "outputs": [],
   "source": [
    "def launchKernel(kernel, maxGridX, maxGridY, *args):\n",
    "    for i in range(maxGridX):\n",
    "        for j in range(maxGridY):\n",
    "            kernel((i,j), *args)\n",
    "            "
   ]
  },
  {
   "cell_type": "code",
   "execution_count": 158,
   "id": "4f21b781",
   "metadata": {},
   "outputs": [],
   "source": [
    "res = torch.zeros(batch1.shape[0], weights.shape[1])\n",
    "launchKernel(matMul, res.shape[0], res.shape[1], batch1, weights, res)"
   ]
  },
  {
   "cell_type": "code",
   "execution_count": 159,
   "id": "1ff306b1",
   "metadata": {},
   "outputs": [
    {
     "data": {
      "text/plain": [
       "tensor([[  0.96,  -2.96,  -2.11,   0.27,   1.28,  -5.20, -10.31, -15.09, -17.69,   0.60],\n",
       "        [  6.89,  -0.34,   0.79, -14.74,   6.90,  -3.08, -15.04, -17.13, -25.36,  16.23],\n",
       "        [-10.18,   7.38,   4.13,   3.27,  13.88,  -5.15,  -7.14,  -6.73,  -6.79,  -1.58],\n",
       "        [  0.97,   2.39, -15.22,   7.73,  -8.19, -12.33,  -5.98,  -1.17,   7.05,  -1.42],\n",
       "        [  6.85,  14.07, -11.92,   2.34,   4.62,  -3.37,  -5.47,  -0.65, -30.56,   7.88]])"
      ]
     },
     "execution_count": 159,
     "metadata": {},
     "output_type": "execute_result"
    }
   ],
   "source": [
    "res"
   ]
  },
  {
   "cell_type": "code",
   "execution_count": null,
   "id": "60eb193f",
   "metadata": {},
   "outputs": [],
   "source": [
    "# to do it in parallel we need to use cuda\n",
    "from numba import cuda\n",
    "# you can compile python code as cuda code  "
   ]
  },
  {
   "cell_type": "code",
   "execution_count": 161,
   "id": "c4f606ea",
   "metadata": {},
   "outputs": [
    {
     "ename": "RuntimeError",
     "evalue": "Found no NVIDIA driver on your system. Please check that you have an NVIDIA GPU and installed a driver from http://www.nvidia.com/Download/index.aspx",
     "output_type": "error",
     "traceback": [
      "\u001b[1;31m---------------------------------------------------------------------------\u001b[0m",
      "\u001b[1;31mRuntimeError\u001b[0m                              Traceback (most recent call last)",
      "Cell \u001b[1;32mIn[161], line 2\u001b[0m\n\u001b[0;32m      1\u001b[0m \u001b[38;5;66;03m# or you can use .cuda() to do counts on gpu, only recalling that u then pass to cpu the out\u001b[39;00m\n\u001b[1;32m----> 2\u001b[0m m1c, m2c \u001b[38;5;241m=\u001b[39m x_train\u001b[38;5;241m.\u001b[39mcuda(), weights\u001b[38;5;241m.\u001b[39mcuda()\n\u001b[0;32m      3\u001b[0m r \u001b[38;5;241m=\u001b[39m (m1c\u001b[38;5;129m@m2c\u001b[39m)\u001b[38;5;241m.\u001b[39mcpu()\n\u001b[0;32m      4\u001b[0m \u001b[38;5;66;03m# or\u001b[39;00m\n",
      "File \u001b[1;32m~\\miniconda3\\envs\\pyt\\Lib\\site-packages\\torch\\cuda\\__init__.py:298\u001b[0m, in \u001b[0;36m_lazy_init\u001b[1;34m()\u001b[0m\n\u001b[0;32m    296\u001b[0m \u001b[38;5;28;01mif\u001b[39;00m \u001b[38;5;124m\"\u001b[39m\u001b[38;5;124mCUDA_MODULE_LOADING\u001b[39m\u001b[38;5;124m\"\u001b[39m \u001b[38;5;129;01mnot\u001b[39;00m \u001b[38;5;129;01min\u001b[39;00m os\u001b[38;5;241m.\u001b[39menviron:\n\u001b[0;32m    297\u001b[0m     os\u001b[38;5;241m.\u001b[39menviron[\u001b[38;5;124m\"\u001b[39m\u001b[38;5;124mCUDA_MODULE_LOADING\u001b[39m\u001b[38;5;124m\"\u001b[39m] \u001b[38;5;241m=\u001b[39m \u001b[38;5;124m\"\u001b[39m\u001b[38;5;124mLAZY\u001b[39m\u001b[38;5;124m\"\u001b[39m\n\u001b[1;32m--> 298\u001b[0m torch\u001b[38;5;241m.\u001b[39m_C\u001b[38;5;241m.\u001b[39m_cuda_init()\n\u001b[0;32m    299\u001b[0m \u001b[38;5;66;03m# Some of the queued calls may reentrantly call _lazy_init();\u001b[39;00m\n\u001b[0;32m    300\u001b[0m \u001b[38;5;66;03m# we need to just return without initializing in that case.\u001b[39;00m\n\u001b[0;32m    301\u001b[0m \u001b[38;5;66;03m# However, we must not let any *other* threads in!\u001b[39;00m\n\u001b[0;32m    302\u001b[0m _tls\u001b[38;5;241m.\u001b[39mis_initializing \u001b[38;5;241m=\u001b[39m \u001b[38;5;28;01mTrue\u001b[39;00m\n",
      "\u001b[1;31mRuntimeError\u001b[0m: Found no NVIDIA driver on your system. Please check that you have an NVIDIA GPU and installed a driver from http://www.nvidia.com/Download/index.aspx"
     ]
    }
   ],
   "source": [
    "# or you can use .cuda() to do counts on gpu, only recalling that u then pass to cpu the out\n",
    "m1c, m2c = x_train.cuda(), weights.cuda()\n",
    "r = (m1c@m2c).cpu()\n",
    "# or\n",
    "r = (m1c@m2c).copy_to_host()"
   ]
  },
  {
   "cell_type": "code",
   "execution_count": null,
   "id": "47dee7dd",
   "metadata": {},
   "outputs": [],
   "source": []
  }
 ],
 "metadata": {
  "kernelspec": {
   "display_name": "Python 3 (ipykernel)",
   "language": "python",
   "name": "python3"
  },
  "language_info": {
   "codemirror_mode": {
    "name": "ipython",
    "version": 3
   },
   "file_extension": ".py",
   "mimetype": "text/x-python",
   "name": "python",
   "nbconvert_exporter": "python",
   "pygments_lexer": "ipython3",
   "version": "3.11.5"
  }
 },
 "nbformat": 4,
 "nbformat_minor": 5
}
