{
 "cells": [
  {
   "cell_type": "markdown",
   "id": "8801b8ff-8925-49d5-aefd-738dd0731ece",
   "metadata": {},
   "source": [
    "Let's use another dataset than mnist to see if everything works the same"
   ]
  },
  {
   "cell_type": "code",
   "execution_count": 4,
   "id": "003f014b-2d61-4dff-a1ee-cd52d3be27cb",
   "metadata": {},
   "outputs": [],
   "source": [
    "import torch\n",
    "import numpy as np\n",
    "import random\n",
    "from torch import nn,tensor\n",
    "import matplotlib.pyplot as plt\n",
    "from datasets import load_dataset\n",
    "from torchmetrics.classification import MulticlassAccuracy \n",
    "import torchvision.transforms.functional as TF\n",
    "from torch.optim.lr_scheduler import OneCycleLR\n",
    "from torch.nn import init\n",
    "import fastcore.all as fc\n",
    "from lib import *\n",
    "from pathlib import Path\n",
    "\n",
    "from torch.optim.lr_scheduler import OneCycleLR\n"
   ]
  },
  {
   "cell_type": "code",
   "execution_count": 5,
   "id": "16d3cdc4-351c-4696-9f7b-a80da112f67a",
   "metadata": {},
   "outputs": [
    {
     "name": "stderr",
     "output_type": "stream",
     "text": [
      "Downloading builder script: 100%|███████████████████████████████| 3.61k/3.61k [00:00<00:00, 11.9MB/s]\n",
      "Downloading metadata: 100%|█████████████████████████████████████| 1.66k/1.66k [00:00<00:00, 5.70MB/s]\n",
      "Downloading readme: 100%|███████████████████████████████████████| 5.00k/5.00k [00:00<00:00, 15.1MB/s]\n",
      "Downloading data: 100%|████████████████████████████████████████████| 170M/170M [07:13<00:00, 393kB/s]\n",
      "Generating train split: 100%|█████████████████████████| 50000/50000 [00:07<00:00, 6424.00 examples/s]\n",
      "Generating test split: 100%|██████████████████████████| 10000/10000 [00:02<00:00, 4626.05 examples/s]\n"
     ]
    },
    {
     "data": {
      "text/plain": [
       "(torch.Size([32, 3, 32, 32]), tensor([0, 6, 0, 2, 7, 2, 1, 2, 4, 1]))"
      ]
     },
     "execution_count": 5,
     "metadata": {},
     "output_type": "execute_result"
    }
   ],
   "source": [
    "set_seed(42)\n",
    "device = \"mps\" if torch.backends.mps.is_available() else 'cuda' if torch.cuda.is_available() else 'cpu'\n",
    "\n",
    "x,y = 'img','label'\n",
    "\n",
    "@inplace\n",
    "def transformi(b): \n",
    "    b[x] = [TF.to_tensor(o)-.5 for o in b[x]]\n",
    "\n",
    "dsd = load_dataset(\"cifar10\")\n",
    "bs = 32\n",
    "tds = dsd.with_transform(transformi)\n",
    "dls = DataLoaders.from_datasetDict(tds, bs)\n",
    "dt = dls.train\n",
    "\n",
    "xb,yb = next(iter(dt))\n",
    "xb.shape,yb[:10]\n"
   ]
  },
  {
   "cell_type": "code",
   "execution_count": 6,
   "id": "03c78702-6824-4456-9553-a9e6b5e95470",
   "metadata": {},
   "outputs": [],
   "source": [
    "def show_img(im, ax=None, figsize=None, title=None, **kwargs):\n",
    "    if ax is None:\n",
    "        _, ax = plt.subplots(figure=figsize)\n",
    "    if im.shape[0] == 3:\n",
    "        ax.imshow(im.permute(1, 2, 0), **kwargs)\n",
    "    else:\n",
    "        ax.imshow(im, **kwargs)\n",
    "    if title:\n",
    "        ax.set_title(title)\n",
    "    ax.axis('off')\n",
    "    return ax\n",
    "\n",
    "def showImgGroup(data, grid=(3,3)):\n",
    "    fig, axs = plt.subplots(grid[0], grid[1])\n",
    "    imgs = data[: (grid[0]* grid[1])]\n",
    "    for ax, img in zip(axs.flat, imgs):\n",
    "        show_img(img.squeeze(), ax)"
   ]
  },
  {
   "cell_type": "code",
   "execution_count": 7,
   "id": "069ee169-8206-43bd-a6ba-a30a147b2080",
   "metadata": {},
   "outputs": [
    {
     "name": "stderr",
     "output_type": "stream",
     "text": [
      "Clipping input data to the valid range for imshow with RGB data ([0..1] for floats or [0..255] for integers).\n",
      "Clipping input data to the valid range for imshow with RGB data ([0..1] for floats or [0..255] for integers).\n",
      "Clipping input data to the valid range for imshow with RGB data ([0..1] for floats or [0..255] for integers).\n",
      "Clipping input data to the valid range for imshow with RGB data ([0..1] for floats or [0..255] for integers).\n",
      "Clipping input data to the valid range for imshow with RGB data ([0..1] for floats or [0..255] for integers).\n",
      "Clipping input data to the valid range for imshow with RGB data ([0..1] for floats or [0..255] for integers).\n",
      "Clipping input data to the valid range for imshow with RGB data ([0..1] for floats or [0..255] for integers).\n",
      "Clipping input data to the valid range for imshow with RGB data ([0..1] for floats or [0..255] for integers).\n",
      "Clipping input data to the valid range for imshow with RGB data ([0..1] for floats or [0..255] for integers).\n"
     ]
    },
    {
     "data": {
      "image/png": "[encoded data removed]",
      "text/plain": [
       "<Figure size 640x480 with 9 Axes>"
      ]
     },
     "metadata": {},
     "output_type": "display_data"
    }
   ],
   "source": [
    "showImgGroup(xb[-9:], grid=(3,3))"
   ]
  },
  {
   "cell_type": "code",
   "execution_count": 8,
   "id": "b814307b-2914-45ca-b17f-f2144392d475",
   "metadata": {},
   "outputs": [],
   "source": [
    "betamin,betamax,n_steps = 0.0001,0.02,1000\n",
    "beta = torch.linspace(betamin, betamax, n_steps)\n",
    "alpha = 1.-beta\n",
    "alphabar = alpha.cumprod(dim=0)\n",
    "sigma = beta.sqrt()"
   ]
  },
  {
   "cell_type": "code",
   "execution_count": 11,
   "id": "99fcdb63-b1dc-4f21-9ef6-b26fac2ab82f",
   "metadata": {},
   "outputs": [
    {
     "name": "stdout",
     "output_type": "stream",
     "text": [
      "Collecting accelerate\n",
      "  Downloading accelerate-0.25.0-py3-none-any.whl.metadata (18 kB)\n",
      "Requirement already satisfied: numpy>=1.17 in /home/marconobile/miniconda3/envs/fastai_venv/lib/python3.10/site-packages (from accelerate) (1.26.2)\n",
      "Requirement already satisfied: packaging>=20.0 in /home/marconobile/miniconda3/envs/fastai_venv/lib/python3.10/site-packages (from accelerate) (23.2)\n",
      "Requirement already satisfied: psutil in /home/marconobile/miniconda3/envs/fastai_venv/lib/python3.10/site-packages (from accelerate) (5.9.6)\n",
      "Requirement already satisfied: pyyaml in /home/marconobile/miniconda3/envs/fastai_venv/lib/python3.10/site-packages (from accelerate) (6.0.1)\n",
      "Requirement already satisfied: torch>=1.10.0 in /home/marconobile/miniconda3/envs/fastai_venv/lib/python3.10/site-packages (from accelerate) (2.1.1)\n",
      "Requirement already satisfied: huggingface-hub in /home/marconobile/miniconda3/envs/fastai_venv/lib/python3.10/site-packages (from accelerate) (0.19.4)\n",
      "Requirement already satisfied: safetensors>=0.3.1 in /home/marconobile/miniconda3/envs/fastai_venv/lib/python3.10/site-packages (from accelerate) (0.4.1)\n",
      "Requirement already satisfied: filelock in /home/marconobile/miniconda3/envs/fastai_venv/lib/python3.10/site-packages (from torch>=1.10.0->accelerate) (3.13.1)\n",
      "Requirement already satisfied: typing-extensions in /home/marconobile/miniconda3/envs/fastai_venv/lib/python3.10/site-packages (from torch>=1.10.0->accelerate) (4.8.0)\n",
      "Requirement already satisfied: sympy in /home/marconobile/miniconda3/envs/fastai_venv/lib/python3.10/site-packages (from torch>=1.10.0->accelerate) (1.12)\n",
      "Requirement already satisfied: networkx in /home/marconobile/miniconda3/envs/fastai_venv/lib/python3.10/site-packages (from torch>=1.10.0->accelerate) (3.2.1)\n",
      "Requirement already satisfied: jinja2 in /home/marconobile/miniconda3/envs/fastai_venv/lib/python3.10/site-packages (from torch>=1.10.0->accelerate) (3.1.2)\n",
      "Requirement already satisfied: fsspec in /home/marconobile/miniconda3/envs/fastai_venv/lib/python3.10/site-packages (from torch>=1.10.0->accelerate) (2023.10.0)\n",
      "Requirement already satisfied: nvidia-cuda-nvrtc-cu12==12.1.105 in /home/marconobile/miniconda3/envs/fastai_venv/lib/python3.10/site-packages (from torch>=1.10.0->accelerate) (12.1.105)\n",
      "Requirement already satisfied: nvidia-cuda-runtime-cu12==12.1.105 in /home/marconobile/miniconda3/envs/fastai_venv/lib/python3.10/site-packages (from torch>=1.10.0->accelerate) (12.1.105)\n",
      "Requirement already satisfied: nvidia-cuda-cupti-cu12==12.1.105 in /home/marconobile/miniconda3/envs/fastai_venv/lib/python3.10/site-packages (from torch>=1.10.0->accelerate) (12.1.105)\n",
      "Requirement already satisfied: nvidia-cudnn-cu12==8.9.2.26 in /home/marconobile/miniconda3/envs/fastai_venv/lib/python3.10/site-packages (from torch>=1.10.0->accelerate) (8.9.2.26)\n",
      "Requirement already satisfied: nvidia-cublas-cu12==12.1.3.1 in /home/marconobile/miniconda3/envs/fastai_venv/lib/python3.10/site-packages (from torch>=1.10.0->accelerate) (12.1.3.1)\n",
      "Requirement already satisfied: nvidia-cufft-cu12==11.0.2.54 in /home/marconobile/miniconda3/envs/fastai_venv/lib/python3.10/site-packages (from torch>=1.10.0->accelerate) (11.0.2.54)\n",
      "Requirement already satisfied: nvidia-curand-cu12==10.3.2.106 in /home/marconobile/miniconda3/envs/fastai_venv/lib/python3.10/site-packages (from torch>=1.10.0->accelerate) (10.3.2.106)\n",
      "Requirement already satisfied: nvidia-cusolver-cu12==11.4.5.107 in /home/marconobile/miniconda3/envs/fastai_venv/lib/python3.10/site-packages (from torch>=1.10.0->accelerate) (11.4.5.107)\n",
      "Requirement already satisfied: nvidia-cusparse-cu12==12.1.0.106 in /home/marconobile/miniconda3/envs/fastai_venv/lib/python3.10/site-packages (from torch>=1.10.0->accelerate) (12.1.0.106)\n",
      "Requirement already satisfied: nvidia-nccl-cu12==2.18.1 in /home/marconobile/miniconda3/envs/fastai_venv/lib/python3.10/site-packages (from torch>=1.10.0->accelerate) (2.18.1)\n",
      "Requirement already satisfied: nvidia-nvtx-cu12==12.1.105 in /home/marconobile/miniconda3/envs/fastai_venv/lib/python3.10/site-packages (from torch>=1.10.0->accelerate) (12.1.105)\n",
      "Requirement already satisfied: triton==2.1.0 in /home/marconobile/miniconda3/envs/fastai_venv/lib/python3.10/site-packages (from torch>=1.10.0->accelerate) (2.1.0)\n",
      "Requirement already satisfied: nvidia-nvjitlink-cu12 in /home/marconobile/miniconda3/envs/fastai_venv/lib/python3.10/site-packages (from nvidia-cusolver-cu12==11.4.5.107->torch>=1.10.0->accelerate) (12.3.101)\n",
      "Requirement already satisfied: requests in /home/marconobile/miniconda3/envs/fastai_venv/lib/python3.10/site-packages (from huggingface-hub->accelerate) (2.31.0)\n",
      "Requirement already satisfied: tqdm>=4.42.1 in /home/marconobile/miniconda3/envs/fastai_venv/lib/python3.10/site-packages (from huggingface-hub->accelerate) (4.66.1)\n",
      "Requirement already satisfied: MarkupSafe>=2.0 in /home/marconobile/miniconda3/envs/fastai_venv/lib/python3.10/site-packages (from jinja2->torch>=1.10.0->accelerate) (2.1.3)\n",
      "Requirement already satisfied: charset-normalizer<4,>=2 in /home/marconobile/miniconda3/envs/fastai_venv/lib/python3.10/site-packages (from requests->huggingface-hub->accelerate) (3.3.2)\n",
      "Requirement already satisfied: idna<4,>=2.5 in /home/marconobile/miniconda3/envs/fastai_venv/lib/python3.10/site-packages (from requests->huggingface-hub->accelerate) (3.6)\n",
      "Requirement already satisfied: urllib3<3,>=1.21.1 in /home/marconobile/miniconda3/envs/fastai_venv/lib/python3.10/site-packages (from requests->huggingface-hub->accelerate) (2.1.0)\n",
      "Requirement already satisfied: certifi>=2017.4.17 in /home/marconobile/miniconda3/envs/fastai_venv/lib/python3.10/site-packages (from requests->huggingface-hub->accelerate) (2023.11.17)\n",
      "Requirement already satisfied: mpmath>=0.19 in /home/marconobile/miniconda3/envs/fastai_venv/lib/python3.10/site-packages (from sympy->torch>=1.10.0->accelerate) (1.3.0)\n",
      "Downloading accelerate-0.25.0-py3-none-any.whl (265 kB)\n",
      "\u001b[2K   \u001b[38;2;114;156;31m━━━━━━━━━━━━━━━━━━━━━━━━━━━━━━━━━━━━━━━━\u001b[0m \u001b[32m265.7/265.7 kB\u001b[0m \u001b[31m42.6 kB/s\u001b[0m eta \u001b[36m0:00:00\u001b[0m31m41.7 kB/s\u001b[0m eta \u001b[36m0:00:01\u001b[0m\n",
      "\u001b[?25hInstalling collected packages: accelerate\n",
      "Successfully installed accelerate-0.25.0\n"
     ]
    }
   ],
   "source": [
    "!pip install accelerate"
   ]
  },
  {
   "cell_type": "code",
   "execution_count": 13,
   "id": "c9a069a1-cfc1-46a9-8b38-e30d11e8976e",
   "metadata": {},
   "outputs": [],
   "source": [
    "from accelerate import Accelerator\n",
    "\n",
    "class AccelerateCB(TrainCB):\n",
    "    order = DeviceCB.order+10\n",
    "    def __init__(self, n_inp=1, mixed_precision=\"fp16\"):\n",
    "        super().__init__(n_inp=n_inp)\n",
    "        self.acc = Accelerator(mixed_precision=mixed_precision)\n",
    "\n",
    "    def before_fit(self, learn):\n",
    "        learn.model,learn.opt,learn.dls.train,learn.dls.valid = self.acc.prepare(\n",
    "            learn.model, learn.opt, learn.dls.train, learn.dls.valid)\n",
    "\n",
    "    def backward(self, learn): \n",
    "        sealf.acc.backward(learn.loss)\n"
   ]
  },
  {
   "cell_type": "code",
   "execution_count": 14,
   "id": "9d149e59-ed1c-43ed-ae7c-e9be54c520b2",
   "metadata": {},
   "outputs": [],
   "source": [
    "def noisify(x0, ᾱ):\n",
    "    device = x0.device\n",
    "    n = len(x0)\n",
    "    t = torch.randint(0, n_steps, (n,), dtype=torch.long)\n",
    "    ε = torch.randn(x0.shape, device=device)\n",
    "    ᾱ_t = ᾱ[t].reshape(-1, 1, 1, 1).to(device)\n",
    "    xt = ᾱ_t.sqrt()*x0 + (1-ᾱ_t).sqrt()*ε\n",
    "    return xt, t.to(device), ε"
   ]
  },
  {
   "cell_type": "code",
   "execution_count": 15,
   "id": "cca5ff0c-f0cc-4996-8280-2ea0c2a7dd4c",
   "metadata": {},
   "outputs": [],
   "source": [
    "def collate_ddpm(batch):\n",
    "    '''\n",
    "    input: [(xi,yi), (xj,yj), ...]\n",
    "    output: (tensor(X_batch_with noise), tensor(noise))\n",
    "    '''\n",
    "    return noisify(default_collate(batch)[x], alphabar)\n",
    "\n",
    "def dl_ddpm(ds): \n",
    "    return DataLoader(ds, batch_size=bs, collate_fn=collate_ddpm, num_workers=4)"
   ]
  },
  {
   "cell_type": "code",
   "execution_count": 16,
   "id": "a3ee1c0b-4b98-4c8d-8f64-3fb20f463684",
   "metadata": {},
   "outputs": [],
   "source": [
    "dls = DataLoaders(dl_ddpm(tds['train']), dl_ddpm(tds['test']))"
   ]
  },
  {
   "cell_type": "code",
   "execution_count": 17,
   "id": "d7a2334d-f739-4bb6-8ead-f6f7b4077ce1",
   "metadata": {},
   "outputs": [],
   "source": [
    "class DDPMCB2(Callback):\n",
    "    def after_predict(self, learn): learn.preds = learn.preds.sample"
   ]
  },
  {
   "cell_type": "code",
   "execution_count": 18,
   "id": "c0db70c0-9cfe-47d3-8104-0a9c17aa3fdf",
   "metadata": {},
   "outputs": [],
   "source": [
    "def init_ddpm(model):\n",
    "    for o in model.down_blocks:\n",
    "        for p in o.resnets:\n",
    "            p.conv2.weight.data.zero_()\n",
    "            for p in fc.L(o.downsamplers): init.orthogonal_(p.conv.weight)\n",
    "\n",
    "    for o in model.up_blocks:\n",
    "        for p in o.resnets: p.conv2.weight.data.zero_()\n",
    "\n",
    "    model.conv_out.weight.data.zero_()"
   ]
  },
  {
   "cell_type": "code",
   "execution_count": 19,
   "id": "f0e774c1-e481-4b5c-8cae-0d2ba59546f2",
   "metadata": {},
   "outputs": [],
   "source": [
    "lr = 1e-2\n",
    "epochs = 8\n",
    "tmax = epochs * len(dls.train)\n",
    "sched = partial(torch.optim.lr_scheduler.OneCycleLR, max_lr = lr, total_steps=tmax)\n",
    "opt_func = partial(optim.Adam, eps=1e-5)"
   ]
  },
  {
   "cell_type": "code",
   "execution_count": 20,
   "id": "a664d08a-f66c-41e5-8b90-8b88c05feed1",
   "metadata": {},
   "outputs": [],
   "source": [
    "from diffusers import UNet2DModel\n",
    "model = UNet2DModel(in_channels=1, out_channels=1, block_out_channels=(16, 32, 64, 128), norm_num_groups=8)\n",
    "\n",
    "init_ddpm(model)\n",
    "scheduler = partial(torch.optim.lr_scheduler.OneCycleLR, total_steps=tmax, max_lr=lr)\n",
    "\n",
    "cbs = [DDPMCB2(), DeviceCB(), ProgressCB(plot=True), MetricCB(),\n",
    "       BatchSchedCB(scheduler), AccelerateCB(n_inp=2)] # HERE U DEFINE THE NUMBER OF INPUTS OF THE MODEL\n",
    "learn = Learner(model, dls, nn.MSELoss(), lr=lr, cbs=cbs, opt_func=opt_func)"
   ]
  },
  {
   "cell_type": "code",
   "execution_count": 21,
   "id": "5244e8aa-3c56-47dd-8c61-b3bd85b39e07",
   "metadata": {},
   "outputs": [],
   "source": [
    "class UNet(UNet2DModel):\n",
    "    def forward(self, x): return super().forward(*x).sample"
   ]
  },
  {
   "cell_type": "code",
   "execution_count": 27,
   "id": "a3ecc5d7-32da-4884-959c-c830f46d1f67",
   "metadata": {},
   "outputs": [],
   "source": [
    "model = UNet(in_channels=3, out_channels=3, block_out_channels=(32, 64, 128, 256), norm_num_groups=8)"
   ]
  },
  {
   "cell_type": "code",
   "execution_count": 28,
   "id": "203e3364-c848-4a75-be7a-2a4eb75ca5d7",
   "metadata": {},
   "outputs": [],
   "source": [
    "#model = UNet2DModel(in_channels=3, out_channels=3, block_out_channels=(32, 64, 128, 256), norm_num_groups=8)"
   ]
  },
  {
   "cell_type": "code",
   "execution_count": 29,
   "id": "8d62b569-4c71-4346-af9f-682a78d4558f",
   "metadata": {},
   "outputs": [],
   "source": [
    "# learn.fit(epochs)\n",
    "mdl_path = Path('models')\n",
    "mdl_path.mkdir(exist_ok=True)\n",
    "#learn.model = torch.load(mdl_path/'fashion_mnist_ddpmMineCPU.pkl')"
   ]
  },
  {
   "cell_type": "code",
   "execution_count": 30,
   "id": "a7391f67-5f55-46a0-9848-462f2596c059",
   "metadata": {},
   "outputs": [],
   "source": [
    "@torch.no_grad()\n",
    "def sample(model, sz):\n",
    "    ps = next(model.parameters())\n",
    "    x_t = torch.randn(sz).to(ps)\n",
    "    preds = []\n",
    "    for t in reversed(range(n_steps)):\n",
    "        t_batch = torch.full((x_t.shape[0],), t, device=ps.device, dtype=torch.long)\n",
    "        z = (torch.randn(x_t.shape) if t > 0 else torch.zeros(x_t.shape)).to(ps)\n",
    "        ᾱ_t1 = alphabar[t-1]  if t > 0 else torch.tensor(1)\n",
    "        b̄_t = 1-alphabar[t]\n",
    "        b̄_t1 = 1-ᾱ_t1\n",
    "        noise = model((x_t, t_batch))\n",
    "        x_0_hat = ((x_t - b̄_t.sqrt() * noise)/alphabar[t].sqrt())\n",
    "        x_t = x_0_hat * ᾱ_t1.sqrt()*(1-alpha[t])/b̄_t + x_t * alpha[t].sqrt()*b̄_t1/b̄_t + sigma[t]*z\n",
    "        preds.append(x_t.float().cpu())\n",
    "    return preds"
   ]
  },
  {
   "cell_type": "code",
   "execution_count": 31,
   "id": "81750113-7208-43e2-ae04-a11655d31251",
   "metadata": {},
   "outputs": [
    {
     "data": {
      "text/plain": [
       "1000"
      ]
     },
     "execution_count": 31,
     "metadata": {},
     "output_type": "execute_result"
    }
   ],
   "source": [
    "samples = sample(model, (1, 3, 32, 32))\n",
    "len(samples)"
   ]
  },
  {
   "cell_type": "code",
   "execution_count": 32,
   "id": "0eff6261-88bf-4d21-a73e-b545ef5328f0",
   "metadata": {},
   "outputs": [],
   "source": [
    "# showImgGroup([samples[-1][i] for i in range(n_samples)], (3,3))"
   ]
  },
  {
   "cell_type": "code",
   "execution_count": 33,
   "id": "13d06508-863d-4a09-842e-46e35e40e902",
   "metadata": {},
   "outputs": [
    {
     "name": "stderr",
     "output_type": "stream",
     "text": [
      "Clipping input data to the valid range for imshow with RGB data ([0..1] for floats or [0..255] for integers).\n"
     ]
    },
    {
     "data": {
      "text/plain": [
       "<matplotlib.image.AxesImage at 0x7f56954d0d90>"
      ]
     },
     "execution_count": 33,
     "metadata": {},
     "output_type": "execute_result"
    },
    {
     "data": {
      "image/png": "[encoded data removed]",
      "text/plain": [
       "<Figure size 640x480 with 1 Axes>"
      ]
     },
     "metadata": {},
     "output_type": "display_data"
    }
   ],
   "source": [
    "plt.imshow(samples[-1].squeeze().permute(1, 2, 0))"
   ]
  },
  {
   "cell_type": "code",
   "execution_count": 34,
   "id": "d4f901e6-0734-489a-b76d-b69a7683edf1",
   "metadata": {},
   "outputs": [
    {
     "data": {
      "text/plain": [
       "torch.Size([1, 3, 32, 32])"
      ]
     },
     "execution_count": 34,
     "metadata": {},
     "output_type": "execute_result"
    }
   ],
   "source": [
    "samples[-1].shape"
   ]
  },
  {
   "cell_type": "code",
   "execution_count": null,
   "id": "cecb6824-462b-4af9-adaf-f49783e16eed",
   "metadata": {},
   "outputs": [],
   "source": []
  }
 ],
 "metadata": {
  "kernelspec": {
   "display_name": "Python 3 (ipykernel)",
   "language": "python",
   "name": "python3"
  },
  "language_info": {
   "codemirror_mode": {
    "name": "ipython",
    "version": 3
   },
   "file_extension": ".py",
   "mimetype": "text/x-python",
   "name": "python",
   "nbconvert_exporter": "python",
   "pygments_lexer": "ipython3",
   "version": "3.10.13"
  }
 },
 "nbformat": 4,
 "nbformat_minor": 5
}
